{
 "cells": [
  {
   "cell_type": "code",
   "execution_count": 1,
   "metadata": {
    "scrolled": true
   },
   "outputs": [
    {
     "data": {
      "application/javascript": [
       "Jupyter.utils.load_extensions('vim_binding/vim_binding');"
      ],
      "text/plain": [
       "<IPython.core.display.Javascript object>"
      ]
     },
     "metadata": {},
     "output_type": "display_data"
    }
   ],
   "source": [
    "%%javascript\n",
    "Jupyter.utils.load_extensions('vim_binding/vim_binding');"
   ]
  },
  {
   "cell_type": "code",
   "execution_count": 2,
   "metadata": {},
   "outputs": [],
   "source": [
    "%display latex\n",
    "\n",
    "def defvars(label, n):\n",
    "    return list(var(label + '_%d' % i) for i in range(n))\n",
    "\n",
    "def defpoly_from_basis(label, basis):\n",
    "    coeffs = defvars(label,len(basis))\n",
    "    poly = sum(c*x for c,x in zip(coeffs,basis))\n",
    "    return (coeffs,poly)\n",
    "\n",
    "def defpoly(label, d): \n",
    "    return defpoly_from_basis(label, list(x**i for i in range(d+1)))\n",
    "\n",
    "def subst_poly(poly,table):\n",
    "    return sum((poly.monomial_coefficient(v).subs(table) * v for v in poly.monomials()))"
   ]
  },
  {
   "cell_type": "code",
   "execution_count": 5,
   "metadata": {
    "scrolled": true
   },
   "outputs": [
    {
     "name": "stdout",
     "output_type": "stream",
     "text": [
      "Can we solve V1 alone:\n",
      "True\n"
     ]
    },
    {
     "data": {
      "text/html": [
       "<html><script type=\"math/tex; mode=display\">\\newcommand{\\Bold}[1]{\\mathbf{#1}}\\left[\\left\\{A_{6} : 0, B_{3} : 0, C_{4} : 0, A_{2} : 0, C_{0} : 0, A_{5} : 0, B_{2} : r_{13} - 1, C_{3} : r_{14}, A_{1} : \\frac{1}{r_{13}}, B_{5} : 0, C_{6} : 0, A_{4} : 0, B_{1} : r_{13}, C_{2} : 1, A_{0} : 0, B_{4} : 0, C_{5} : 0, A_{3} : -\\frac{r_{13} - 1}{r_{13}}, B_{0} : r_{13} r_{14}, C_{1} : r_{14}\\right\\}\\right]</script></html>"
      ],
      "text/plain": [
       "[{A_6: 0,\n",
       "  B_3: 0,\n",
       "  C_4: 0,\n",
       "  A_2: 0,\n",
       "  C_0: 0,\n",
       "  A_5: 0,\n",
       "  B_2: r13 - 1,\n",
       "  C_3: r14,\n",
       "  A_1: 1/r13,\n",
       "  B_5: 0,\n",
       "  C_6: 0,\n",
       "  A_4: 0,\n",
       "  B_1: r13,\n",
       "  C_2: 1,\n",
       "  A_0: 0,\n",
       "  B_4: 0,\n",
       "  C_5: 0,\n",
       "  A_3: -(r13 - 1)/r13,\n",
       "  B_0: r13*r14,\n",
       "  C_1: r14}]"
      ]
     },
     "metadata": {},
     "output_type": "display_data"
    },
    {
     "name": "stdout",
     "output_type": "stream",
     "text": [
      "Solutions:\n"
     ]
    },
    {
     "data": {
      "text/html": [
       "<html><script type=\"math/tex; mode=display\">\\newcommand{\\Bold}[1]{\\mathbf{#1}}\\frac{1}{r_{13}} a + \\left(-\\frac{r_{13} - 1}{r_{13}}\\right) \\alpha</script></html>"
      ],
      "text/plain": [
       "1/r13*a + (-(r13 - 1)/r13)*alpha"
      ]
     },
     "metadata": {},
     "output_type": "display_data"
    },
    {
     "data": {
      "text/html": [
       "<html><script type=\"math/tex; mode=display\">\\newcommand{\\Bold}[1]{\\mathbf{#1}}r_{13} b + \\left(r_{13} - 1\\right) \\beta + r_{13} r_{14}</script></html>"
      ],
      "text/plain": [
       "r13*b + (r13 - 1)*beta + r13*r14"
      ]
     },
     "metadata": {},
     "output_type": "display_data"
    },
    {
     "data": {
      "text/html": [
       "<html><script type=\"math/tex; mode=display\">\\newcommand{\\Bold}[1]{\\mathbf{#1}}r_{14} a + c + r_{14} \\alpha</script></html>"
      ],
      "text/plain": [
       "r14*a + c + r14*alpha"
      ]
     },
     "metadata": {},
     "output_type": "display_data"
    }
   ],
   "source": [
    "# Simplified GM17/Gro16 (depends on the equation...) randomisation (w/o x)\n",
    "\n",
    "R.<a,b,c,alpha,beta,gamma,delta,f> = LaurentPolynomialRing(SR)\n",
    "\n",
    "sigma_1 = [1,a,c,alpha,beta,delta,f]\n",
    "sigma_2 = [1,b,beta,gamma,delta,f]\n",
    "\n",
    "A_coeffs,A = defpoly_from_basis('A',sigma_1)\n",
    "B_coeffs,B = defpoly_from_basis('B',sigma_2)\n",
    "C_coeffs,C = defpoly_from_basis('C',sigma_1)\n",
    "\n",
    "V1_1_l = ((a + alpha) * (b + beta) - alpha*beta - f - c)\n",
    "V1_1_r = ((A + alpha) * (B + beta) - alpha*beta - f - C)\n",
    "#V1_1_l = (a*b - alpha*beta - f - c)\n",
    "#V1_1_r = (A*B - alpha*beta - f - C)\n",
    "\n",
    "print(\"Can we solve V1 alone:\")\n",
    "print(len(solve(V1_1_r.coefficients(), A_coeffs + B_coeffs + C_coeffs, solution_dict=True)) > 0)\n",
    "\n",
    "sols = solve((V1_1_r - V1_1_l).coefficients(), A_coeffs + B_coeffs + C_coeffs, solution_dict=True)\n",
    "show(sols)\n",
    "print(\"Solutions:\")\n",
    "for s in sols:    \n",
    "    show(subst_poly(A,s)); show(subst_poly(B,s)); show(subst_poly(C,s))"
   ]
  },
  {
   "cell_type": "code",
   "execution_count": 12,
   "metadata": {},
   "outputs": [
    {
     "data": {
      "text/html": [
       "<html><script type=\"math/tex; mode=display\">\\newcommand{\\Bold}[1]{\\mathbf{#1}}\\left[\\left\\{A_{2} : c_{57}, B_{2} : c_{62}, C_{4} : c_{68}, C_{0} : c_{64}, A_{1} : c_{56}, B_{1} : c_{61}, C_{3} : c_{67}, A_{4} : c_{59}, A_{0} : c_{55}, B_{0} : c_{60}, C_{2} : c_{66}, A_{3} : c_{58}, B_{3} : c_{63}, C_{1} : c_{65}\\right\\}\\right]</script></html>"
      ],
      "text/plain": [
       "[{A_2: c57,\n",
       "  B_2: c62,\n",
       "  C_4: c68,\n",
       "  C_0: c64,\n",
       "  A_1: c56,\n",
       "  B_1: c61,\n",
       "  C_3: c67,\n",
       "  A_4: c59,\n",
       "  A_0: c55,\n",
       "  B_0: c60,\n",
       "  C_2: c66,\n",
       "  A_3: c58,\n",
       "  B_3: c63,\n",
       "  C_1: c65}]"
      ]
     },
     "metadata": {},
     "output_type": "display_data"
    },
    {
     "name": "stdout",
     "output_type": "stream",
     "text": [
      "Solutions:\n"
     ]
    },
    {
     "data": {
      "text/html": [
       "<html><script type=\"math/tex; mode=display\">\\newcommand{\\Bold}[1]{\\mathbf{#1}}c_{57} \\alpha + c_{58} \\beta + c_{59} f + a c_{55} + c c_{56}</script></html>"
      ],
      "text/plain": [
       "c57*alpha + c58*beta + c59*f + a*c55 + c*c56"
      ]
     },
     "metadata": {},
     "output_type": "display_data"
    },
    {
     "data": {
      "text/html": [
       "<html><script type=\"math/tex; mode=display\">\\newcommand{\\Bold}[1]{\\mathbf{#1}}c_{61} \\beta + c_{62} \\gamma + c_{63} f + b c_{60}</script></html>"
      ],
      "text/plain": [
       "c61*beta + c62*gamma + c63*f + b*c60"
      ]
     },
     "metadata": {},
     "output_type": "display_data"
    },
    {
     "data": {
      "text/html": [
       "<html><script type=\"math/tex; mode=display\">\\newcommand{\\Bold}[1]{\\mathbf{#1}}c_{66} \\alpha + c_{67} \\beta + c_{68} f + a c_{64} + c c_{65}</script></html>"
      ],
      "text/plain": [
       "c66*alpha + c67*beta + c68*f + a*c64 + c*c65"
      ]
     },
     "metadata": {},
     "output_type": "display_data"
    }
   ],
   "source": [
    "# (???) Simplified Gro16 randomisation + extra coefficients in V1\n",
    "\n",
    "R.<alpha,beta,gamma,delta,f> = LaurentPolynomialRing(SR)\n",
    "\n",
    "var('a,b,c')\n",
    "sigma_1 = [a,c,alpha,beta,delta,f]\n",
    "sigma_2 = [b,beta,gamma,delta,f]\n",
    "\n",
    "A_coeffs,A = defpoly_from_basis('A',sigma_1)\n",
    "B_coeffs,B = defpoly_from_basis('B',sigma_2)\n",
    "C_coeffs,C = defpoly_from_basis('C',sigma_1)\n",
    "\n",
    "V1_1_l = ((a + alpha) * (b + beta) - alpha*beta - f - c)\n",
    "V1_1_r = V1_1_l(a = A, b = B, c = C)\n",
    "\n",
    "sols = solve((V1_1_r - V1_1_l).coefficients(), A_coeffs + B_coeffs + C_coeffs, solution_dict=True)\n",
    "show(sols)\n",
    "\n",
    "print(\"Solutions:\")\n",
    "for s in sols:    \n",
    "    show(subst_poly(A,s)); show(subst_poly(B,s)); show(subst_poly(C,s))"
   ]
  },
  {
   "cell_type": "code",
   "execution_count": 2,
   "metadata": {
    "scrolled": true
   },
   "outputs": [
    {
     "name": "stdout",
     "output_type": "stream",
     "text": [
      "Can we solve V1 alone from the CRS:\n"
     ]
    },
    {
     "ename": "RuntimeError",
     "evalue": "ECL says: Memory limit reached. Please jump to an outer pointer, quit program and enlarge the\nmemory limits before executing the program again.",
     "output_type": "error",
     "traceback": [
      "\u001b[0;31m------------------------------------------------\u001b[0m",
      "\u001b[0;31mRuntimeError\u001b[0m   Traceback (most recent call last)",
      "\u001b[0;32m<ipython-input-2-281bca22fd49>\u001b[0m in \u001b[0;36m<module>\u001b[0;34m()\u001b[0m\n\u001b[1;32m     46\u001b[0m \u001b[0;34m\u001b[0m\u001b[0m\n\u001b[1;32m     47\u001b[0m \u001b[0;32mprint\u001b[0m\u001b[0;34m(\u001b[0m\u001b[0;34m\"Can we solve V1 alone from the CRS:\"\u001b[0m\u001b[0;34m)\u001b[0m\u001b[0;34m\u001b[0m\u001b[0m\n\u001b[0;32m---> 48\u001b[0;31m \u001b[0msol1\u001b[0m \u001b[0;34m=\u001b[0m \u001b[0msolve\u001b[0m\u001b[0;34m(\u001b[0m\u001b[0mV1_1_r\u001b[0m\u001b[0;34m.\u001b[0m\u001b[0mcoefficients\u001b[0m\u001b[0;34m(\u001b[0m\u001b[0;34m)\u001b[0m\u001b[0;34m,\u001b[0m \u001b[0mA_coeffs\u001b[0m \u001b[0;34m+\u001b[0m \u001b[0mB_coeffs\u001b[0m \u001b[0;34m+\u001b[0m \u001b[0mC_coeffs\u001b[0m \u001b[0;34m+\u001b[0m \u001b[0mas1_phi\u001b[0m\u001b[0;34m,\u001b[0m \u001b[0msolution_dict\u001b[0m\u001b[0;34m=\u001b[0m\u001b[0mTrue\u001b[0m\u001b[0;34m)\u001b[0m\u001b[0;34m\u001b[0m\u001b[0m\n\u001b[0m\u001b[1;32m     49\u001b[0m \u001b[0;32mprint\u001b[0m\u001b[0;34m(\u001b[0m\u001b[0mlen\u001b[0m\u001b[0;34m(\u001b[0m\u001b[0msol1\u001b[0m\u001b[0;34m)\u001b[0m \u001b[0;34m>\u001b[0m \u001b[0mInteger\u001b[0m\u001b[0;34m(\u001b[0m\u001b[0;36m0\u001b[0m\u001b[0;34m)\u001b[0m\u001b[0;34m)\u001b[0m\u001b[0;34m\u001b[0m\u001b[0m\n\u001b[1;32m     50\u001b[0m \u001b[0;32mif\u001b[0m \u001b[0;34m(\u001b[0m\u001b[0mlen\u001b[0m\u001b[0;34m(\u001b[0m\u001b[0msol1\u001b[0m\u001b[0;34m)\u001b[0m \u001b[0;34m>\u001b[0m \u001b[0mInteger\u001b[0m\u001b[0;34m(\u001b[0m\u001b[0;36m0\u001b[0m\u001b[0;34m)\u001b[0m\u001b[0;34m)\u001b[0m\u001b[0;34m:\u001b[0m\u001b[0;34m\u001b[0m\u001b[0m\n",
      "\u001b[0;32m/nix/store/431dvs5pkk82x5fl41ca2gw201gd5k7m-python-2.7.17-env/lib/python2.7/site-packages/sage/symbolic/relation.pyc\u001b[0m in \u001b[0;36msolve\u001b[0;34m(f, *args, **kwds)\u001b[0m\n\u001b[1;32m   1111\u001b[0m     \u001b[0;32mexcept\u001b[0m \u001b[0mException\u001b[0m\u001b[0;34m:\u001b[0m \u001b[0;31m# if Maxima gave an error, try its to_poly_solve\u001b[0m\u001b[0;34m\u001b[0m\u001b[0m\n\u001b[1;32m   1112\u001b[0m         \u001b[0;32mtry\u001b[0m\u001b[0;34m:\u001b[0m\u001b[0;34m\u001b[0m\u001b[0m\n\u001b[0;32m-> 1113\u001b[0;31m             \u001b[0ms\u001b[0m \u001b[0;34m=\u001b[0m \u001b[0mm\u001b[0m\u001b[0;34m.\u001b[0m\u001b[0mto_poly_solve\u001b[0m\u001b[0;34m(\u001b[0m\u001b[0mvariables\u001b[0m\u001b[0;34m)\u001b[0m\u001b[0;34m\u001b[0m\u001b[0m\n\u001b[0m\u001b[1;32m   1114\u001b[0m         \u001b[0;32mexcept\u001b[0m \u001b[0mTypeError\u001b[0m \u001b[0;32mas\u001b[0m \u001b[0mmess\u001b[0m\u001b[0;34m:\u001b[0m \u001b[0;31m# if that gives an error, raise an error.\u001b[0m\u001b[0;34m\u001b[0m\u001b[0m\n\u001b[1;32m   1115\u001b[0m             \u001b[0;32mif\u001b[0m \u001b[0;34m\"Error executing code in Maxima\"\u001b[0m \u001b[0;32min\u001b[0m \u001b[0mstr\u001b[0m\u001b[0;34m(\u001b[0m\u001b[0mmess\u001b[0m\u001b[0;34m)\u001b[0m\u001b[0;34m:\u001b[0m\u001b[0;34m\u001b[0m\u001b[0m\n",
      "\u001b[0;32m/nix/store/431dvs5pkk82x5fl41ca2gw201gd5k7m-python-2.7.17-env/lib/python2.7/site-packages/sage/interfaces/maxima_lib.pyc\u001b[0m in \u001b[0;36mto_poly_solve\u001b[0;34m(self, vars, options)\u001b[0m\n\u001b[1;32m   1115\u001b[0m         \u001b[0;32melse\u001b[0m\u001b[0;34m:\u001b[0m\u001b[0;34m\u001b[0m\u001b[0m\n\u001b[1;32m   1116\u001b[0m             \u001b[0mcmd\u001b[0m\u001b[0;34m=\u001b[0m\u001b[0mEclObject\u001b[0m\u001b[0;34m(\u001b[0m\u001b[0;34m[\u001b[0m\u001b[0;34m[\u001b[0m\u001b[0mmax_to_poly_solve\u001b[0m\u001b[0;34m]\u001b[0m\u001b[0;34m,\u001b[0m \u001b[0mself\u001b[0m\u001b[0;34m.\u001b[0m\u001b[0mecl\u001b[0m\u001b[0;34m(\u001b[0m\u001b[0;34m)\u001b[0m\u001b[0;34m,\u001b[0m \u001b[0msr_to_max\u001b[0m\u001b[0;34m(\u001b[0m\u001b[0mvars\u001b[0m\u001b[0;34m)\u001b[0m\u001b[0;34m]\u001b[0m\u001b[0;34m)\u001b[0m\u001b[0;34m\u001b[0m\u001b[0m\n\u001b[0;32m-> 1117\u001b[0;31m         \u001b[0;32mreturn\u001b[0m \u001b[0mself\u001b[0m\u001b[0;34m.\u001b[0m\u001b[0mparent\u001b[0m\u001b[0;34m(\u001b[0m\u001b[0;34m)\u001b[0m\u001b[0;34m(\u001b[0m\u001b[0mmaxima_eval\u001b[0m\u001b[0;34m(\u001b[0m\u001b[0mcmd\u001b[0m\u001b[0;34m)\u001b[0m\u001b[0;34m)\u001b[0m\u001b[0;34m\u001b[0m\u001b[0m\n\u001b[0m\u001b[1;32m   1118\u001b[0m \u001b[0;34m\u001b[0m\u001b[0m\n\u001b[1;32m   1119\u001b[0m     \u001b[0;32mdef\u001b[0m \u001b[0mdisplay2d\u001b[0m\u001b[0;34m(\u001b[0m\u001b[0mself\u001b[0m\u001b[0;34m,\u001b[0m \u001b[0monscreen\u001b[0m\u001b[0;34m=\u001b[0m\u001b[0mTrue\u001b[0m\u001b[0;34m)\u001b[0m\u001b[0;34m:\u001b[0m\u001b[0;34m\u001b[0m\u001b[0m\n",
      "\u001b[0;32m/nix/store/431dvs5pkk82x5fl41ca2gw201gd5k7m-python-2.7.17-env/lib/python2.7/site-packages/sage/libs/ecl.pyx\u001b[0m in \u001b[0;36msage.libs.ecl.EclObject.__call__ (build/cythonized/sage/libs/ecl.c:7790)\u001b[0;34m()\u001b[0m\n\u001b[1;32m    804\u001b[0m         \"\"\"\n\u001b[1;32m    805\u001b[0m         \u001b[0mlispargs\u001b[0m \u001b[0;34m=\u001b[0m \u001b[0mEclObject\u001b[0m\u001b[0;34m(\u001b[0m\u001b[0mlist\u001b[0m\u001b[0;34m(\u001b[0m\u001b[0margs\u001b[0m\u001b[0;34m)\u001b[0m\u001b[0;34m)\u001b[0m\u001b[0;34m\u001b[0m\u001b[0m\n\u001b[0;32m--> 806\u001b[0;31m         \u001b[0;32mreturn\u001b[0m \u001b[0mecl_wrap\u001b[0m\u001b[0;34m(\u001b[0m\u001b[0mecl_safe_apply\u001b[0m\u001b[0;34m(\u001b[0m\u001b[0mself\u001b[0m\u001b[0;34m.\u001b[0m\u001b[0mobj\u001b[0m\u001b[0;34m,\u001b[0m\u001b[0;34m(\u001b[0m\u001b[0;34m<\u001b[0m\u001b[0mEclObject\u001b[0m\u001b[0;34m>\u001b[0m\u001b[0mlispargs\u001b[0m\u001b[0;34m)\u001b[0m\u001b[0;34m.\u001b[0m\u001b[0mobj\u001b[0m\u001b[0;34m)\u001b[0m\u001b[0;34m)\u001b[0m\u001b[0;34m\u001b[0m\u001b[0m\n\u001b[0m\u001b[1;32m    807\u001b[0m \u001b[0;34m\u001b[0m\u001b[0m\n\u001b[1;32m    808\u001b[0m     \u001b[0;32mdef\u001b[0m \u001b[0m__richcmp__\u001b[0m\u001b[0;34m(\u001b[0m\u001b[0mleft\u001b[0m\u001b[0;34m,\u001b[0m \u001b[0mright\u001b[0m\u001b[0;34m,\u001b[0m \u001b[0mint\u001b[0m \u001b[0mop\u001b[0m\u001b[0;34m)\u001b[0m\u001b[0;34m:\u001b[0m\u001b[0;34m\u001b[0m\u001b[0m\n",
      "\u001b[0;32m/nix/store/431dvs5pkk82x5fl41ca2gw201gd5k7m-python-2.7.17-env/lib/python2.7/site-packages/sage/libs/ecl.pyx\u001b[0m in \u001b[0;36msage.libs.ecl.ecl_safe_apply (build/cythonized/sage/libs/ecl.c:5452)\u001b[0;34m()\u001b[0m\n\u001b[1;32m    376\u001b[0m     \u001b[0;32mif\u001b[0m \u001b[0mecl_nvalues\u001b[0m \u001b[0;34m>\u001b[0m \u001b[0;36m1\u001b[0m\u001b[0;34m:\u001b[0m\u001b[0;34m\u001b[0m\u001b[0m\n\u001b[1;32m    377\u001b[0m         \u001b[0ms\u001b[0m \u001b[0;34m=\u001b[0m \u001b[0msi_coerce_to_base_string\u001b[0m\u001b[0;34m(\u001b[0m\u001b[0mecl_values\u001b[0m\u001b[0;34m(\u001b[0m\u001b[0;36m1\u001b[0m\u001b[0;34m)\u001b[0m\u001b[0;34m)\u001b[0m\u001b[0;34m\u001b[0m\u001b[0m\n\u001b[0;32m--> 378\u001b[0;31m         raise RuntimeError(\"ECL says: {}\".format(\n\u001b[0m\u001b[1;32m    379\u001b[0m             char_to_str(ecl_base_string_pointer_safe(s))))\n\u001b[1;32m    380\u001b[0m     \u001b[0;32melse\u001b[0m\u001b[0;34m:\u001b[0m\u001b[0;34m\u001b[0m\u001b[0m\n",
      "\u001b[0;31mRuntimeError\u001b[0m: ECL says: Memory limit reached. Please jump to an outer pointer, quit program and enlarge the\nmemory limits before executing the program again."
     ]
    }
   ],
   "source": [
    "# Full Gro16 CRS, w/o representation of a,b,c\n",
    "\n",
    "n = 2\n",
    "m = 1\n",
    "l = 0\n",
    "\n",
    "var('a,b,c')\n",
    "var('alpha,beta,gamma,delta,x') # CRS trapdoors\n",
    "\n",
    "as1_phi = list(var('as_1_%d' % i) for i in range(l+1))\n",
    "as2_phi = list(var('as_2_%d' % i) for i in range(l+1))\n",
    "R.<a,b,c,alpha,beta,gamma,delta,x> = LaurentPolynomialRing(SR)\n",
    "t_coeffs,t = defpoly('t',n)\n",
    "\n",
    "us = []\n",
    "uscoeffs = []\n",
    "vs = []\n",
    "vscoeffs = []\n",
    "ws = []\n",
    "wscoeffs = []\n",
    "\n",
    "for i in range(m+1):\n",
    "    u_coeffs,u = defpoly('u_%d'%i,n-1)\n",
    "    us.append(u); uscoeffs.append(u_coeffs)\n",
    "    \n",
    "    v_coeffs,v = defpoly('v_%d'%i,n-1)\n",
    "    vs.append(v); vscoeffs.append(v_coeffs)\n",
    "    \n",
    "    w_coeffs,w = defpoly('w_%d'%i,n-1)\n",
    "    ws.append(w); wscoeffs.append(w_coeffs)\n",
    "\n",
    "# We don't capture the fact that u_i are linearly independent though\n",
    "    \n",
    "sigma_1 = [a,c,alpha,beta,delta] + \\\n",
    "            list(x**i for i in range(n)) + \\\n",
    "            list((beta*us[i] + alpha*vs[i] + ws[i])/gamma for i in range(l+1)) + \\\n",
    "            list((beta*us[i] + alpha*vs[i] + ws[i])/delta for i in range(l+1, m+1)) + \\\n",
    "            list(x**i * t / delta for i in range(n-1))\n",
    "sigma_2 = [b,beta,gamma,delta] + list(x**i for i in range(n))\n",
    "\n",
    "f1 = sum(as1_phi[i] * (beta * us[i] + alpha * vs[i] + ws[i]) for i in range(len(as1_phi)))\n",
    "f2 = sum(as2_phi[i] * (beta * us[i] + alpha * vs[i] + ws[i]) for i in range(len(as2_phi)))\n",
    "\n",
    "A_coeffs,A = defpoly_from_basis('A',sigma_1)\n",
    "B_coeffs,B = defpoly_from_basis('B',sigma_2)\n",
    "C_coeffs,C = defpoly_from_basis('C',sigma_1)\n",
    "\n",
    "V1_1_l = a * b - alpha*beta - f1 - c * delta\n",
    "V1_1_r = A * B - alpha*beta - f1 - C * delta\n",
    "\n",
    "print(\"Can we solve V1 alone from the CRS:\")\n",
    "sol1 = solve(V1_1_r.coefficients(), A_coeffs + B_coeffs + C_coeffs + as1_phi, solution_dict=True)\n",
    "print(len(sol1) > 0)\n",
    "if (len(sol1) > 0):\n",
    "    print(sol1)\n",
    "\n",
    "print(\"Rand equaion solutions:\")\n",
    "sols = solve((V1_1_r - V1_1_l).coefficients(), A_coeffs + B_coeffs + C_coeffs, solution_dict=True)\n",
    "print(len(sols))\n",
    "show(sols[0])\n",
    "for s in sols:    \n",
    "    show(subst_poly(A,s))\n",
    "    show(subst_poly(B,s))\n",
    "    show(subst_poly(C,s))"
   ]
  },
  {
   "cell_type": "code",
   "execution_count": null,
   "metadata": {},
   "outputs": [],
   "source": [
    "show(sols[0])\n",
    "for s in sols:    \n",
    "    show(subst_poly(A,s))\n",
    "    show(subst_poly(B,s))\n",
    "    show(subst_poly(C,s))"
   ]
  },
  {
   "cell_type": "code",
   "execution_count": 10,
   "metadata": {
    "scrolled": true
   },
   "outputs": [
    {
     "name": "stdout",
     "output_type": "stream",
     "text": [
      "Defining alpha, beta, gamma, delta, x, r, s, a_0, a_1, mu_0, mu_1, nu_0, nu_1, a_r, b_r, c_r, sa_0_0, sa_1_0\n"
     ]
    }
   ],
   "source": [
    "# Full Gro16 CRS, WITH representation of a,b,c\n",
    "\n",
    "n = 2\n",
    "m = 1\n",
    "l = 0\n",
    "q = 2\n",
    "\n",
    "var('a_r, b_r, c_r')\n",
    "trapdoors = var('alpha,beta,gamma,delta,x') # CRS trapdoors\n",
    "honest_rand = var('r,s') # random variables we don't know\n",
    "as_phi = list(var('a_%d' % i) for i in range(l+1))\n",
    "as_wit = list(var('a_%d' % i) for i in range(l+1, m+1))\n",
    "as_all = as_phi + as_wit\n",
    "mu = list(var('mu_%d' % i) for i in range(q))\n",
    "nu = list(var('nu_%d' % i) for i in range(q))\n",
    "simphi = list(list(var('sa_%d_%d' % (i,j)) for j in range(l+1)) for i in range(q))\n",
    "flatsimphi = [item for sublist in simphi for item in sublist]\n",
    "\n",
    "ringvars = [alpha,beta,gamma,delta,x,r,s] + as_all + mu + nu + [a_r, b_r, c_r] + flatsimphi\n",
    "R = LaurentPolynomialRing(SR, ringvars)\n",
    "R.inject_variables()\n",
    "\n",
    "t_coeffs,t = defpoly('t',n)\n",
    "h_coeffs,h = defpoly('h',n-2)\n",
    "\n",
    "us = []; uscoeffs = []\n",
    "vs = []; vscoeffs = []\n",
    "ws = []; wscoeffs = []\n",
    "for i in range(m+1):\n",
    "    u_coeffs,u = defpoly('u_%d'%i,n-1)\n",
    "    us.append(u); uscoeffs.append(u_coeffs)\n",
    "    v_coeffs,v = defpoly('v_%d'%i,n-1)\n",
    "    vs.append(v); vscoeffs.append(v_coeffs)\n",
    "    w_coeffs,w = defpoly('w_%d'%i,n-1)\n",
    "    ws.append(w); wscoeffs.append(w_coeffs)\n",
    "\n",
    "sigma_1 = [alpha,beta,delta] + \\\n",
    "            list(x**i for i in range(n)) + \\\n",
    "            list((beta*us[i] + alpha*vs[i] + ws[i])/gamma for i in range(l+1)) + \\\n",
    "            list((beta*us[i] + alpha*vs[i] + ws[i])/delta for i in range(l+1, m+1)) + \\\n",
    "            list(x**i * t / delta for i in range(n-1)) + \\\n",
    "            list(mu[i] for i in range(q)) + \\\n",
    "            list((mu[i] * nu[i] - alpha * beta - sum(simphi[i][j] * (beta * us[j] + alpha * vs[j] + ws[j]) for j in range(l+1)))/delta for i in range(q))\n",
    "sigma_2 = [beta,gamma,delta] + list(x**i for i in range(n)) + \\\n",
    "            list(nu[i] for i in range(q)) \n",
    "\n",
    "var('A_1,A_2,A_3')\n",
    "A4_vars = defvars('A_4', n)\n",
    "A5_vars = defvars('A_5', l+1)\n",
    "A6_vars = defvars('A_6', m-l)\n",
    "A7_vars = defvars('A_7', n-1)\n",
    "A8_vars = defvars('A_8', q)\n",
    "A9_vars = defvars('A_9', q)\n",
    "\n",
    "var('B_1,B_2,B_3')\n",
    "B4_vars = defvars('B_4', n)\n",
    "B5_vars = defvars('B_5', q)\n",
    "\n",
    "var('C_1,C_2,C_3')\n",
    "C4_vars = defvars('C_4', n)\n",
    "C5_vars = defvars('C_5', l+1)\n",
    "C6_vars = defvars('C_6', m-l)\n",
    "C7_vars = defvars('C_7', n-1)\n",
    "C8_vars = defvars('C_8', q)\n",
    "C9_vars = defvars('C_9', q)\n",
    "\n",
    "A_vars = [A_1,A_2,A_3] + A4_vars + A5_vars + A6_vars + A7_vars + A8_vars + A9_vars\n",
    "B_vars = [B_1,B_2,B_3] + B4_vars + B5_vars\n",
    "C_vars = [C_1,C_2,C_3] + C4_vars + C5_vars + C6_vars + C7_vars + C8_vars + C9_vars\n",
    "ABC_vars = A_vars + B_vars + C_vars\n",
    "\n",
    "A = sum(c*x for c,x in zip(A_vars,sigma_1))\n",
    "B = sum(c*x for c,x in zip(B_vars,sigma_2))\n",
    "C = sum(c*x for c,x in zip(C_vars,sigma_1))\n",
    "\n",
    "\n",
    "#a = alpha + sum(as_all[i] * us[i] for i in range(m+1)) + r * delta\n",
    "#b = beta + sum(as_all[i] * vs[i] for i in range(m+1)) + s * delta\n",
    "#c = sum(as_all[i] * (beta * us[i] + alpha * vs[i] + ws[i]) + h * t for i in range(l+1, m+1)) / delta + \\\n",
    "#    a * s + b * r - r * s * delta\n",
    "f = sum(as_all[i] * (beta * us[i] + alpha * vs[i] + ws[i]) for i in range(0,l+1))\n",
    "\n",
    "#sigma_1.insert(0,c)\n",
    "#sigma_1.insert(0,a)\n",
    "#sigma_2.insert(0,b)\n",
    "\n",
    "\n",
    "#inv_vars = list(var('Ainv_0,Ainv_1,Binv_0,Cinv_0,Cinv_1'))\n",
    "#inv_vars = list(var('Ainv_0,Binv_0,Cinv_1'))\n",
    "#inv_eq = A_0 * Ainv_0 + A_1 * Ainv_1 + B_0 * Binv_0 + C_0 * Cinv_0 + C_1 * Cinv_1 - 1\n",
    "#inv_eqs = [A_0 * Ainv_0 - 1, B_0 * Binv_0 - 1, C_1 * Cinv_1 - 1]\n",
    "\n",
    "#V1_1_l = a * b - alpha*beta - f - c * delta\n",
    "V1_1_r = A * B - alpha*beta - f - C * delta\n",
    "\n",
    "#R1 = R.quotient(alpha * beta - gamma); print(R1)\n",
    "#show(tmpvar1)\n",
    "#show(tmpvar2)\n",
    "#show(R1(tmpvar2).lift())\n",
    "\n",
    "# TODO QAP_EQ is of different kind... that's why we don't get the solution. How to properly encode the system?\n",
    "# Represent QAP as equations over A,B,C coeffs using CRS bits?\n",
    "\n",
    "#qap_eq = sum(as_all[i] * us[i] for i in range(m+1)) * sum(as_all[i] * vs[i] for i in range(m+1)) - \\\n",
    "#            sum(as_all[i] * ws[i] for i in range(m+1)) - h * t\n",
    "\n",
    "#system = V1_1_r.coefficients() + inv_eqs + [qap_eq]\n",
    "#show(system)\n",
    "#sols = solve(system, A_coeffs + B_coeffs + C_coeffs + inv_vars, solution_dict=True)\n",
    "#sols = solve(V1_1_r.coefficients(), A_coeffs + B_coeffs + C_coeffs, solution_dict=True)\n",
    "#print(len(sols))\n",
    "\n",
    "\n",
    "#show(a)\n",
    "#R1 = R.quotient(a - a_r); print(R1)\n",
    "#print(\"Solutions V1 + V2:\")\n",
    "#for s in sols:    \n",
    "#    show(subst_poly(Rinv(inv_eq),s))\n",
    "##    show(subst_poly(A,s))\n",
    "#    show(subst_poly(B,s))\n",
    "#    #show(R1(subst_poly(B,s)).lift())\n",
    "##    show(subst_poly(C,s))\n",
    "##    show(subst_poly(A2,s)); show(subst_poly(B2,s)); show(subst_poly(C2,s)); show(subst_poly(B12,s))"
   ]
  },
  {
   "cell_type": "code",
   "execution_count": 11,
   "metadata": {},
   "outputs": [
    {
     "data": {
      "text/html": [
       "<html><script type=\"math/tex; mode=display\">\\newcommand{\\Bold}[1]{\\mathbf{#1}}A_{1} B_{1} - {\\left(A_{9_{0}} + A_{9_{1}}\\right)} B_{3} + C_{9_{0}} + C_{9_{1}} - 1</script></html>"
      ],
      "text/plain": [
       "A_1*B_1 - (A_9_0 + A_9_1)*B_3 + C_9_0 + C_9_1 - 1"
      ]
     },
     "metadata": {},
     "output_type": "display_data"
    },
    {
     "name": "stdout",
     "output_type": "stream",
     "text": [
      "--------------------------\n"
     ]
    }
   ],
   "source": [
    "def print_coeff(coeff):\n",
    "    show(V1_1_r.monomial_coefficient(coeff))\n",
    "#    show(eq_mod.monomial_coefficient(coeff))\n",
    "    print(\"--------------------------\")\n",
    "\n",
    "print_coeff(alpha * beta)\n",
    "#print_coeff(alpha * beta)\n",
    "#print_coeff(alpha * alpha)\n",
    "#print_coeff(beta * beta)\n",
    "#print_coeff(1 / (delta))\n",
    "#print_coeff(alpha / (delta))\n",
    "#print_coeff(alpha / (delta ** 2))"
   ]
  },
  {
   "cell_type": "code",
   "execution_count": null,
   "metadata": {},
   "outputs": [],
   "source": [
    "print(sols)"
   ]
  },
  {
   "cell_type": "code",
   "execution_count": null,
   "metadata": {},
   "outputs": [],
   "source": [
    "# Lip19 randomisability\n",
    "\n",
    "R.<a,b,c,b1,z,alpha,beta,gamma,delta,eta,f,tau> = PolynomialRing(SR)\n",
    "\n",
    "sigma_1 = [a,c,b1,alpha,gamma,delta,alpha*z,beta*z,tau]\n",
    "sigma_2 = [b,alpha,delta,eta,tau]\n",
    "\n",
    "A2_coeffs,A2 = defpoly_from_basis('A',sigma_1)\n",
    "B2_coeffs,B2 = defpoly_from_basis('B',sigma_2)\n",
    "B12_coeffs,B12 = defpoly_from_basis('B1',sigma_1)\n",
    "C2_coeffs,C2 = defpoly_from_basis('C',sigma_1)\n",
    "\n",
    "\n",
    "V1_1_l = ((a + gamma) * (b + delta) - gamma*delta - f - c * alpha)\n",
    "V1_1_r = V1_1_l(a = A2, b = B2, c=C2)\n",
    "\n",
    "print(\"V1: \")\n",
    "show(V1_1_l)\n",
    "\n",
    "sols = solve((V1_1_r - V1_1_l).coefficients(), A2_coeffs + B2_coeffs + C2_coeffs, solution_dict=True)\n",
    "print(\"Solutions V1:\")\n",
    "for s in sols:    \n",
    "    show(subst_poly(A2,s)); show(subst_poly(B2,s)); show(subst_poly(C2,s))\n",
    "\n",
    "V1_2_l = (b1 - (z + tau) * b)\n",
    "V1_2_r = V1_2_l(b = B2, b1 = B12)\n",
    "\n",
    "print (\"V2: \")\n",
    "show(V1_2_l)\n",
    "\n",
    "sols = solve((V1_2_r - V1_2_l).coefficients(), A2_coeffs + B2_coeffs + C2_coeffs + B12_coeffs, solution_dict=True)\n",
    "print(\"Solutions V2:\")\n",
    "for s in sols:    \n",
    "    show(subst_poly(B2,s)); show(subst_poly(B12,s))\n",
    "\n",
    "sols = solve((V1_2_r - V1_2_l).coefficients() + (V1_1_l - V1_1_r).coefficients(), A2_coeffs + B2_coeffs + B12_coeffs + C2_coeffs, solution_dict=True)\n",
    "\n",
    "print(\"Solutions V1 + V2:\")\n",
    "for s in sols:    \n",
    "    show(subst_poly(A2,s)); show(subst_poly(B2,s)); show(subst_poly(C2,s)); show(subst_poly(B12,s))\n"
   ]
  },
  {
   "cell_type": "code",
   "execution_count": null,
   "metadata": {},
   "outputs": [],
   "source": [
    "# Find random-detecting polynomial\n",
    "\n",
    "var('a_r, b_r, c_r')\n",
    "\n",
    "sigma_1.insert(0,A3)\n",
    "sigma_1.insert(0,C3)\n",
    "sigma_2.insert(0,B3)\n",
    "\n",
    "# maximum degree of pairing allowed\n",
    "pD = 2\n",
    "\n",
    "rgs = []\n",
    "rgs_coeffs = []\n",
    "rhs = []\n",
    "rhs_coeffs = []\n",
    "\n",
    "abc_coeffs = []\n",
    "\n",
    "veq = 0\n",
    "\n",
    "for i in range(pD):\n",
    "    rgi_coeffs,rgi = defpoly_from_basis('rg_%d' % i, sigma_1)\n",
    "    rgs.append(rgi); rgs_coeffs.extend(rgi_coeffs)\n",
    "    \n",
    "    rhi_coeffs,rhi = defpoly_from_basis('rh_%d' % i, sigma_2)\n",
    "    rhs.append(rhi); rhs_coeffs.extend(rhi_coeffs)\n",
    "    \n",
    "    abc_coeffs.extend(rgi_coeffs[:4])\n",
    "    abc_coeffs.extend(rhi_coeffs[:2])\n",
    "    \n",
    "    veq = veq + rgi * rhi\n",
    "\n",
    "print(abc_coeffs)\n",
    "#sols = solve(veq.coefficients(), rgs_coeffs + rhs_coeffs, solution_dict=True)"
   ]
  },
  {
   "cell_type": "code",
   "execution_count": null,
   "metadata": {},
   "outputs": [],
   "source": [
    "show(sols[0])\n",
    "rgs_substituted = map(lambda x: subst_poly(x,sols[0]), rgs)\n",
    "rhs_substituted = map(lambda x: subst_poly(x,sols[0]), rhs)\n",
    "\n",
    "show(rgs_substituted)\n",
    "show(rhs_substituted)"
   ]
  },
  {
   "cell_type": "code",
   "execution_count": 31,
   "metadata": {},
   "outputs": [
    {
     "name": "stdout",
     "output_type": "stream",
     "text": [
      "Defining alpha, beta, gamma, x, r\n"
     ]
    }
   ],
   "source": [
    "# GM17 (old) CRS to simplify the attempts to prove it sound without V2\n",
    "\n",
    "n = 2\n",
    "m = 1\n",
    "l = 0\n",
    "q = 0\n",
    "\n",
    "var('alpha,beta,gamma,x') # CRS trapdoors\n",
    "var('r') # proof random\n",
    "\n",
    "s_phi = list(var('s_%d' % i) for i in range(l+1))\n",
    "s_wit = list(var('s_%d' % i) for i in range(l+1,m+1))\n",
    "\n",
    "ringvars = ['alpha','beta','gamma','x','r']\n",
    "#ringvars.extend(list(('s_%d' % i) for i in range(l+1, m+1)))\n",
    "ringvars.extend(list(('mu_%d' % i) for i in range(q)))\n",
    "\n",
    "R = LaurentPolynomialRing(SR, ringvars)\n",
    "R.inject_variables()\n",
    "\n",
    "mu = list(R('mu_%d' % i) for i in range(q))\n",
    "\n",
    "s_all = s_phi + s_wit\n",
    "\n",
    "t_coeffs,t = defpoly('t',n)\n",
    "h_coeffs,h = defpoly('h',n-2)\n",
    "\n",
    "us = []\n",
    "uscoeffs = []\n",
    "vs = []\n",
    "vscoeffs = []\n",
    "ws = []\n",
    "wscoeffs = []\n",
    "\n",
    "for i in range(m+1):\n",
    "    u_coeffs,u = defpoly('u_%d'%i,n-1)\n",
    "    us.append(u); uscoeffs.append(u_coeffs)\n",
    "    \n",
    "    v_coeffs,v = defpoly('v_%d'%i,n-1)\n",
    "    vs.append(v); vscoeffs.append(v_coeffs)\n",
    "    \n",
    "    w_coeffs,w = defpoly('w_%d'%i,n-1)\n",
    "    ws.append(w); wscoeffs.append(w_coeffs)\n",
    "\n",
    "f = sum(s_all[i] * ((alpha + beta) * gamma * us[i] + gamma ** 2 * ws[i]) for i in range(0,l+1))\n",
    "    \n",
    "sigma_1 = [alpha,beta,gamma*t,gamma**2*t**2,(alpha+beta)*gamma*t] + \\\n",
    "            list(gamma * x**i for i in range(n)) + \\\n",
    "            list(gamma ** 2 * t * x**i for i in range(n)) + \\\n",
    "            list(gamma * ws[i] + (alpha+beta) * us[i] for i in range(l+1)) + \\\n",
    "            list(gamma ** 2 * ws[i] + gamma * (alpha+beta) * us[i] for i in range(l+1,m+1)) + \\\n",
    "            list(mu[i] for i in range(q)) + \\\n",
    "            list(mu[i] ** 2 + (alpha + beta) * mu[i] - f for i in range(q))\n",
    "sigma_2 = [1,beta,gamma*t] + \\\n",
    "            list(gamma * x**i for i in range(n)) + \\\n",
    "            list(mu[i] for i in range(q))\n",
    "\n",
    "var('A_1,A_2,A_3,A_4,A_5')\n",
    "A6_vars = defvars('A_6', n)\n",
    "A7_vars = defvars('A_7', n)\n",
    "A8_vars = defvars('A_8', l+1)\n",
    "A9_vars = defvars('A_9', m-l)\n",
    "A10_vars = defvars('A_10', q)\n",
    "A11_vars = defvars('A_11', q)\n",
    "\n",
    "var('B_1,B_2,B_3')\n",
    "B4_vars = defvars('B_4', n)\n",
    "B5_vars = defvars('B_5', q)\n",
    "\n",
    "var('C_1,C_2,C_3,C_4,C_5')\n",
    "C6_vars = defvars('C_6', n)\n",
    "C7_vars = defvars('C_7', n)\n",
    "C8_vars = defvars('C_8', l+1)\n",
    "C9_vars = defvars('C_9', m-l)\n",
    "C10_vars = defvars('C_10', q)\n",
    "C11_vars = defvars('C_11', q)\n",
    "\n",
    "A_vars = [A_1,A_2,A_3,A_4,A_5] + A6_vars + A7_vars + A8_vars + A9_vars + A10_vars + A11_vars\n",
    "B_vars = [B_1,B_2,B_3] + B4_vars + B5_vars\n",
    "C_vars = [C_1,C_2,C_3,C_4,C_5] + C6_vars + C7_vars + C8_vars + C9_vars + C10_vars + C11_vars\n",
    "\n",
    "ABC_vars = A_vars + B_vars + C_vars\n",
    "\n",
    "A = sum(c*x for c,x in zip(A_vars,sigma_1))\n",
    "B = sum(c*x for c,x in zip(B_vars,sigma_2))\n",
    "C = sum(c*x for c,x in zip(C_vars,sigma_1))\n",
    "\n",
    "V1_1_r = (A + alpha) * (B + beta) - alpha*beta - f - C\n",
    "\n",
    "\n",
    "ss_phi = list(var('ss_%d' % i) for i in range(l+1))\n",
    "ss_wit = list(var('ss_%d' % i) for i in range(l+1, m+1))\n",
    "ss_all = ss_phi + ss_wit\n",
    "\n",
    "qsp_eq = sum(ss_all[i] * us[i] for i in range(m+1)) * sum(ss_all[i] * us[i] for i in range(m+1)) - \\\n",
    "            sum(ss_all[i] * ws[i] for i in range(m+1)) - h * t"
   ]
  },
  {
   "cell_type": "code",
   "execution_count": 32,
   "metadata": {},
   "outputs": [
    {
     "data": {
      "text/html": [
       "<html><script type=\"math/tex; mode=display\">\\newcommand{\\Bold}[1]{\\mathbf{#1}}A_{8_{0}} B_{1} u_{0_{1}} - C_{8_{0}} u_{0_{1}}</script></html>"
      ],
      "text/plain": [
       "A_8_0*B_1*u_0_1 - C_8_0*u_0_1"
      ]
     },
     "metadata": {},
     "output_type": "display_data"
    },
    {
     "data": {
      "text/html": [
       "<html><script type=\"math/tex; mode=display\">\\newcommand{\\Bold}[1]{\\mathbf{#1}}A_{8_{0}} B_{1} u_{0_{1}} - C_{8_{0}} u_{0_{1}}</script></html>"
      ],
      "text/plain": [
       "A_8_0*B_1*u_0_1 - C_8_0*u_0_1"
      ]
     },
     "metadata": {},
     "output_type": "display_data"
    },
    {
     "data": {
      "text/html": [
       "<html><script type=\"math/tex; mode=display\">\\newcommand{\\Bold}[1]{\\mathbf{#1}}A_{4} B_{3} t_{2}^{3}</script></html>"
      ],
      "text/plain": [
       "A_4*B_3*t_2^3"
      ]
     },
     "metadata": {},
     "output_type": "display_data"
    },
    {
     "data": {
      "text/html": [
       "<html><script type=\"math/tex; mode=display\">\\newcommand{\\Bold}[1]{\\mathbf{#1}}{\\left(A_{8_{0}} u_{0_{0}} + A_{1} + 1\\right)} {\\left(B_{2} + 1\\right)} - 1</script></html>"
      ],
      "text/plain": [
       "(A_8_0*u_0_0 + A_1 + 1)*(B_2 + 1) - 1"
      ]
     },
     "metadata": {},
     "output_type": "display_data"
    },
    {
     "data": {
      "text/html": [
       "<html><script type=\"math/tex; mode=display\">\\newcommand{\\Bold}[1]{\\mathbf{#1}}{\\left(A_{8_{0}} u_{0_{0}} + A_{2}\\right)} {\\left(B_{2} + 1\\right)}</script></html>"
      ],
      "text/plain": [
       "(A_8_0*u_0_0 + A_2)*(B_2 + 1)"
      ]
     },
     "metadata": {},
     "output_type": "display_data"
    },
    {
     "data": {
      "text/html": [
       "<html><script type=\"math/tex; mode=display\">\\newcommand{\\Bold}[1]{\\mathbf{#1}}0</script></html>"
      ],
      "text/plain": [
       "0"
      ]
     },
     "metadata": {},
     "output_type": "display_data"
    },
    {
     "data": {
      "text/html": [
       "<html><script type=\"math/tex; mode=display\">\\newcommand{\\Bold}[1]{\\mathbf{#1}}A_{5} B_{3} t_{2}^{2}</script></html>"
      ],
      "text/plain": [
       "A_5*B_3*t_2^2"
      ]
     },
     "metadata": {},
     "output_type": "display_data"
    }
   ],
   "source": [
    "def solve_system(target, variables):\n",
    "    system_vars = list(set(flatten(list(x.variables() for x in target))))\n",
    "    relevant_vars = list(filter(lambda y: y in system_vars, variables))\n",
    "    return solve(target, relevant_vars, solution_dict=True, explicit_solutions=True)\n",
    "\n",
    "show(V1_1_r.monomial_coefficient(beta*x))\n",
    "show(V1_1_r.monomial_coefficient(alpha*x))\n",
    "show(V1_1_r.monomial_coefficient(gamma**3 * x**(3*n)))\n",
    "show(V1_1_r.monomial_coefficient(alpha * beta))\n",
    "show(V1_1_r.monomial_coefficient(beta * beta))\n",
    "show(V1_1_r.monomial_coefficient(alpha ** 2))\n",
    "show(V1_1_r.monomial_coefficient(alpha * gamma**2 * x**(2*n)))\n",
    "#show(qsp_eq)"
   ]
  },
  {
   "cell_type": "code",
   "execution_count": null,
   "metadata": {
    "scrolled": true
   },
   "outputs": [],
   "source": [
    "# Interpreting the solution\n",
    "import random\n",
    "import itertools\n",
    "\n",
    "system = V1_1_r.coefficients()\n",
    "totallen = len(system)\n",
    "print(totallen)\n",
    "\n",
    "allmons = V1_1_r.monomials()\n",
    "\n",
    "mons = [alpha * beta, alpha, beta, alpha ** 2, beta ** 2, \\\n",
    "        gamma**3 * x**(3*n), \\\n",
    "        gamma**3 * x**(3*n-1), \\\n",
    "        gamma**3 * x**(3*n-2), \\\n",
    "        gamma**3 * x**(2*n), \\\n",
    "        gamma**3 * x**(2*n-1), \\\n",
    "        gamma**3 * x**(2*n-2), \\\n",
    "        beta * gamma**2 * x**(2*n), \\\n",
    "        beta * gamma**2 * x**(2*n-1), \\\n",
    "        alpha * gamma**2 * x**(2*n), \\\n",
    "        alpha * gamma**2 * x**(2*n-1), \\\n",
    "        \n",
    "        #alpha * beta * x, \\\n",
    "        #alpha * x, \\\n",
    "        #beta ** 2 * gamma * x ** 2, \\\n",
    "        #beta * x, \\\n",
    "        #gamma, \\\n",
    "        #beta ** 2 * gamma, \\\n",
    "        \n",
    "        #beta**2 * gamma * x**n, \\\n",
    "        #beta*alpha * gamma * x**n, \\\n",
    "        #alpha**2 * gamma * x**n, \\\n",
    "        #alpha * beta * gamma * x, \\\n",
    "        #gamma ** 2, \\\n",
    "        #gamma ** 3, \\\n",
    "        #beta**2 * gamma, \\\n",
    "        #alpha * beta * gamma, \\\n",
    "        #alpha * gamma ** 2, \\\n",
    "        #alpha * beta * x, \\\n",
    "        #alpha * gamma, \\\n",
    "        #beta * gamma, \\\n",
    "        #alpha * gamma * x \\\n",
    "       ]\n",
    "mons = allmons\n",
    "print(len(system))\n",
    "\n",
    "\n",
    "system_0 = list(V1_1_r.monomial_coefficient(mon) for mon in mons)\n",
    "sols_0 = solve_system(system_0, ABC_vars + s_all)\n",
    "\n",
    "show(sols_0)\n",
    "\n",
    "#sol = []\n",
    "#solweight = 0\n",
    "#\n",
    "#for i in range(20):\n",
    "#    sol = solve_system(system_0, ABC_vars + s_all)\n",
    "#    show(sol)\n",
    "#    solweight = len(dumps(sol))\n",
    "#    #print(solweight)\n",
    "#    \n",
    "#    notincludedmons = filter(lambda m: m not in mons, allmons)\n",
    "#    \n",
    "#    totry = list(itertools.combinations(notincludedmons, 1))\n",
    "#    random.shuffle(totry)\n",
    "#    if i > 20:\n",
    "#        totry = totry[:5]\n",
    "#    else:\n",
    "#        totry = totry[:50]\n",
    "#    \n",
    "#    all_sols = {}\n",
    "#    \n",
    "#    for ms in totry:\n",
    "#        system = system_0 + list(V1_1_r.monomial_coefficient(m) for m in ms)\n",
    "#        sols = solve_system(system, ABC_vars + s_all)\n",
    "#        if len(sols) == 0:\n",
    "#            print(\"Zero solutions achieved\")\n",
    "#    \n",
    "#        #weight = max(map(lambda x: len(dumps(x)), sols))\n",
    "#        weight = len(dumps(sols))\n",
    "#        #print(weight)\n",
    "#        \n",
    "#        if weight < solweight | weight > solweight + 100:\n",
    "#            all_sols.update({ms:weight})\n",
    "#        \n",
    "#    nextmons = min(all_sols, key=all_sols.get) \n",
    "#    system_0 = system_0 + list(V1_1_r.monomial_coefficient(m) for m in nextmons)\n",
    "#    mons.extend(nextmons)\n",
    "#    \n",
    "#    print(i)\n",
    "#    show(nextmons)"
   ]
  },
  {
   "cell_type": "code",
   "execution_count": null,
   "metadata": {},
   "outputs": [],
   "source": [
    "system = V1_1_r.coefficients()\n",
    "\n",
    "sols = solve_system(system, ABC_vars + s_all)\n",
    "\n",
    "print(len(sols))\n",
    "with open('gm17_full_crs_sols_2.txt', 'w') as file:\n",
    "    file.write(dumps(sols))"
   ]
  },
  {
   "cell_type": "code",
   "execution_count": null,
   "metadata": {},
   "outputs": [],
   "source": [
    "# Interpreting soundness results\n",
    "with open('gm17_full_crs_sols_2.txt', 'r') as file:\n",
    "    content = file.read()\n",
    "    sols = loads(content)\n",
    "    print(len(sols))\n",
    "    if (len(sols) < 6):\n",
    "        for s in sols:    \n",
    "            print('-----------')\n",
    "            show(s)\n",
    "            #show(subst_poly(A,s))\n",
    "            #show(subst_poly(B,s))\n",
    "            #show(subst_poly(C,s))\n",
    "    else:\n",
    "        print(\"not printing sols\")"
   ]
  },
  {
   "cell_type": "code",
   "execution_count": 53,
   "metadata": {},
   "outputs": [
    {
     "name": "stdout",
     "output_type": "stream",
     "text": [
      "2\n",
      "-----------\n"
     ]
    },
    {
     "data": {
      "text/html": [
       "<html><script type=\"math/tex; mode=display\">\\newcommand{\\Bold}[1]{\\mathbf{#1}}\\left\\{C_{7_{1}} : 0, B_{3_{0}} : c_{1} c_{2}^{2} + 2 \\, c_{1} c_{2} + c_{1}, A_{5} : 0, A_{\\mathit{10}_{0}} : 0, A_{1} : -\\frac{c_{2}}{c_{2} + 1}, C_{9_{0}} : 0, B_{4_{0}} : 0, A_{6_{1}} : 0, C_{8_{0}} : 0, B_{3_{1}} : -c_{3}, A_{6_{0}} : 0, C_{5} : c_{1} c_{2} + c_{1}, C_{\\mathit{10}_{0}} : 0, C_{1} : 0, A_{7_{0}} : 0, C_{6_{0}} : 0, C_{\\mathit{11}_{0}} : 0, A_{\\mathit{11}_{0}} : 0, C_{2} : 0, s_{0} : 0, A_{7_{1}} : 0, A_{2} : 0, C_{6_{1}} : 0, B_{1} : c_{2}, C_{3} : 0, A_{3} : c_{1}, A_{8_{0}} : 0, C_{7_{0}} : 0, B_{2} : c_{3}, C_{4} : c_{1}^{2} c_{2}^{2} + 2 \\, c_{1}^{2} c_{2} + c_{1}^{2}, A_{4} : 0, A_{9_{0}} : 0\\right\\}</script></html>"
      ],
      "text/plain": [
       "{C_7_1: 0,\n",
       " B_3_0: c1*c2^2 + 2*c1*c2 + c1,\n",
       " A_5: 0,\n",
       " A_10_0: 0,\n",
       " A_1: -c2/(c2 + 1),\n",
       " C_9_0: 0,\n",
       " B_4_0: 0,\n",
       " A_6_1: 0,\n",
       " C_8_0: 0,\n",
       " B_3_1: -c3,\n",
       " A_6_0: 0,\n",
       " C_5: c1*c2 + c1,\n",
       " C_10_0: 0,\n",
       " C_1: 0,\n",
       " A_7_0: 0,\n",
       " C_6_0: 0,\n",
       " C_11_0: 0,\n",
       " A_11_0: 0,\n",
       " C_2: 0,\n",
       " s_0: 0,\n",
       " A_7_1: 0,\n",
       " A_2: 0,\n",
       " C_6_1: 0,\n",
       " B_1: c2,\n",
       " C_3: 0,\n",
       " A_3: c1,\n",
       " A_8_0: 0,\n",
       " C_7_0: 0,\n",
       " B_2: c3,\n",
       " C_4: c1^2*c2^2 + 2*c1^2*c2 + c1^2,\n",
       " A_4: 0,\n",
       " A_9_0: 0}"
      ]
     },
     "metadata": {},
     "output_type": "display_data"
    },
    {
     "data": {
      "text/html": [
       "<html><script type=\"math/tex; mode=display\">\\newcommand{\\Bold}[1]{\\mathbf{#1}}\\left(c_{1} t_{2}\\right) \\gamma x^{2} + \\left(c_{1} t_{1}\\right) \\gamma x + \\left(-\\frac{c_{2}}{c_{2} + 1}\\right) \\alpha + \\left(c_{1} t_{0}\\right) \\gamma</script></html>"
      ],
      "text/plain": [
       "c1*t_2*gamma*x^2 + c1*t_1*gamma*x + (-c2/(c2 + 1))*alpha + c1*t_0*gamma"
      ]
     },
     "metadata": {},
     "output_type": "display_data"
    },
    {
     "data": {
      "text/html": [
       "<html><script type=\"math/tex; mode=display\">\\newcommand{\\Bold}[1]{\\mathbf{#1}}\\left({\\left(c_{1} c_{2}^{2} + 2 \\, c_{1} c_{2} + c_{1}\\right)} t_{2}\\right) \\gamma x^{2} + \\left({\\left(c_{1} c_{2}^{2} + 2 \\, c_{1} c_{2} + c_{1}\\right)} t_{1}\\right) \\gamma x + c_{2} \\beta + \\left({\\left(c_{1} c_{2}^{2} + 2 \\, c_{1} c_{2} + c_{1}\\right)} t_{0}\\right) \\gamma</script></html>"
      ],
      "text/plain": [
       "((c1*c2^2 + 2*c1*c2 + c1)*t_2)*gamma*x^2 + ((c1*c2^2 + 2*c1*c2 + c1)*t_1)*gamma*x + c2*beta + ((c1*c2^2 + 2*c1*c2 + c1)*t_0)*gamma"
      ]
     },
     "metadata": {},
     "output_type": "display_data"
    },
    {
     "data": {
      "text/html": [
       "<html><script type=\"math/tex; mode=display\">\\newcommand{\\Bold}[1]{\\mathbf{#1}}\\left({\\left(c_{1}^{2} c_{2}^{2} + 2 \\, c_{1}^{2} c_{2} + c_{1}^{2}\\right)} t_{2}^{2}\\right) \\gamma^{2} x^{4} + \\left(2 \\, {\\left(c_{1}^{2} c_{2}^{2} + 2 \\, c_{1}^{2} c_{2} + c_{1}^{2}\\right)} t_{1} t_{2}\\right) \\gamma^{2} x^{3} + \\left({\\left(c_{1} c_{2} + c_{1}\\right)} t_{2}\\right) \\alpha \\gamma x^{2} + \\left({\\left(c_{1} c_{2} + c_{1}\\right)} t_{2}\\right) \\beta \\gamma x^{2} + \\left({\\left(c_{1}^{2} c_{2}^{2} + 2 \\, c_{1}^{2} c_{2} + c_{1}^{2}\\right)} {\\left(t_{1}^{2} + 2 \\, t_{0} t_{2}\\right)}\\right) \\gamma^{2} x^{2} + \\left({\\left(c_{1} c_{2} + c_{1}\\right)} t_{1}\\right) \\alpha \\gamma x + \\left({\\left(c_{1} c_{2} + c_{1}\\right)} t_{1}\\right) \\beta \\gamma x + \\left(2 \\, {\\left(c_{1}^{2} c_{2}^{2} + 2 \\, c_{1}^{2} c_{2} + c_{1}^{2}\\right)} t_{0} t_{1}\\right) \\gamma^{2} x + \\left({\\left(c_{1} c_{2} + c_{1}\\right)} t_{0}\\right) \\alpha \\gamma + \\left({\\left(c_{1} c_{2} + c_{1}\\right)} t_{0}\\right) \\beta \\gamma + \\left({\\left(c_{1}^{2} c_{2}^{2} + 2 \\, c_{1}^{2} c_{2} + c_{1}^{2}\\right)} t_{0}^{2}\\right) \\gamma^{2}</script></html>"
      ],
      "text/plain": [
       "((c1^2*c2^2 + 2*c1^2*c2 + c1^2)*t_2^2)*gamma^2*x^4 + (2*(c1^2*c2^2 + 2*c1^2*c2 + c1^2)*t_1*t_2)*gamma^2*x^3 + ((c1*c2 + c1)*t_2)*alpha*gamma*x^2 + ((c1*c2 + c1)*t_2)*beta*gamma*x^2 + ((c1^2*c2^2 + 2*c1^2*c2 + c1^2)*(t_1^2 + 2*t_0*t_2))*gamma^2*x^2 + ((c1*c2 + c1)*t_1)*alpha*gamma*x + ((c1*c2 + c1)*t_1)*beta*gamma*x + (2*(c1^2*c2^2 + 2*c1^2*c2 + c1^2)*t_0*t_1)*gamma^2*x + ((c1*c2 + c1)*t_0)*alpha*gamma + ((c1*c2 + c1)*t_0)*beta*gamma + ((c1^2*c2^2 + 2*c1^2*c2 + c1^2)*t_0^2)*gamma^2"
      ]
     },
     "metadata": {},
     "output_type": "display_data"
    },
    {
     "name": "stdout",
     "output_type": "stream",
     "text": [
      "-----------\n"
     ]
    },
    {
     "data": {
      "text/html": [
       "<html><script type=\"math/tex; mode=display\">\\newcommand{\\Bold}[1]{\\mathbf{#1}}\\left\\{C_{7_{1}} : 0, B_{3_{0}} : 0, A_{5} : 0, A_{\\mathit{10}_{0}} : 0, A_{1} : -\\frac{c_{4}}{c_{4} + 1}, C_{9_{0}} : 0, B_{4_{0}} : 0, A_{6_{1}} : 0, C_{8_{0}} : 0, B_{3_{1}} : -c_{5}, A_{6_{0}} : 0, C_{5} : 0, C_{\\mathit{10}_{0}} : 0, C_{1} : 0, A_{7_{0}} : 0, C_{6_{0}} : 0, C_{\\mathit{11}_{0}} : 0, A_{\\mathit{11}_{0}} : 0, C_{2} : 0, s_{0} : 0, A_{7_{1}} : 0, A_{2} : 0, C_{6_{1}} : 0, B_{1} : c_{4}, C_{3} : 0, A_{3} : 0, A_{8_{0}} : 0, C_{7_{0}} : 0, B_{2} : c_{5}, C_{4} : 0, A_{4} : 0, A_{9_{0}} : 0\\right\\}</script></html>"
      ],
      "text/plain": [
       "{C_7_1: 0,\n",
       " B_3_0: 0,\n",
       " A_5: 0,\n",
       " A_10_0: 0,\n",
       " A_1: -c4/(c4 + 1),\n",
       " C_9_0: 0,\n",
       " B_4_0: 0,\n",
       " A_6_1: 0,\n",
       " C_8_0: 0,\n",
       " B_3_1: -c5,\n",
       " A_6_0: 0,\n",
       " C_5: 0,\n",
       " C_10_0: 0,\n",
       " C_1: 0,\n",
       " A_7_0: 0,\n",
       " C_6_0: 0,\n",
       " C_11_0: 0,\n",
       " A_11_0: 0,\n",
       " C_2: 0,\n",
       " s_0: 0,\n",
       " A_7_1: 0,\n",
       " A_2: 0,\n",
       " C_6_1: 0,\n",
       " B_1: c4,\n",
       " C_3: 0,\n",
       " A_3: 0,\n",
       " A_8_0: 0,\n",
       " C_7_0: 0,\n",
       " B_2: c5,\n",
       " C_4: 0,\n",
       " A_4: 0,\n",
       " A_9_0: 0}"
      ]
     },
     "metadata": {},
     "output_type": "display_data"
    },
    {
     "data": {
      "text/html": [
       "<html><script type=\"math/tex; mode=display\">\\newcommand{\\Bold}[1]{\\mathbf{#1}}\\left(-\\frac{c_{4}}{c_{4} + 1}\\right) \\alpha</script></html>"
      ],
      "text/plain": [
       "(-c4/(c4 + 1))*alpha"
      ]
     },
     "metadata": {},
     "output_type": "display_data"
    },
    {
     "data": {
      "text/html": [
       "<html><script type=\"math/tex; mode=display\">\\newcommand{\\Bold}[1]{\\mathbf{#1}}c_{4} \\beta</script></html>"
      ],
      "text/plain": [
       "c4*beta"
      ]
     },
     "metadata": {},
     "output_type": "display_data"
    },
    {
     "data": {
      "text/html": [
       "<html><script type=\"math/tex; mode=display\">\\newcommand{\\Bold}[1]{\\mathbf{#1}}0</script></html>"
      ],
      "text/plain": [
       "0"
      ]
     },
     "metadata": {},
     "output_type": "display_data"
    }
   ],
   "source": [
    "# No QAP, but CRS elements now include a single simulation query\n",
    "with open('gm17_full_crs_sols_SE.txt', 'r') as file:\n",
    "    sols = loads(file.read())\n",
    "    print(len(sols))\n",
    "    if (len(sols) < 6):\n",
    "        for s in sols:    \n",
    "            print('-----------')\n",
    "            show(s)\n",
    "            show(subst_poly(A,s))\n",
    "            show(subst_poly(B,s))\n",
    "            show(subst_poly(C,s))\n",
    "    else:\n",
    "        print(\"not printing sols\")"
   ]
  },
  {
   "cell_type": "code",
   "execution_count": 16,
   "metadata": {},
   "outputs": [
    {
     "name": "stdout",
     "output_type": "stream",
     "text": [
      "2\n",
      "-----------\n"
     ]
    },
    {
     "data": {
      "text/html": [
       "<html><script type=\"math/tex; mode=display\">\\newcommand{\\Bold}[1]{\\mathbf{#1}}\\left\\{A_{6_{1}} : 0, C_{6_{1}} : 0, B_{1} : r_{7}, C_{3} : 0, A_{1} : -\\frac{r_{7}}{r_{7} + 1}, A_{7_{0}} : 0, C_{7_{1}} : 0, C_{7_{0}} : 0, B_{2} : r_{8}, A_{2} : 0, B_{3_{0}} : r_{6} r_{7}^{2} + 2 \\, r_{6} r_{7} + r_{6}, C_{8_{0}} : 0, A_{4} : 0, A_{3} : r_{6}, B_{3_{1}} : -r_{8}, s_{0} : 0, C_{9_{0}} : 0, C_{4} : r_{6}^{2} r_{7}^{2} + 2 \\, r_{6}^{2} r_{7} + r_{6}^{2}, A_{7_{1}} : 0, A_{5} : 0, C_{5} : r_{6} r_{7} + r_{6}, A_{8_{0}} : 0, C_{1} : 0, A_{6_{0}} : 0, C_{6_{0}} : 0, A_{9_{0}} : 0, C_{2} : 0\\right\\}</script></html>"
      ],
      "text/plain": [
       "{A_6_1: 0,\n",
       " C_6_1: 0,\n",
       " B_1: r7,\n",
       " C_3: 0,\n",
       " A_1: -r7/(r7 + 1),\n",
       " A_7_0: 0,\n",
       " C_7_1: 0,\n",
       " C_7_0: 0,\n",
       " B_2: r8,\n",
       " A_2: 0,\n",
       " B_3_0: r6*r7^2 + 2*r6*r7 + r6,\n",
       " C_8_0: 0,\n",
       " A_4: 0,\n",
       " A_3: r6,\n",
       " B_3_1: -r8,\n",
       " s_0: 0,\n",
       " C_9_0: 0,\n",
       " C_4: r6^2*r7^2 + 2*r6^2*r7 + r6^2,\n",
       " A_7_1: 0,\n",
       " A_5: 0,\n",
       " C_5: r6*r7 + r6,\n",
       " A_8_0: 0,\n",
       " C_1: 0,\n",
       " A_6_0: 0,\n",
       " C_6_0: 0,\n",
       " A_9_0: 0,\n",
       " C_2: 0}"
      ]
     },
     "metadata": {},
     "output_type": "display_data"
    },
    {
     "data": {
      "text/html": [
       "<html><script type=\"math/tex; mode=display\">\\newcommand{\\Bold}[1]{\\mathbf{#1}}\\left(r_{6} t_{2}\\right) \\gamma x^{2} + \\left(r_{6} t_{1}\\right) \\gamma x + \\left(-\\frac{r_{7}}{r_{7} + 1}\\right) \\alpha + \\left(r_{6} t_{0}\\right) \\gamma</script></html>"
      ],
      "text/plain": [
       "r6*t_2*gamma*x^2 + r6*t_1*gamma*x + (-r7/(r7 + 1))*alpha + r6*t_0*gamma"
      ]
     },
     "metadata": {},
     "output_type": "display_data"
    },
    {
     "data": {
      "text/html": [
       "<html><script type=\"math/tex; mode=display\">\\newcommand{\\Bold}[1]{\\mathbf{#1}}\\left({\\left(r_{6} r_{7}^{2} + 2 \\, r_{6} r_{7} + r_{6}\\right)} t_{2}\\right) \\gamma x^{2} + \\left({\\left(r_{6} r_{7}^{2} + 2 \\, r_{6} r_{7} + r_{6}\\right)} t_{1}\\right) \\gamma x + r_{7} \\beta + \\left({\\left(r_{6} r_{7}^{2} + 2 \\, r_{6} r_{7} + r_{6}\\right)} t_{0}\\right) \\gamma</script></html>"
      ],
      "text/plain": [
       "((r6*r7^2 + 2*r6*r7 + r6)*t_2)*gamma*x^2 + ((r6*r7^2 + 2*r6*r7 + r6)*t_1)*gamma*x + r7*beta + ((r6*r7^2 + 2*r6*r7 + r6)*t_0)*gamma"
      ]
     },
     "metadata": {},
     "output_type": "display_data"
    },
    {
     "data": {
      "text/html": [
       "<html><script type=\"math/tex; mode=display\">\\newcommand{\\Bold}[1]{\\mathbf{#1}}\\left({\\left(r_{6}^{2} r_{7}^{2} + 2 \\, r_{6}^{2} r_{7} + r_{6}^{2}\\right)} t_{2}^{2}\\right) \\gamma^{2} x^{4} + \\left(2 \\, {\\left(r_{6}^{2} r_{7}^{2} + 2 \\, r_{6}^{2} r_{7} + r_{6}^{2}\\right)} t_{1} t_{2}\\right) \\gamma^{2} x^{3} + \\left({\\left(r_{6} r_{7} + r_{6}\\right)} t_{2}\\right) \\alpha \\gamma x^{2} + \\left({\\left(r_{6} r_{7} + r_{6}\\right)} t_{2}\\right) \\beta \\gamma x^{2} + \\left({\\left(r_{6}^{2} r_{7}^{2} + 2 \\, r_{6}^{2} r_{7} + r_{6}^{2}\\right)} {\\left(t_{1}^{2} + 2 \\, t_{0} t_{2}\\right)}\\right) \\gamma^{2} x^{2} + \\left({\\left(r_{6} r_{7} + r_{6}\\right)} t_{1}\\right) \\alpha \\gamma x + \\left({\\left(r_{6} r_{7} + r_{6}\\right)} t_{1}\\right) \\beta \\gamma x + \\left(2 \\, {\\left(r_{6}^{2} r_{7}^{2} + 2 \\, r_{6}^{2} r_{7} + r_{6}^{2}\\right)} t_{0} t_{1}\\right) \\gamma^{2} x + \\left({\\left(r_{6} r_{7} + r_{6}\\right)} t_{0}\\right) \\alpha \\gamma + \\left({\\left(r_{6} r_{7} + r_{6}\\right)} t_{0}\\right) \\beta \\gamma + \\left({\\left(r_{6}^{2} r_{7}^{2} + 2 \\, r_{6}^{2} r_{7} + r_{6}^{2}\\right)} t_{0}^{2}\\right) \\gamma^{2}</script></html>"
      ],
      "text/plain": [
       "((r6^2*r7^2 + 2*r6^2*r7 + r6^2)*t_2^2)*gamma^2*x^4 + (2*(r6^2*r7^2 + 2*r6^2*r7 + r6^2)*t_1*t_2)*gamma^2*x^3 + ((r6*r7 + r6)*t_2)*alpha*gamma*x^2 + ((r6*r7 + r6)*t_2)*beta*gamma*x^2 + ((r6^2*r7^2 + 2*r6^2*r7 + r6^2)*(t_1^2 + 2*t_0*t_2))*gamma^2*x^2 + ((r6*r7 + r6)*t_1)*alpha*gamma*x + ((r6*r7 + r6)*t_1)*beta*gamma*x + (2*(r6^2*r7^2 + 2*r6^2*r7 + r6^2)*t_0*t_1)*gamma^2*x + ((r6*r7 + r6)*t_0)*alpha*gamma + ((r6*r7 + r6)*t_0)*beta*gamma + ((r6^2*r7^2 + 2*r6^2*r7 + r6^2)*t_0^2)*gamma^2"
      ]
     },
     "metadata": {},
     "output_type": "display_data"
    },
    {
     "name": "stdout",
     "output_type": "stream",
     "text": [
      "-----------\n"
     ]
    },
    {
     "data": {
      "text/html": [
       "<html><script type=\"math/tex; mode=display\">\\newcommand{\\Bold}[1]{\\mathbf{#1}}\\left\\{A_{6_{1}} : 0, C_{6_{1}} : 0, B_{1} : r_{9}, C_{3} : 0, A_{1} : -\\frac{r_{9}}{r_{9} + 1}, A_{7_{0}} : 0, C_{7_{1}} : 0, C_{7_{0}} : 0, B_{2} : r_{10}, A_{2} : 0, B_{3_{0}} : 0, C_{8_{0}} : 0, A_{4} : 0, A_{3} : 0, B_{3_{1}} : -r_{10}, s_{0} : 0, C_{9_{0}} : 0, C_{4} : 0, A_{7_{1}} : 0, A_{5} : 0, C_{5} : 0, A_{8_{0}} : 0, C_{1} : 0, A_{6_{0}} : 0, C_{6_{0}} : 0, A_{9_{0}} : 0, C_{2} : 0\\right\\}</script></html>"
      ],
      "text/plain": [
       "{A_6_1: 0,\n",
       " C_6_1: 0,\n",
       " B_1: r9,\n",
       " C_3: 0,\n",
       " A_1: -r9/(r9 + 1),\n",
       " A_7_0: 0,\n",
       " C_7_1: 0,\n",
       " C_7_0: 0,\n",
       " B_2: r10,\n",
       " A_2: 0,\n",
       " B_3_0: 0,\n",
       " C_8_0: 0,\n",
       " A_4: 0,\n",
       " A_3: 0,\n",
       " B_3_1: -r10,\n",
       " s_0: 0,\n",
       " C_9_0: 0,\n",
       " C_4: 0,\n",
       " A_7_1: 0,\n",
       " A_5: 0,\n",
       " C_5: 0,\n",
       " A_8_0: 0,\n",
       " C_1: 0,\n",
       " A_6_0: 0,\n",
       " C_6_0: 0,\n",
       " A_9_0: 0,\n",
       " C_2: 0}"
      ]
     },
     "metadata": {},
     "output_type": "display_data"
    },
    {
     "data": {
      "text/html": [
       "<html><script type=\"math/tex; mode=display\">\\newcommand{\\Bold}[1]{\\mathbf{#1}}\\left(-\\frac{r_{9}}{r_{9} + 1}\\right) \\alpha</script></html>"
      ],
      "text/plain": [
       "(-r9/(r9 + 1))*alpha"
      ]
     },
     "metadata": {},
     "output_type": "display_data"
    },
    {
     "data": {
      "text/html": [
       "<html><script type=\"math/tex; mode=display\">\\newcommand{\\Bold}[1]{\\mathbf{#1}}r_{9} \\beta</script></html>"
      ],
      "text/plain": [
       "r9*beta"
      ]
     },
     "metadata": {},
     "output_type": "display_data"
    },
    {
     "data": {
      "text/html": [
       "<html><script type=\"math/tex; mode=display\">\\newcommand{\\Bold}[1]{\\mathbf{#1}}0</script></html>"
      ],
      "text/plain": [
       "0"
      ]
     },
     "metadata": {},
     "output_type": "display_data"
    }
   ],
   "source": [
    "# No QAP modelling, just V = 0 solution.\n",
    "with open('gm17_full_crs_sols_last.txt', 'r') as file:\n",
    "    sols = loads(file.read())\n",
    "    print(len(sols))\n",
    "    if (len(sols) < 6):\n",
    "        for s in sols:    \n",
    "            print('-----------')\n",
    "            show(s)\n",
    "            show(subst_poly(A,s))\n",
    "            show(subst_poly(B,s))\n",
    "            show(subst_poly(C,s))\n",
    "    else:\n",
    "        print(\"not printing sols\")"
   ]
  },
  {
   "cell_type": "code",
   "execution_count": 7,
   "metadata": {},
   "outputs": [
    {
     "data": {
      "text/html": [
       "<html><script type=\"math/tex; mode=display\">\\newcommand{\\Bold}[1]{\\mathbf{#1}}\\left[\\left[A_{1} = \\frac{{\\left(r_{22} - 1\\right)} r_{23} + r_{22}}{r_{23} + 1}, A_{2} = r_{22}, A_{4} = 0, A_{5} = 0, A_{7_{0}} = 0, A_{7_{1}} = 0, A_{8_{0}} = -\\frac{r_{22}}{u_{0_{0}}}, A_{9_{0}} = 0, B_{1} = r_{23}, B_{2} = r_{24}, B_{3} = r_{25}, C_{4_{0}} = r_{26}, C_{4_{1}} = r_{27}, C_{1} = r_{28}, C_{2} = -s_{0} u_{0_{0}} + s_{0} v_{0_{0}} + r_{28}, C_{8_{0}} = -\\frac{s_{0} v_{0_{0}} + r_{28}}{u_{0_{0}}}\\right], \\left[A_{1} = \\frac{{\\left(r_{29} - 1\\right)} r_{32} + r_{29}}{r_{32} + 1}, A_{2} = r_{29}, A_{4} = 0, A_{5} = 0, A_{7_{0}} = r_{30}, A_{7_{1}} = 0, A_{8_{0}} = -\\frac{r_{29}}{u_{0_{0}}}, A_{9_{0}} = r_{31}, B_{1} = r_{32}, B_{2} = r_{33}, B_{3} = 0, C_{4_{0}} = -r_{33}, C_{4_{1}} = 0, C_{1} = r_{34}, C_{2} = -s_{0} u_{0_{0}} + s_{0} v_{0_{0}} + r_{34}, C_{8_{0}} = -\\frac{s_{0} v_{0_{0}} + r_{34}}{u_{0_{0}}}\\right], \\left[A_{1} = \\frac{{\\left(r_{35} - 1\\right)} r_{37} + r_{35}}{r_{37} + 1}, A_{2} = r_{35}, A_{4} = 0, A_{5} = 0, A_{7_{0}} = 0, A_{7_{1}} = 0, A_{8_{0}} = -\\frac{r_{35}}{u_{0_{0}}}, A_{9_{0}} = r_{36}, B_{1} = r_{37}, B_{2} = r_{38}, B_{3} = 0, C_{4_{0}} = r_{39}, C_{4_{1}} = 0, C_{1} = r_{40}, C_{2} = -s_{0} u_{0_{0}} + s_{0} v_{0_{0}} + r_{40}, C_{8_{0}} = -\\frac{s_{0} v_{0_{0}} + r_{40}}{u_{0_{0}}}\\right]\\right]</script></html>"
      ],
      "text/plain": [
       "[[A_1 == ((r22 - 1)*r23 + r22)/(r23 + 1), A_2 == r22, A_4 == 0, A_5 == 0, A_7_0 == 0, A_7_1 == 0, A_8_0 == -r22/u_0_0, A_9_0 == 0, B_1 == r23, B_2 == r24, B_3 == r25, C_4_0 == r26, C_4_1 == r27, C_1 == r28, C_2 == -s_0*u_0_0 + s_0*v_0_0 + r28, C_8_0 == -(s_0*v_0_0 + r28)/u_0_0], [A_1 == ((r29 - 1)*r32 + r29)/(r32 + 1), A_2 == r29, A_4 == 0, A_5 == 0, A_7_0 == r30, A_7_1 == 0, A_8_0 == -r29/u_0_0, A_9_0 == r31, B_1 == r32, B_2 == r33, B_3 == 0, C_4_0 == -r33, C_4_1 == 0, C_1 == r34, C_2 == -s_0*u_0_0 + s_0*v_0_0 + r34, C_8_0 == -(s_0*v_0_0 + r34)/u_0_0], [A_1 == ((r35 - 1)*r37 + r35)/(r37 + 1), A_2 == r35, A_4 == 0, A_5 == 0, A_7_0 == 0, A_7_1 == 0, A_8_0 == -r35/u_0_0, A_9_0 == r36, B_1 == r37, B_2 == r38, B_3 == 0, C_4_0 == r39, C_4_1 == 0, C_1 == r40, C_2 == -s_0*u_0_0 + s_0*v_0_0 + r40, C_8_0 == -(s_0*v_0_0 + r40)/u_0_0]]"
      ]
     },
     "execution_count": 7,
     "metadata": {},
     "output_type": "execute_result"
    }
   ],
   "source": [
    "#print(V1_1_r.parent())\n",
    "#show(V1_1_r)\n",
    "mons = [alpha * beta, alpha, beta, alpha ** 2, beta ** 2, \\\n",
    "        gamma**3 * x**(3*n), \\\n",
    "        gamma**3 * x**(3*n-1), \\\n",
    "        gamma**3 * x**(3*n-2), \\\n",
    "        gamma**3 * x**(2*n), \\\n",
    "        gamma**3 * x**(2*n-1), \\\n",
    "        gamma**3 * x**(2*n-2), \\\n",
    "        beta * gamma**2 * x**(2*n), \\\n",
    "        beta * gamma**2 * x**(2*n-1), \\\n",
    "        alpha * gamma**2 * x**(2*n), \\\n",
    "        alpha * gamma**2 * x**(2*n-1), \\\n",
    "        beta**2 * gamma * x**n, \\\n",
    "        beta*alpha * gamma * x**n, \\\n",
    "        alpha**2 * gamma * x**n, \\\n",
    "       ]\n",
    "system = list(V1_1_r.monomial_coefficient(mon) for mon in mons)\n",
    "system_vars = list(set(flatten(list(x.variables() for x in system))))\n",
    "relevant_vars = list(filter(lambda y: y in system_vars, ABC_vars))\n",
    "solve(system,relevant_vars)"
   ]
  },
  {
   "cell_type": "code",
   "execution_count": null,
   "metadata": {},
   "outputs": [],
   "source": []
  }
 ],
 "metadata": {
  "kernelspec": {
   "display_name": "SageMath 8.8",
   "language": "sagemath",
   "name": "sagemath"
  },
  "language_info": {
   "codemirror_mode": {
    "name": "ipython",
    "version": 2
   },
   "file_extension": ".py",
   "mimetype": "text/x-python",
   "name": "python",
   "nbconvert_exporter": "python",
   "pygments_lexer": "ipython2",
   "version": "2.7.17"
  }
 },
 "nbformat": 4,
 "nbformat_minor": 2
}
