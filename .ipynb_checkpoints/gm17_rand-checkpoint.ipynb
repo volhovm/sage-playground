{
 "cells": [
  {
   "cell_type": "code",
   "execution_count": 2,
   "metadata": {},
   "outputs": [],
   "source": [
    "%display latex\n",
    "\n",
    "def defvars(label, n):\n",
    "    return list(var(label + '_%d' % i) for i in range(n))\n",
    "\n",
    "def defpoly_from_basis(label, basis):\n",
    "    coeffs = defvars(label,len(basis))\n",
    "    poly = sum(c*x for c,x in zip(coeffs,basis))\n",
    "    return (coeffs,poly)\n",
    "\n",
    "def defpoly(label, d): \n",
    "    return defpoly_from_basis(label, list(x**i for i in range(d+1)))\n",
    "\n",
    "def subst_poly(poly,table):\n",
    "    return sum((poly.monomial_coefficient(v).subs(table) * v for v in poly.monomials()))"
   ]
  },
  {
   "cell_type": "code",
   "execution_count": 3,
   "metadata": {},
   "outputs": [
    {
     "name": "stdout",
     "output_type": "stream",
     "text": [
      "Defining alpha, beta, gamma, x, r\n"
     ]
    }
   ],
   "source": [
    "# GM17 (old) CRS to simplify the attempts to prove it sound without V2\n",
    "\n",
    "n = 3\n",
    "m = 3\n",
    "l = 1\n",
    "q = 0\n",
    "\n",
    "var('alpha,beta,gamma,x') # CRS trapdoors\n",
    "var('r') # proof random\n",
    "\n",
    "s_phi = list(var('s_%d' % i) for i in range(l+1))\n",
    "s_wit = list(var('s_%d' % i) for i in range(l+1,m+1))\n",
    "\n",
    "ringvars = ['alpha','beta','gamma','x','r']\n",
    "#ringvars.extend(list(('s_%d' % i) for i in range(l+1, m+1)))\n",
    "ringvars.extend(list(('mu_%d' % i) for i in range(q)))\n",
    "\n",
    "R = LaurentPolynomialRing(SR, ringvars)\n",
    "R.inject_variables()\n",
    "\n",
    "mu = list(R('mu_%d' % i) for i in range(q))\n",
    "\n",
    "s_all = s_phi + s_wit\n",
    "\n",
    "t_coeffs,t = defpoly('t',n)\n",
    "h_coeffs,h = defpoly('h',n-2)\n",
    "\n",
    "us = []\n",
    "uscoeffs = []\n",
    "vs = []\n",
    "vscoeffs = []\n",
    "ws = []\n",
    "wscoeffs = []\n",
    "\n",
    "for i in range(m+1):\n",
    "    u_coeffs,u = defpoly('u_%d'%i,n-1)\n",
    "    us.append(u); uscoeffs.append(u_coeffs)\n",
    "    \n",
    "    v_coeffs,v = defpoly('v_%d'%i,n-1)\n",
    "    vs.append(v); vscoeffs.append(v_coeffs)\n",
    "    \n",
    "    w_coeffs,w = defpoly('w_%d'%i,n-1)\n",
    "    ws.append(w); wscoeffs.append(w_coeffs)\n",
    "\n",
    "f = sum(s_all[i] * ((alpha + beta) * gamma * us[i] + gamma ** 2 * ws[i]) for i in range(0,l+1))\n",
    "    \n",
    "sigma_1 = [alpha,beta,gamma*t,gamma**2*t**2,(alpha+beta)*gamma*t] + \\\n",
    "            list(gamma * x**i for i in range(n)) + \\\n",
    "            list(gamma ** 2 * t * x**i for i in range(n)) + \\\n",
    "            list(gamma * ws[i] + (alpha+beta) * us[i] for i in range(l+1)) + \\\n",
    "            list(gamma ** 2 * ws[i] + gamma * (alpha+beta) * us[i] for i in range(l+1,m+1)) + \\\n",
    "            list(mu[i] for i in range(q)) + \\\n",
    "            list(mu[i] ** 2 + (alpha + beta) * mu[i] - f for i in range(q))\n",
    "sigma_2 = [1,beta,gamma*t] + \\\n",
    "            list(gamma * x**i for i in range(n)) + \\\n",
    "            list(mu[i] for i in range(q))\n",
    "\n",
    "var('A_1,A_2,A_3,A_4,A_5')\n",
    "A6_vars = defvars('A_6', n)\n",
    "A7_vars = defvars('A_7', n)\n",
    "A8_vars = defvars('A_8', l+1)\n",
    "A9_vars = defvars('A_9', m-l)\n",
    "A10_vars = defvars('A_10', q)\n",
    "A11_vars = defvars('A_11', q)\n",
    "\n",
    "var('B_1,B_2,B_3')\n",
    "B4_vars = defvars('B_4', n)\n",
    "B5_vars = defvars('B_5', q)\n",
    "\n",
    "var('C_1,C_2,C_3,C_4,C_5')\n",
    "C6_vars = defvars('C_6', n)\n",
    "C7_vars = defvars('C_7', n)\n",
    "C8_vars = defvars('C_8', l+1)\n",
    "C9_vars = defvars('C_9', m-l)\n",
    "C10_vars = defvars('C_10', q)\n",
    "C11_vars = defvars('C_11', q)\n",
    "\n",
    "A_vars = [A_1,A_2,A_3,A_4,A_5] + A6_vars + A7_vars + A8_vars + A9_vars + A10_vars + A11_vars\n",
    "B_vars = [B_1,B_2,B_3] + B4_vars + B5_vars\n",
    "C_vars = [C_1,C_2,C_3,C_4,C_5] + C6_vars + C7_vars + C8_vars + C9_vars + C10_vars + C11_vars\n",
    "\n",
    "ABC_vars = A_vars + B_vars + C_vars\n",
    "\n",
    "A = sum(c*x for c,x in zip(A_vars,sigma_1))\n",
    "B = sum(c*x for c,x in zip(B_vars,sigma_2))\n",
    "C = sum(c*x for c,x in zip(C_vars,sigma_1))\n",
    "\n",
    "V1_1_r = (A + alpha) * (B + beta) - alpha*beta - f - C\n",
    "\n",
    "\n",
    "ss_phi = list(var('ss_%d' % i) for i in range(l+1))\n",
    "ss_wit = list(var('ss_%d' % i) for i in range(l+1, m+1))\n",
    "ss_all = ss_phi + ss_wit\n",
    "\n",
    "qsp_eq = sum(ss_all[i] * us[i] for i in range(m+1)) * sum(ss_all[i] * us[i] for i in range(m+1)) - \\\n",
    "            sum(ss_all[i] * ws[i] for i in range(m+1)) - h * t"
   ]
  },
  {
   "cell_type": "code",
   "execution_count": 4,
   "metadata": {
    "scrolled": true
   },
   "outputs": [
    {
     "data": {
      "text/html": [
       "<html><script type=\"math/tex; mode=display\">\\newcommand{\\Bold}[1]{\\mathbf{#1}}{\\left(A_{8_{0}} u_{0_{1}} + A_{8_{1}} u_{1_{1}}\\right)} B_{1} - C_{8_{0}} u_{0_{1}} - C_{8_{1}} u_{1_{1}}</script></html>"
      ],
      "text/plain": [
       "(A_8_0*u_0_1 + A_8_1*u_1_1)*B_1 - C_8_0*u_0_1 - C_8_1*u_1_1"
      ]
     },
     "metadata": {},
     "output_type": "display_data"
    },
    {
     "data": {
      "text/html": [
       "<html><script type=\"math/tex; mode=display\">\\newcommand{\\Bold}[1]{\\mathbf{#1}}{\\left(A_{8_{0}} u_{0_{1}} + A_{8_{1}} u_{1_{1}}\\right)} B_{1} - C_{8_{0}} u_{0_{1}} - C_{8_{1}} u_{1_{1}}</script></html>"
      ],
      "text/plain": [
       "(A_8_0*u_0_1 + A_8_1*u_1_1)*B_1 - C_8_0*u_0_1 - C_8_1*u_1_1"
      ]
     },
     "metadata": {},
     "output_type": "display_data"
    },
    {
     "data": {
      "text/html": [
       "<html><script type=\"math/tex; mode=display\">\\newcommand{\\Bold}[1]{\\mathbf{#1}}A_{4} B_{3} t_{3}^{3}</script></html>"
      ],
      "text/plain": [
       "A_4*B_3*t_3^3"
      ]
     },
     "metadata": {},
     "output_type": "display_data"
    },
    {
     "data": {
      "text/html": [
       "<html><script type=\"math/tex; mode=display\">\\newcommand{\\Bold}[1]{\\mathbf{#1}}{\\left(A_{8_{0}} u_{0_{0}} + A_{8_{1}} u_{1_{0}} + A_{1} + 1\\right)} {\\left(B_{2} + 1\\right)} - 1</script></html>"
      ],
      "text/plain": [
       "(A_8_0*u_0_0 + A_8_1*u_1_0 + A_1 + 1)*(B_2 + 1) - 1"
      ]
     },
     "metadata": {},
     "output_type": "display_data"
    },
    {
     "data": {
      "text/html": [
       "<html><script type=\"math/tex; mode=display\">\\newcommand{\\Bold}[1]{\\mathbf{#1}}{\\left(A_{8_{0}} u_{0_{0}} + A_{8_{1}} u_{1_{0}} + A_{2}\\right)} {\\left(B_{2} + 1\\right)}</script></html>"
      ],
      "text/plain": [
       "(A_8_0*u_0_0 + A_8_1*u_1_0 + A_2)*(B_2 + 1)"
      ]
     },
     "metadata": {},
     "output_type": "display_data"
    },
    {
     "data": {
      "text/html": [
       "<html><script type=\"math/tex; mode=display\">\\newcommand{\\Bold}[1]{\\mathbf{#1}}0</script></html>"
      ],
      "text/plain": [
       "0"
      ]
     },
     "metadata": {},
     "output_type": "display_data"
    },
    {
     "data": {
      "text/html": [
       "<html><script type=\"math/tex; mode=display\">\\newcommand{\\Bold}[1]{\\mathbf{#1}}A_{5} B_{3} t_{3}^{2}</script></html>"
      ],
      "text/plain": [
       "A_5*B_3*t_3^2"
      ]
     },
     "metadata": {},
     "output_type": "display_data"
    }
   ],
   "source": [
    "def solve_system(target, variables):\n",
    "    system_vars = list(set(flatten(list(x.variables() for x in target))))\n",
    "    relevant_vars = list(filter(lambda y: y in system_vars, variables))\n",
    "    return solve(target, relevant_vars)\n",
    "\n",
    "show(V1_1_r.monomial_coefficient(beta*x))\n",
    "show(V1_1_r.monomial_coefficient(alpha*x))\n",
    "show(V1_1_r.monomial_coefficient(gamma**3 * x**(3*n)))\n",
    "show(V1_1_r.monomial_coefficient(alpha * beta))\n",
    "show(V1_1_r.monomial_coefficient(beta * beta))\n",
    "show(V1_1_r.monomial_coefficient(alpha ** 2))\n",
    "show(V1_1_r.monomial_coefficient(alpha * gamma**2 * x**(2*n)))\n",
    "#show(qsp_eq)"
   ]
  },
  {
   "cell_type": "code",
   "execution_count": 4,
   "metadata": {},
   "outputs": [
    {
     "name": "stdout",
     "output_type": "stream",
     "text": [
      "67\n"
     ]
    },
    {
     "ename": "RuntimeError",
     "evalue": "ECL says: Console interrupt.",
     "output_type": "error",
     "traceback": [
      "\u001b[0;31m---------------------------------------------------------------------------\u001b[0m",
      "\u001b[0;31mRuntimeError\u001b[0m                              Traceback (most recent call last)",
      "\u001b[0;32m<ipython-input-4-09b9a427ee36>\u001b[0m in \u001b[0;36m<module>\u001b[0;34m()\u001b[0m\n\u001b[1;32m      1\u001b[0m \u001b[0msystem\u001b[0m \u001b[0;34m=\u001b[0m \u001b[0mV1_1_r\u001b[0m\u001b[0;34m.\u001b[0m\u001b[0mcoefficients\u001b[0m\u001b[0;34m(\u001b[0m\u001b[0;34m)\u001b[0m\u001b[0;34m\u001b[0m\u001b[0m\n\u001b[1;32m      2\u001b[0m \u001b[0;32mprint\u001b[0m\u001b[0;34m(\u001b[0m\u001b[0mlen\u001b[0m\u001b[0;34m(\u001b[0m\u001b[0msystem\u001b[0m\u001b[0;34m)\u001b[0m\u001b[0;34m)\u001b[0m\u001b[0;34m\u001b[0m\u001b[0m\n\u001b[0;32m----> 3\u001b[0;31m \u001b[0msols\u001b[0m \u001b[0;34m=\u001b[0m \u001b[0msolve_system\u001b[0m\u001b[0;34m(\u001b[0m\u001b[0msystem\u001b[0m\u001b[0;34m,\u001b[0m \u001b[0mABC_vars\u001b[0m \u001b[0;34m+\u001b[0m \u001b[0ms_all\u001b[0m\u001b[0;34m)\u001b[0m\u001b[0;34m\u001b[0m\u001b[0m\n\u001b[0m\u001b[1;32m      4\u001b[0m \u001b[0;34m\u001b[0m\u001b[0m\n\u001b[1;32m      5\u001b[0m \u001b[0;32mprint\u001b[0m\u001b[0;34m(\u001b[0m\u001b[0mlen\u001b[0m\u001b[0;34m(\u001b[0m\u001b[0msols\u001b[0m\u001b[0;34m)\u001b[0m\u001b[0;34m)\u001b[0m\u001b[0;34m\u001b[0m\u001b[0m\n",
      "\u001b[0;32m<ipython-input-3-f9e88b505347>\u001b[0m in \u001b[0;36msolve_system\u001b[0;34m(target, variables)\u001b[0m\n\u001b[1;32m      2\u001b[0m     \u001b[0msystem_vars\u001b[0m \u001b[0;34m=\u001b[0m \u001b[0mlist\u001b[0m\u001b[0;34m(\u001b[0m\u001b[0mset\u001b[0m\u001b[0;34m(\u001b[0m\u001b[0mflatten\u001b[0m\u001b[0;34m(\u001b[0m\u001b[0mlist\u001b[0m\u001b[0;34m(\u001b[0m\u001b[0mx\u001b[0m\u001b[0;34m.\u001b[0m\u001b[0mvariables\u001b[0m\u001b[0;34m(\u001b[0m\u001b[0;34m)\u001b[0m \u001b[0;32mfor\u001b[0m \u001b[0mx\u001b[0m \u001b[0;32min\u001b[0m \u001b[0mtarget\u001b[0m\u001b[0;34m)\u001b[0m\u001b[0;34m)\u001b[0m\u001b[0;34m)\u001b[0m\u001b[0;34m)\u001b[0m\u001b[0;34m\u001b[0m\u001b[0m\n\u001b[1;32m      3\u001b[0m     \u001b[0mrelevant_vars\u001b[0m \u001b[0;34m=\u001b[0m \u001b[0mlist\u001b[0m\u001b[0;34m(\u001b[0m\u001b[0mfilter\u001b[0m\u001b[0;34m(\u001b[0m\u001b[0;32mlambda\u001b[0m \u001b[0my\u001b[0m\u001b[0;34m:\u001b[0m \u001b[0my\u001b[0m \u001b[0;32min\u001b[0m \u001b[0msystem_vars\u001b[0m\u001b[0;34m,\u001b[0m \u001b[0mvariables\u001b[0m\u001b[0;34m)\u001b[0m\u001b[0;34m)\u001b[0m\u001b[0;34m\u001b[0m\u001b[0m\n\u001b[0;32m----> 4\u001b[0;31m     \u001b[0;32mreturn\u001b[0m \u001b[0msolve\u001b[0m\u001b[0;34m(\u001b[0m\u001b[0mtarget\u001b[0m\u001b[0;34m,\u001b[0m \u001b[0mrelevant_vars\u001b[0m\u001b[0;34m)\u001b[0m\u001b[0;34m\u001b[0m\u001b[0m\n\u001b[0m\u001b[1;32m      5\u001b[0m \u001b[0;34m\u001b[0m\u001b[0m\n\u001b[1;32m      6\u001b[0m \u001b[0mshow\u001b[0m\u001b[0;34m(\u001b[0m\u001b[0mV1_1_r\u001b[0m\u001b[0;34m.\u001b[0m\u001b[0mmonomial_coefficient\u001b[0m\u001b[0;34m(\u001b[0m\u001b[0mbeta\u001b[0m\u001b[0;34m*\u001b[0m\u001b[0mx\u001b[0m\u001b[0;34m)\u001b[0m\u001b[0;34m)\u001b[0m\u001b[0;34m\u001b[0m\u001b[0m\n",
      "\u001b[0;32m/nix/store/431dvs5pkk82x5fl41ca2gw201gd5k7m-python-2.7.17-env/lib/python2.7/site-packages/sage/symbolic/relation.pyc\u001b[0m in \u001b[0;36msolve\u001b[0;34m(f, *args, **kwds)\u001b[0m\n\u001b[1;32m   1111\u001b[0m     \u001b[0;32mexcept\u001b[0m \u001b[0mException\u001b[0m\u001b[0;34m:\u001b[0m \u001b[0;31m# if Maxima gave an error, try its to_poly_solve\u001b[0m\u001b[0;34m\u001b[0m\u001b[0m\n\u001b[1;32m   1112\u001b[0m         \u001b[0;32mtry\u001b[0m\u001b[0;34m:\u001b[0m\u001b[0;34m\u001b[0m\u001b[0m\n\u001b[0;32m-> 1113\u001b[0;31m             \u001b[0ms\u001b[0m \u001b[0;34m=\u001b[0m \u001b[0mm\u001b[0m\u001b[0;34m.\u001b[0m\u001b[0mto_poly_solve\u001b[0m\u001b[0;34m(\u001b[0m\u001b[0mvariables\u001b[0m\u001b[0;34m)\u001b[0m\u001b[0;34m\u001b[0m\u001b[0m\n\u001b[0m\u001b[1;32m   1114\u001b[0m         \u001b[0;32mexcept\u001b[0m \u001b[0mTypeError\u001b[0m \u001b[0;32mas\u001b[0m \u001b[0mmess\u001b[0m\u001b[0;34m:\u001b[0m \u001b[0;31m# if that gives an error, raise an error.\u001b[0m\u001b[0;34m\u001b[0m\u001b[0m\n\u001b[1;32m   1115\u001b[0m             \u001b[0;32mif\u001b[0m \u001b[0;34m\"Error executing code in Maxima\"\u001b[0m \u001b[0;32min\u001b[0m \u001b[0mstr\u001b[0m\u001b[0;34m(\u001b[0m\u001b[0mmess\u001b[0m\u001b[0;34m)\u001b[0m\u001b[0;34m:\u001b[0m\u001b[0;34m\u001b[0m\u001b[0m\n",
      "\u001b[0;32m/nix/store/431dvs5pkk82x5fl41ca2gw201gd5k7m-python-2.7.17-env/lib/python2.7/site-packages/sage/interfaces/maxima_lib.pyc\u001b[0m in \u001b[0;36mto_poly_solve\u001b[0;34m(self, vars, options)\u001b[0m\n\u001b[1;32m   1115\u001b[0m         \u001b[0;32melse\u001b[0m\u001b[0;34m:\u001b[0m\u001b[0;34m\u001b[0m\u001b[0m\n\u001b[1;32m   1116\u001b[0m             \u001b[0mcmd\u001b[0m\u001b[0;34m=\u001b[0m\u001b[0mEclObject\u001b[0m\u001b[0;34m(\u001b[0m\u001b[0;34m[\u001b[0m\u001b[0;34m[\u001b[0m\u001b[0mmax_to_poly_solve\u001b[0m\u001b[0;34m]\u001b[0m\u001b[0;34m,\u001b[0m \u001b[0mself\u001b[0m\u001b[0;34m.\u001b[0m\u001b[0mecl\u001b[0m\u001b[0;34m(\u001b[0m\u001b[0;34m)\u001b[0m\u001b[0;34m,\u001b[0m \u001b[0msr_to_max\u001b[0m\u001b[0;34m(\u001b[0m\u001b[0mvars\u001b[0m\u001b[0;34m)\u001b[0m\u001b[0;34m]\u001b[0m\u001b[0;34m)\u001b[0m\u001b[0;34m\u001b[0m\u001b[0m\n\u001b[0;32m-> 1117\u001b[0;31m         \u001b[0;32mreturn\u001b[0m \u001b[0mself\u001b[0m\u001b[0;34m.\u001b[0m\u001b[0mparent\u001b[0m\u001b[0;34m(\u001b[0m\u001b[0;34m)\u001b[0m\u001b[0;34m(\u001b[0m\u001b[0mmaxima_eval\u001b[0m\u001b[0;34m(\u001b[0m\u001b[0mcmd\u001b[0m\u001b[0;34m)\u001b[0m\u001b[0;34m)\u001b[0m\u001b[0;34m\u001b[0m\u001b[0m\n\u001b[0m\u001b[1;32m   1118\u001b[0m \u001b[0;34m\u001b[0m\u001b[0m\n\u001b[1;32m   1119\u001b[0m     \u001b[0;32mdef\u001b[0m \u001b[0mdisplay2d\u001b[0m\u001b[0;34m(\u001b[0m\u001b[0mself\u001b[0m\u001b[0;34m,\u001b[0m \u001b[0monscreen\u001b[0m\u001b[0;34m=\u001b[0m\u001b[0mTrue\u001b[0m\u001b[0;34m)\u001b[0m\u001b[0;34m:\u001b[0m\u001b[0;34m\u001b[0m\u001b[0m\n",
      "\u001b[0;32m/nix/store/431dvs5pkk82x5fl41ca2gw201gd5k7m-python-2.7.17-env/lib/python2.7/site-packages/sage/libs/ecl.pyx\u001b[0m in \u001b[0;36msage.libs.ecl.EclObject.__call__ (build/cythonized/sage/libs/ecl.c:7790)\u001b[0;34m()\u001b[0m\n\u001b[1;32m    804\u001b[0m         \"\"\"\n\u001b[1;32m    805\u001b[0m         \u001b[0mlispargs\u001b[0m \u001b[0;34m=\u001b[0m \u001b[0mEclObject\u001b[0m\u001b[0;34m(\u001b[0m\u001b[0mlist\u001b[0m\u001b[0;34m(\u001b[0m\u001b[0margs\u001b[0m\u001b[0;34m)\u001b[0m\u001b[0;34m)\u001b[0m\u001b[0;34m\u001b[0m\u001b[0m\n\u001b[0;32m--> 806\u001b[0;31m         \u001b[0;32mreturn\u001b[0m \u001b[0mecl_wrap\u001b[0m\u001b[0;34m(\u001b[0m\u001b[0mecl_safe_apply\u001b[0m\u001b[0;34m(\u001b[0m\u001b[0mself\u001b[0m\u001b[0;34m.\u001b[0m\u001b[0mobj\u001b[0m\u001b[0;34m,\u001b[0m\u001b[0;34m(\u001b[0m\u001b[0;34m<\u001b[0m\u001b[0mEclObject\u001b[0m\u001b[0;34m>\u001b[0m\u001b[0mlispargs\u001b[0m\u001b[0;34m)\u001b[0m\u001b[0;34m.\u001b[0m\u001b[0mobj\u001b[0m\u001b[0;34m)\u001b[0m\u001b[0;34m)\u001b[0m\u001b[0;34m\u001b[0m\u001b[0m\n\u001b[0m\u001b[1;32m    807\u001b[0m \u001b[0;34m\u001b[0m\u001b[0m\n\u001b[1;32m    808\u001b[0m     \u001b[0;32mdef\u001b[0m \u001b[0m__richcmp__\u001b[0m\u001b[0;34m(\u001b[0m\u001b[0mleft\u001b[0m\u001b[0;34m,\u001b[0m \u001b[0mright\u001b[0m\u001b[0;34m,\u001b[0m \u001b[0mint\u001b[0m \u001b[0mop\u001b[0m\u001b[0;34m)\u001b[0m\u001b[0;34m:\u001b[0m\u001b[0;34m\u001b[0m\u001b[0m\n",
      "\u001b[0;32m/nix/store/431dvs5pkk82x5fl41ca2gw201gd5k7m-python-2.7.17-env/lib/python2.7/site-packages/sage/libs/ecl.pyx\u001b[0m in \u001b[0;36msage.libs.ecl.ecl_safe_apply (build/cythonized/sage/libs/ecl.c:5452)\u001b[0;34m()\u001b[0m\n\u001b[1;32m    376\u001b[0m     \u001b[0;32mif\u001b[0m \u001b[0mecl_nvalues\u001b[0m \u001b[0;34m>\u001b[0m \u001b[0;36m1\u001b[0m\u001b[0;34m:\u001b[0m\u001b[0;34m\u001b[0m\u001b[0m\n\u001b[1;32m    377\u001b[0m         \u001b[0ms\u001b[0m \u001b[0;34m=\u001b[0m \u001b[0msi_coerce_to_base_string\u001b[0m\u001b[0;34m(\u001b[0m\u001b[0mecl_values\u001b[0m\u001b[0;34m(\u001b[0m\u001b[0;36m1\u001b[0m\u001b[0;34m)\u001b[0m\u001b[0;34m)\u001b[0m\u001b[0;34m\u001b[0m\u001b[0m\n\u001b[0;32m--> 378\u001b[0;31m         raise RuntimeError(\"ECL says: {}\".format(\n\u001b[0m\u001b[1;32m    379\u001b[0m             char_to_str(ecl_base_string_pointer_safe(s))))\n\u001b[1;32m    380\u001b[0m     \u001b[0;32melse\u001b[0m\u001b[0;34m:\u001b[0m\u001b[0;34m\u001b[0m\u001b[0m\n",
      "\u001b[0;31mRuntimeError\u001b[0m: ECL says: Console interrupt."
     ]
    }
   ],
   "source": [
    "system = V1_1_r.coefficients()\n",
    "print(len(system))\n",
    "sols = solve_system(system, ABC_vars + s_all)\n",
    "\n",
    "print(len(sols))\n",
    "print(sols)\n",
    "with open('gm17_sols_4.txt', 'w') as file:\n",
    "    file.write(dumps(sols))"
   ]
  },
  {
   "cell_type": "code",
   "execution_count": 5,
   "metadata": {
    "scrolled": true
   },
   "outputs": [
    {
     "name": "stdout",
     "output_type": "stream",
     "text": [
      "140\n",
      "not printing sols\n"
     ]
    }
   ],
   "source": [
    "with open('gm17_sols_4.txt', 'r') as file:\n",
    "    content = file.read()\n",
    "    sols = loads(content)\n",
    "    print(len(sols))\n",
    "    if (len(sols) < 5):\n",
    "        for s in sols:    \n",
    "            print('-----------')\n",
    "            show(s)\n",
    "            #show(subst_poly(A,s))\n",
    "            #show(subst_poly(B,s))\n",
    "            #show(subst_poly(C,s))\n",
    "    else:\n",
    "        print(\"not printing sols\")"
   ]
  },
  {
   "cell_type": "code",
   "execution_count": 5,
   "metadata": {
    "scrolled": false
   },
   "outputs": [
    {
     "name": "stdout",
     "output_type": "stream",
     "text": [
      "67\n",
      "67\n"
     ]
    },
    {
     "data": {
      "text/html": [
       "<html><script type=\"math/tex; mode=display\">\\newcommand{\\Bold}[1]{\\mathbf{#1}}\\left[\\left[\\right]\\right]</script></html>"
      ],
      "text/plain": [
       "[[]]"
      ]
     },
     "metadata": {},
     "output_type": "display_data"
    },
    {
     "name": "stdout",
     "output_type": "stream",
     "text": [
      "-------------------------------------------\n",
      "0\n"
     ]
    },
    {
     "data": {
      "text/html": [
       "<html><script type=\"math/tex; mode=display\">\\newcommand{\\Bold}[1]{\\mathbf{#1}}\\gamma^{3} x^{9}</script></html>"
      ],
      "text/plain": [
       "gamma^3*x^9"
      ]
     },
     "metadata": {},
     "output_type": "display_data"
    },
    {
     "data": {
      "text/html": [
       "<html><script type=\"math/tex; mode=display\">\\newcommand{\\Bold}[1]{\\mathbf{#1}}A_{4} B_{3} t_{3}^{3}</script></html>"
      ],
      "text/plain": [
       "A_4*B_3*t_3^3"
      ]
     },
     "metadata": {},
     "output_type": "display_data"
    },
    {
     "data": {
      "text/html": [
       "<html><script type=\"math/tex; mode=display\">\\newcommand{\\Bold}[1]{\\mathbf{#1}}\\left[\\left[A_{4} = r_{514}, B_{3} = 0\\right], \\left[A_{4} = 0, B_{3} = r_{515}\\right]\\right]</script></html>"
      ],
      "text/plain": [
       "[[A_4 == r514, B_3 == 0], [A_4 == 0, B_3 == r515]]"
      ]
     },
     "metadata": {},
     "output_type": "display_data"
    },
    {
     "name": "stdout",
     "output_type": "stream",
     "text": [
      "-------------------------------------------\n",
      "1\n"
     ]
    },
    {
     "data": {
      "text/html": [
       "<html><script type=\"math/tex; mode=display\">\\newcommand{\\Bold}[1]{\\mathbf{#1}}\\alpha \\gamma^{2} x^{6}</script></html>"
      ],
      "text/plain": [
       "alpha*gamma^2*x^6"
      ]
     },
     "metadata": {},
     "output_type": "display_data"
    },
    {
     "data": {
      "text/html": [
       "<html><script type=\"math/tex; mode=display\">\\newcommand{\\Bold}[1]{\\mathbf{#1}}A_{5} B_{3} t_{3}^{2}</script></html>"
      ],
      "text/plain": [
       "A_5*B_3*t_3^2"
      ]
     },
     "metadata": {},
     "output_type": "display_data"
    },
    {
     "data": {
      "text/html": [
       "<html><script type=\"math/tex; mode=display\">\\newcommand{\\Bold}[1]{\\mathbf{#1}}\\left[\\left[A_{4} = r_{1571}, A_{5} = r_{1572}, B_{3} = 0\\right], \\left[A_{4} = 0, A_{5} = 0, B_{3} = r_{1573}\\right]\\right]</script></html>"
      ],
      "text/plain": [
       "[[A_4 == r1571, A_5 == r1572, B_3 == 0], [A_4 == 0, A_5 == 0, B_3 == r1573]]"
      ]
     },
     "metadata": {},
     "output_type": "display_data"
    },
    {
     "name": "stdout",
     "output_type": "stream",
     "text": [
      "-------------------------------------------\n",
      "2\n"
     ]
    },
    {
     "data": {
      "text/html": [
       "<html><script type=\"math/tex; mode=display\">\\newcommand{\\Bold}[1]{\\mathbf{#1}}\\beta \\gamma^{2} x^{6}</script></html>"
      ],
      "text/plain": [
       "beta*gamma^2*x^6"
      ]
     },
     "metadata": {},
     "output_type": "display_data"
    },
    {
     "data": {
      "text/html": [
       "<html><script type=\"math/tex; mode=display\">\\newcommand{\\Bold}[1]{\\mathbf{#1}}A_{4} {\\left(B_{2} + 1\\right)} t_{3}^{2} + A_{5} B_{3} t_{3}^{2}</script></html>"
      ],
      "text/plain": [
       "A_4*(B_2 + 1)*t_3^2 + A_5*B_3*t_3^2"
      ]
     },
     "metadata": {},
     "output_type": "display_data"
    },
    {
     "data": {
      "text/html": [
       "<html><script type=\"math/tex; mode=display\">\\newcommand{\\Bold}[1]{\\mathbf{#1}}\\left[\\left[A_{4} = 0, A_{5} = 0, B_{2} = r_{2827}, B_{3} = r_{2828}\\right], \\left[A_{4} = r_{2829}, A_{5} = r_{2830}, B_{2} = \\left(-1\\right), B_{3} = 0\\right], \\left[A_{4} = 0, A_{5} = r_{2831}, B_{2} = r_{2832}, B_{3} = 0\\right]\\right]</script></html>"
      ],
      "text/plain": [
       "[[A_4 == 0, A_5 == 0, B_2 == r2827, B_3 == r2828], [A_4 == r2829, A_5 == r2830, B_2 == -1, B_3 == 0], [A_4 == 0, A_5 == r2831, B_2 == r2832, B_3 == 0]]"
      ]
     },
     "metadata": {},
     "output_type": "display_data"
    },
    {
     "name": "stdout",
     "output_type": "stream",
     "text": [
      "-------------------------------------------\n",
      "3\n"
     ]
    },
    {
     "data": {
      "text/html": [
       "<html><script type=\"math/tex; mode=display\">\\newcommand{\\Bold}[1]{\\mathbf{#1}}\\beta^{2} \\gamma x^{3}</script></html>"
      ],
      "text/plain": [
       "beta^2*gamma*x^3"
      ]
     },
     "metadata": {},
     "output_type": "display_data"
    },
    {
     "data": {
      "text/html": [
       "<html><script type=\"math/tex; mode=display\">\\newcommand{\\Bold}[1]{\\mathbf{#1}}A_{5} {\\left(B_{2} + 1\\right)} t_{3}</script></html>"
      ],
      "text/plain": [
       "A_5*(B_2 + 1)*t_3"
      ]
     },
     "metadata": {},
     "output_type": "display_data"
    },
    {
     "data": {
      "text/html": [
       "<html><script type=\"math/tex; mode=display\">\\newcommand{\\Bold}[1]{\\mathbf{#1}}\\left[\\left[A_{4} = 0, A_{5} = 0, B_{2} = r_{4694}, B_{3} = r_{4695}\\right], \\left[A_{4} = r_{4696}, A_{5} = r_{4697}, B_{2} = \\left(-1\\right), B_{3} = 0\\right]\\right]</script></html>"
      ],
      "text/plain": [
       "[[A_4 == 0, A_5 == 0, B_2 == r4694, B_3 == r4695], [A_4 == r4696, A_5 == r4697, B_2 == -1, B_3 == 0]]"
      ]
     },
     "metadata": {},
     "output_type": "display_data"
    },
    {
     "name": "stdout",
     "output_type": "stream",
     "text": [
      "-------------------------------------------\n",
      "4\n"
     ]
    },
    {
     "data": {
      "text/html": [
       "<html><script type=\"math/tex; mode=display\">\\newcommand{\\Bold}[1]{\\mathbf{#1}}\\alpha \\beta</script></html>"
      ],
      "text/plain": [
       "alpha*beta"
      ]
     },
     "metadata": {},
     "output_type": "display_data"
    },
    {
     "data": {
      "text/html": [
       "<html><script type=\"math/tex; mode=display\">\\newcommand{\\Bold}[1]{\\mathbf{#1}}{\\left(A_{8_{0}} u_{0_{0}} + A_{8_{1}} u_{1_{0}} + A_{1} + 1\\right)} {\\left(B_{2} + 1\\right)} - 1</script></html>"
      ],
      "text/plain": [
       "(A_8_0*u_0_0 + A_8_1*u_1_0 + A_1 + 1)*(B_2 + 1) - 1"
      ]
     },
     "metadata": {},
     "output_type": "display_data"
    },
    {
     "data": {
      "text/html": [
       "<html><script type=\"math/tex; mode=display\">\\newcommand{\\Bold}[1]{\\mathbf{#1}}\\left[\\left[A_{1} = -\\frac{{\\left(r_{6486} r_{6488} + r_{6486}\\right)} u_{0_{0}} + {\\left(r_{6487} r_{6488} + r_{6487}\\right)} u_{1_{0}} + r_{6488}}{r_{6488} + 1}, A_{4} = 0, A_{5} = 0, A_{8_{0}} = r_{6486}, A_{8_{1}} = r_{6487}, B_{2} = r_{6488}, B_{3} = r_{6489}\\right]\\right]</script></html>"
      ],
      "text/plain": [
       "[[A_1 == -((r6486*r6488 + r6486)*u_0_0 + (r6487*r6488 + r6487)*u_1_0 + r6488)/(r6488 + 1), A_4 == 0, A_5 == 0, A_8_0 == r6486, A_8_1 == r6487, B_2 == r6488, B_3 == r6489]]"
      ]
     },
     "metadata": {},
     "output_type": "display_data"
    },
    {
     "name": "stdout",
     "output_type": "stream",
     "text": [
      "-------------------------------------------\n",
      "5\n"
     ]
    },
    {
     "data": {
      "text/html": [
       "<html><script type=\"math/tex; mode=display\">\\newcommand{\\Bold}[1]{\\mathbf{#1}}\\alpha \\beta x^{2}</script></html>"
      ],
      "text/plain": [
       "alpha*beta*x^2"
      ]
     },
     "metadata": {},
     "output_type": "display_data"
    },
    {
     "data": {
      "text/html": [
       "<html><script type=\"math/tex; mode=display\">\\newcommand{\\Bold}[1]{\\mathbf{#1}}{\\left(A_{8_{0}} u_{0_{2}} + A_{8_{1}} u_{1_{2}}\\right)} {\\left(B_{2} + 1\\right)}</script></html>"
      ],
      "text/plain": [
       "(A_8_0*u_0_2 + A_8_1*u_1_2)*(B_2 + 1)"
      ]
     },
     "metadata": {},
     "output_type": "display_data"
    },
    {
     "data": {
      "text/html": [
       "<html><script type=\"math/tex; mode=display\">\\newcommand{\\Bold}[1]{\\mathbf{#1}}\\left[\\left[A_{1} = \\frac{{\\left(r_{7414} r_{7415} + r_{7414}\\right)} u_{0_{2}} u_{1_{0}} - {\\left({\\left(r_{7414} r_{7415} + r_{7414}\\right)} u_{0_{0}} + r_{7415}\\right)} u_{1_{2}}}{{\\left(r_{7415} + 1\\right)} u_{1_{2}}}, A_{4} = 0, A_{5} = 0, A_{8_{0}} = r_{7414}, A_{8_{1}} = -\\frac{r_{7414} u_{0_{2}}}{u_{1_{2}}}, B_{2} = r_{7415}, B_{3} = r_{7416}\\right]\\right]</script></html>"
      ],
      "text/plain": [
       "[[A_1 == ((r7414*r7415 + r7414)*u_0_2*u_1_0 - ((r7414*r7415 + r7414)*u_0_0 + r7415)*u_1_2)/((r7415 + 1)*u_1_2), A_4 == 0, A_5 == 0, A_8_0 == r7414, A_8_1 == -r7414*u_0_2/u_1_2, B_2 == r7415, B_3 == r7416]]"
      ]
     },
     "metadata": {},
     "output_type": "display_data"
    },
    {
     "name": "stdout",
     "output_type": "stream",
     "text": [
      "-------------------------------------------\n",
      "6\n"
     ]
    },
    {
     "data": {
      "text/html": [
       "<html><script type=\"math/tex; mode=display\">\\newcommand{\\Bold}[1]{\\mathbf{#1}}\\beta^{2}</script></html>"
      ],
      "text/plain": [
       "beta^2"
      ]
     },
     "metadata": {},
     "output_type": "display_data"
    },
    {
     "data": {
      "text/html": [
       "<html><script type=\"math/tex; mode=display\">\\newcommand{\\Bold}[1]{\\mathbf{#1}}{\\left(A_{8_{0}} u_{0_{0}} + A_{8_{1}} u_{1_{0}} + A_{2}\\right)} {\\left(B_{2} + 1\\right)}</script></html>"
      ],
      "text/plain": [
       "(A_8_0*u_0_0 + A_8_1*u_1_0 + A_2)*(B_2 + 1)"
      ]
     },
     "metadata": {},
     "output_type": "display_data"
    },
    {
     "data": {
      "text/html": [
       "<html><script type=\"math/tex; mode=display\">\\newcommand{\\Bold}[1]{\\mathbf{#1}}\\left[\\left[A_{1} = \\frac{{\\left(r_{8228} - 1\\right)} r_{8229} + r_{8228}}{r_{8229} + 1}, A_{2} = r_{8228}, A_{4} = 0, A_{5} = 0, A_{8_{0}} = \\frac{r_{8228} u_{1_{2}}}{u_{0_{2}} u_{1_{0}} - u_{0_{0}} u_{1_{2}}}, A_{8_{1}} = -\\frac{r_{8228} u_{0_{2}}}{u_{0_{2}} u_{1_{0}} - u_{0_{0}} u_{1_{2}}}, B_{2} = r_{8229}, B_{3} = r_{8230}\\right]\\right]</script></html>"
      ],
      "text/plain": [
       "[[A_1 == ((r8228 - 1)*r8229 + r8228)/(r8229 + 1), A_2 == r8228, A_4 == 0, A_5 == 0, A_8_0 == r8228*u_1_2/(u_0_2*u_1_0 - u_0_0*u_1_2), A_8_1 == -r8228*u_0_2/(u_0_2*u_1_0 - u_0_0*u_1_2), B_2 == r8229, B_3 == r8230]]"
      ]
     },
     "metadata": {},
     "output_type": "display_data"
    },
    {
     "name": "stdout",
     "output_type": "stream",
     "text": [
      "-------------------------------------------\n",
      "7\n"
     ]
    },
    {
     "data": {
      "text/html": [
       "<html><script type=\"math/tex; mode=display\">\\newcommand{\\Bold}[1]{\\mathbf{#1}}\\beta \\gamma x^{5}</script></html>"
      ],
      "text/plain": [
       "beta*gamma*x^5"
      ]
     },
     "metadata": {},
     "output_type": "display_data"
    },
    {
     "data": {
      "text/html": [
       "<html><script type=\"math/tex; mode=display\">\\newcommand{\\Bold}[1]{\\mathbf{#1}}{\\left(A_{8_{0}} u_{0_{2}} + A_{8_{1}} u_{1_{2}}\\right)} B_{3} t_{3}</script></html>"
      ],
      "text/plain": [
       "(A_8_0*u_0_2 + A_8_1*u_1_2)*B_3*t_3"
      ]
     },
     "metadata": {},
     "output_type": "display_data"
    },
    {
     "data": {
      "text/html": [
       "<html><script type=\"math/tex; mode=display\">\\newcommand{\\Bold}[1]{\\mathbf{#1}}\\left[\\left[A_{1} = \\frac{{\\left(r_{9018} - 1\\right)} r_{9019} + r_{9018}}{r_{9019} + 1}, A_{2} = r_{9018}, A_{4} = 0, A_{5} = 0, A_{8_{0}} = \\frac{r_{9018} u_{1_{2}}}{u_{0_{2}} u_{1_{0}} - u_{0_{0}} u_{1_{2}}}, A_{8_{1}} = -\\frac{r_{9018} u_{0_{2}}}{u_{0_{2}} u_{1_{0}} - u_{0_{0}} u_{1_{2}}}, B_{2} = r_{9019}, B_{3} = r_{9020}\\right]\\right]</script></html>"
      ],
      "text/plain": [
       "[[A_1 == ((r9018 - 1)*r9019 + r9018)/(r9019 + 1), A_2 == r9018, A_4 == 0, A_5 == 0, A_8_0 == r9018*u_1_2/(u_0_2*u_1_0 - u_0_0*u_1_2), A_8_1 == -r9018*u_0_2/(u_0_2*u_1_0 - u_0_0*u_1_2), B_2 == r9019, B_3 == r9020]]"
      ]
     },
     "metadata": {},
     "output_type": "display_data"
    },
    {
     "name": "stdout",
     "output_type": "stream",
     "text": [
      "-------------------------------------------\n",
      "8\n"
     ]
    },
    {
     "data": {
      "text/html": [
       "<html><script type=\"math/tex; mode=display\">\\newcommand{\\Bold}[1]{\\mathbf{#1}}\\alpha \\beta \\gamma x^{3}</script></html>"
      ],
      "text/plain": [
       "alpha*beta*gamma*x^3"
      ]
     },
     "metadata": {},
     "output_type": "display_data"
    },
    {
     "data": {
      "text/html": [
       "<html><script type=\"math/tex; mode=display\">\\newcommand{\\Bold}[1]{\\mathbf{#1}}A_{5} {\\left(B_{2} + 1\\right)} t_{3}</script></html>"
      ],
      "text/plain": [
       "A_5*(B_2 + 1)*t_3"
      ]
     },
     "metadata": {},
     "output_type": "display_data"
    },
    {
     "data": {
      "text/html": [
       "<html><script type=\"math/tex; mode=display\">\\newcommand{\\Bold}[1]{\\mathbf{#1}}\\left[\\left[A_{1} = \\frac{{\\left(r_{9805} - 1\\right)} r_{9806} + r_{9805}}{r_{9806} + 1}, A_{2} = r_{9805}, A_{4} = 0, A_{5} = 0, A_{8_{0}} = \\frac{r_{9805} u_{1_{2}}}{u_{0_{2}} u_{1_{0}} - u_{0_{0}} u_{1_{2}}}, A_{8_{1}} = -\\frac{r_{9805} u_{0_{2}}}{u_{0_{2}} u_{1_{0}} - u_{0_{0}} u_{1_{2}}}, B_{2} = r_{9806}, B_{3} = r_{9807}\\right]\\right]</script></html>"
      ],
      "text/plain": [
       "[[A_1 == ((r9805 - 1)*r9806 + r9805)/(r9806 + 1), A_2 == r9805, A_4 == 0, A_5 == 0, A_8_0 == r9805*u_1_2/(u_0_2*u_1_0 - u_0_0*u_1_2), A_8_1 == -r9805*u_0_2/(u_0_2*u_1_0 - u_0_0*u_1_2), B_2 == r9806, B_3 == r9807]]"
      ]
     },
     "metadata": {},
     "output_type": "display_data"
    },
    {
     "name": "stdout",
     "output_type": "stream",
     "text": [
      "-------------------------------------------\n",
      "9\n"
     ]
    },
    {
     "data": {
      "text/html": [
       "<html><script type=\"math/tex; mode=display\">\\newcommand{\\Bold}[1]{\\mathbf{#1}}\\beta^{2} x^{2}</script></html>"
      ],
      "text/plain": [
       "beta^2*x^2"
      ]
     },
     "metadata": {},
     "output_type": "display_data"
    },
    {
     "data": {
      "text/html": [
       "<html><script type=\"math/tex; mode=display\">\\newcommand{\\Bold}[1]{\\mathbf{#1}}{\\left(A_{8_{0}} u_{0_{2}} + A_{8_{1}} u_{1_{2}}\\right)} {\\left(B_{2} + 1\\right)}</script></html>"
      ],
      "text/plain": [
       "(A_8_0*u_0_2 + A_8_1*u_1_2)*(B_2 + 1)"
      ]
     },
     "metadata": {},
     "output_type": "display_data"
    },
    {
     "data": {
      "text/html": [
       "<html><script type=\"math/tex; mode=display\">\\newcommand{\\Bold}[1]{\\mathbf{#1}}\\left[\\left[A_{1} = \\frac{{\\left(r_{10589} - 1\\right)} r_{10590} + r_{10589}}{r_{10590} + 1}, A_{2} = r_{10589}, A_{4} = 0, A_{5} = 0, A_{8_{0}} = \\frac{r_{10589} u_{1_{2}}}{u_{0_{2}} u_{1_{0}} - u_{0_{0}} u_{1_{2}}}, A_{8_{1}} = -\\frac{r_{10589} u_{0_{2}}}{u_{0_{2}} u_{1_{0}} - u_{0_{0}} u_{1_{2}}}, B_{2} = r_{10590}, B_{3} = r_{10591}\\right]\\right]</script></html>"
      ],
      "text/plain": [
       "[[A_1 == ((r10589 - 1)*r10590 + r10589)/(r10590 + 1), A_2 == r10589, A_4 == 0, A_5 == 0, A_8_0 == r10589*u_1_2/(u_0_2*u_1_0 - u_0_0*u_1_2), A_8_1 == -r10589*u_0_2/(u_0_2*u_1_0 - u_0_0*u_1_2), B_2 == r10590, B_3 == r10591]]"
      ]
     },
     "metadata": {},
     "output_type": "display_data"
    },
    {
     "name": "stdout",
     "output_type": "stream",
     "text": [
      "-------------------------------------------\n",
      "10\n"
     ]
    },
    {
     "data": {
      "text/html": [
       "<html><script type=\"math/tex; mode=display\">\\newcommand{\\Bold}[1]{\\mathbf{#1}}\\alpha \\gamma x^{5}</script></html>"
      ],
      "text/plain": [
       "alpha*gamma*x^5"
      ]
     },
     "metadata": {},
     "output_type": "display_data"
    },
    {
     "data": {
      "text/html": [
       "<html><script type=\"math/tex; mode=display\">\\newcommand{\\Bold}[1]{\\mathbf{#1}}{\\left(A_{8_{0}} u_{0_{2}} + A_{8_{1}} u_{1_{2}}\\right)} B_{3} t_{3}</script></html>"
      ],
      "text/plain": [
       "(A_8_0*u_0_2 + A_8_1*u_1_2)*B_3*t_3"
      ]
     },
     "metadata": {},
     "output_type": "display_data"
    },
    {
     "data": {
      "text/html": [
       "<html><script type=\"math/tex; mode=display\">\\newcommand{\\Bold}[1]{\\mathbf{#1}}\\left[\\left[A_{1} = \\frac{{\\left(r_{11370} - 1\\right)} r_{11371} + r_{11370}}{r_{11371} + 1}, A_{2} = r_{11370}, A_{4} = 0, A_{5} = 0, A_{8_{0}} = \\frac{r_{11370} u_{1_{2}}}{u_{0_{2}} u_{1_{0}} - u_{0_{0}} u_{1_{2}}}, A_{8_{1}} = -\\frac{r_{11370} u_{0_{2}}}{u_{0_{2}} u_{1_{0}} - u_{0_{0}} u_{1_{2}}}, B_{2} = r_{11371}, B_{3} = r_{11372}\\right]\\right]</script></html>"
      ],
      "text/plain": [
       "[[A_1 == ((r11370 - 1)*r11371 + r11370)/(r11371 + 1), A_2 == r11370, A_4 == 0, A_5 == 0, A_8_0 == r11370*u_1_2/(u_0_2*u_1_0 - u_0_0*u_1_2), A_8_1 == -r11370*u_0_2/(u_0_2*u_1_0 - u_0_0*u_1_2), B_2 == r11371, B_3 == r11372]]"
      ]
     },
     "metadata": {},
     "output_type": "display_data"
    },
    {
     "name": "stdout",
     "output_type": "stream",
     "text": [
      "-------------------------------------------\n",
      "11\n"
     ]
    },
    {
     "data": {
      "text/html": [
       "<html><script type=\"math/tex; mode=display\">\\newcommand{\\Bold}[1]{\\mathbf{#1}}\\beta^{2} \\gamma x^{2}</script></html>"
      ],
      "text/plain": [
       "beta^2*gamma*x^2"
      ]
     },
     "metadata": {},
     "output_type": "display_data"
    },
    {
     "data": {
      "text/html": [
       "<html><script type=\"math/tex; mode=display\">\\newcommand{\\Bold}[1]{\\mathbf{#1}}{\\left(A_{5} t_{2} + A_{9_{0}} u_{2_{2}} + A_{9_{1}} u_{3_{2}}\\right)} {\\left(B_{2} + 1\\right)}</script></html>"
      ],
      "text/plain": [
       "(A_5*t_2 + A_9_0*u_2_2 + A_9_1*u_3_2)*(B_2 + 1)"
      ]
     },
     "metadata": {},
     "output_type": "display_data"
    },
    {
     "data": {
      "text/html": [
       "<html><script type=\"math/tex; mode=display\">\\newcommand{\\Bold}[1]{\\mathbf{#1}}\\left[\\left[A_{1} = \\frac{{\\left(r_{12148} - 1\\right)} r_{12150} + r_{12148}}{r_{12150} + 1}, A_{2} = r_{12148}, A_{4} = 0, A_{5} = 0, A_{8_{0}} = \\frac{r_{12148} u_{1_{2}}}{u_{0_{2}} u_{1_{0}} - u_{0_{0}} u_{1_{2}}}, A_{8_{1}} = -\\frac{r_{12148} u_{0_{2}}}{u_{0_{2}} u_{1_{0}} - u_{0_{0}} u_{1_{2}}}, A_{9_{0}} = r_{12149}, A_{9_{1}} = -\\frac{r_{12149} u_{2_{2}}}{u_{3_{2}}}, B_{2} = r_{12150}, B_{3} = r_{12151}\\right]\\right]</script></html>"
      ],
      "text/plain": [
       "[[A_1 == ((r12148 - 1)*r12150 + r12148)/(r12150 + 1), A_2 == r12148, A_4 == 0, A_5 == 0, A_8_0 == r12148*u_1_2/(u_0_2*u_1_0 - u_0_0*u_1_2), A_8_1 == -r12148*u_0_2/(u_0_2*u_1_0 - u_0_0*u_1_2), A_9_0 == r12149, A_9_1 == -r12149*u_2_2/u_3_2, B_2 == r12150, B_3 == r12151]]"
      ]
     },
     "metadata": {},
     "output_type": "display_data"
    },
    {
     "name": "stdout",
     "output_type": "stream",
     "text": [
      "-------------------------------------------\n",
      "12\n"
     ]
    },
    {
     "data": {
      "text/html": [
       "<html><script type=\"math/tex; mode=display\">\\newcommand{\\Bold}[1]{\\mathbf{#1}}\\alpha x^{2}</script></html>"
      ],
      "text/plain": [
       "alpha*x^2"
      ]
     },
     "metadata": {},
     "output_type": "display_data"
    },
    {
     "data": {
      "text/html": [
       "<html><script type=\"math/tex; mode=display\">\\newcommand{\\Bold}[1]{\\mathbf{#1}}{\\left(A_{8_{0}} u_{0_{2}} + A_{8_{1}} u_{1_{2}}\\right)} B_{1} - C_{8_{0}} u_{0_{2}} - C_{8_{1}} u_{1_{2}}</script></html>"
      ],
      "text/plain": [
       "(A_8_0*u_0_2 + A_8_1*u_1_2)*B_1 - C_8_0*u_0_2 - C_8_1*u_1_2"
      ]
     },
     "metadata": {},
     "output_type": "display_data"
    },
    {
     "data": {
      "text/html": [
       "<html><script type=\"math/tex; mode=display\">\\newcommand{\\Bold}[1]{\\mathbf{#1}}\\left[\\left[A_{1} = \\frac{{\\left(r_{12905} - 1\\right)} r_{12908} + r_{12905}}{r_{12908} + 1}, A_{2} = r_{12905}, A_{4} = 0, A_{5} = 0, A_{8_{0}} = \\frac{r_{12905} u_{1_{2}}}{u_{0_{2}} u_{1_{0}} - u_{0_{0}} u_{1_{2}}}, A_{8_{1}} = -\\frac{r_{12905} u_{0_{2}}}{u_{0_{2}} u_{1_{0}} - u_{0_{0}} u_{1_{2}}}, A_{9_{0}} = r_{12906}, A_{9_{1}} = -\\frac{r_{12906} u_{2_{2}}}{u_{3_{2}}}, B_{1} = r_{12907}, B_{2} = r_{12908}, B_{3} = r_{12909}, C_{8_{0}} = r_{12910}, C_{8_{1}} = -\\frac{r_{12910} u_{0_{2}}}{u_{1_{2}}}\\right]\\right]</script></html>"
      ],
      "text/plain": [
       "[[A_1 == ((r12905 - 1)*r12908 + r12905)/(r12908 + 1), A_2 == r12905, A_4 == 0, A_5 == 0, A_8_0 == r12905*u_1_2/(u_0_2*u_1_0 - u_0_0*u_1_2), A_8_1 == -r12905*u_0_2/(u_0_2*u_1_0 - u_0_0*u_1_2), A_9_0 == r12906, A_9_1 == -r12906*u_2_2/u_3_2, B_1 == r12907, B_2 == r12908, B_3 == r12909, C_8_0 == r12910, C_8_1 == -r12910*u_0_2/u_1_2]]"
      ]
     },
     "metadata": {},
     "output_type": "display_data"
    },
    {
     "name": "stdout",
     "output_type": "stream",
     "text": [
      "-------------------------------------------\n",
      "13\n"
     ]
    },
    {
     "data": {
      "text/html": [
       "<html><script type=\"math/tex; mode=display\">\\newcommand{\\Bold}[1]{\\mathbf{#1}}\\beta x^{2}</script></html>"
      ],
      "text/plain": [
       "beta*x^2"
      ]
     },
     "metadata": {},
     "output_type": "display_data"
    },
    {
     "data": {
      "text/html": [
       "<html><script type=\"math/tex; mode=display\">\\newcommand{\\Bold}[1]{\\mathbf{#1}}{\\left(A_{8_{0}} u_{0_{2}} + A_{8_{1}} u_{1_{2}}\\right)} B_{1} - C_{8_{0}} u_{0_{2}} - C_{8_{1}} u_{1_{2}}</script></html>"
      ],
      "text/plain": [
       "(A_8_0*u_0_2 + A_8_1*u_1_2)*B_1 - C_8_0*u_0_2 - C_8_1*u_1_2"
      ]
     },
     "metadata": {},
     "output_type": "display_data"
    },
    {
     "data": {
      "text/html": [
       "<html><script type=\"math/tex; mode=display\">\\newcommand{\\Bold}[1]{\\mathbf{#1}}\\left[\\left[A_{1} = \\frac{{\\left(r_{13795} - 1\\right)} r_{13798} + r_{13795}}{r_{13798} + 1}, A_{2} = r_{13795}, A_{4} = 0, A_{5} = 0, A_{8_{0}} = \\frac{r_{13795} u_{1_{2}}}{u_{0_{2}} u_{1_{0}} - u_{0_{0}} u_{1_{2}}}, A_{8_{1}} = -\\frac{r_{13795} u_{0_{2}}}{u_{0_{2}} u_{1_{0}} - u_{0_{0}} u_{1_{2}}}, A_{9_{0}} = r_{13796}, A_{9_{1}} = -\\frac{r_{13796} u_{2_{2}}}{u_{3_{2}}}, B_{1} = r_{13797}, B_{2} = r_{13798}, B_{3} = r_{13799}, C_{8_{0}} = r_{13800}, C_{8_{1}} = -\\frac{r_{13800} u_{0_{2}}}{u_{1_{2}}}\\right]\\right]</script></html>"
      ],
      "text/plain": [
       "[[A_1 == ((r13795 - 1)*r13798 + r13795)/(r13798 + 1), A_2 == r13795, A_4 == 0, A_5 == 0, A_8_0 == r13795*u_1_2/(u_0_2*u_1_0 - u_0_0*u_1_2), A_8_1 == -r13795*u_0_2/(u_0_2*u_1_0 - u_0_0*u_1_2), A_9_0 == r13796, A_9_1 == -r13796*u_2_2/u_3_2, B_1 == r13797, B_2 == r13798, B_3 == r13799, C_8_0 == r13800, C_8_1 == -r13800*u_0_2/u_1_2]]"
      ]
     },
     "metadata": {},
     "output_type": "display_data"
    },
    {
     "name": "stdout",
     "output_type": "stream",
     "text": [
      "-------------------------------------------\n",
      "14\n"
     ]
    },
    {
     "data": {
      "text/html": [
       "<html><script type=\"math/tex; mode=display\">\\newcommand{\\Bold}[1]{\\mathbf{#1}}\\alpha \\beta x</script></html>"
      ],
      "text/plain": [
       "alpha*beta*x"
      ]
     },
     "metadata": {},
     "output_type": "display_data"
    },
    {
     "data": {
      "text/html": [
       "<html><script type=\"math/tex; mode=display\">\\newcommand{\\Bold}[1]{\\mathbf{#1}}{\\left(A_{8_{0}} u_{0_{1}} + A_{8_{1}} u_{1_{1}}\\right)} {\\left(B_{2} + 1\\right)}</script></html>"
      ],
      "text/plain": [
       "(A_8_0*u_0_1 + A_8_1*u_1_1)*(B_2 + 1)"
      ]
     },
     "metadata": {},
     "output_type": "display_data"
    },
    {
     "data": {
      "text/html": [
       "<html><script type=\"math/tex; mode=display\">\\newcommand{\\Bold}[1]{\\mathbf{#1}}\\left[\\left[A_{1} = -\\frac{r_{14681}}{r_{14681} + 1}, A_{2} = 0, A_{4} = 0, A_{5} = 0, A_{8_{0}} = 0, A_{8_{1}} = 0, A_{9_{0}} = r_{14679}, A_{9_{1}} = -\\frac{r_{14679} u_{2_{2}}}{u_{3_{2}}}, B_{1} = r_{14680}, B_{2} = r_{14681}, B_{3} = r_{14682}, C_{8_{0}} = r_{14683}, C_{8_{1}} = -\\frac{r_{14683} u_{0_{2}}}{u_{1_{2}}}\\right]\\right]</script></html>"
      ],
      "text/plain": [
       "[[A_1 == -r14681/(r14681 + 1), A_2 == 0, A_4 == 0, A_5 == 0, A_8_0 == 0, A_8_1 == 0, A_9_0 == r14679, A_9_1 == -r14679*u_2_2/u_3_2, B_1 == r14680, B_2 == r14681, B_3 == r14682, C_8_0 == r14683, C_8_1 == -r14683*u_0_2/u_1_2]]"
      ]
     },
     "metadata": {},
     "output_type": "display_data"
    },
    {
     "name": "stdout",
     "output_type": "stream",
     "text": [
      "-------------------------------------------\n",
      "15\n"
     ]
    },
    {
     "data": {
      "text/html": [
       "<html><script type=\"math/tex; mode=display\">\\newcommand{\\Bold}[1]{\\mathbf{#1}}\\beta x</script></html>"
      ],
      "text/plain": [
       "beta*x"
      ]
     },
     "metadata": {},
     "output_type": "display_data"
    },
    {
     "data": {
      "text/html": [
       "<html><script type=\"math/tex; mode=display\">\\newcommand{\\Bold}[1]{\\mathbf{#1}}{\\left(A_{8_{0}} u_{0_{1}} + A_{8_{1}} u_{1_{1}}\\right)} B_{1} - C_{8_{0}} u_{0_{1}} - C_{8_{1}} u_{1_{1}}</script></html>"
      ],
      "text/plain": [
       "(A_8_0*u_0_1 + A_8_1*u_1_1)*B_1 - C_8_0*u_0_1 - C_8_1*u_1_1"
      ]
     },
     "metadata": {},
     "output_type": "display_data"
    },
    {
     "data": {
      "text/html": [
       "<html><script type=\"math/tex; mode=display\">\\newcommand{\\Bold}[1]{\\mathbf{#1}}\\left[\\left[A_{1} = -\\frac{r_{15427}}{r_{15427} + 1}, A_{2} = 0, A_{4} = 0, A_{5} = 0, A_{8_{0}} = 0, A_{8_{1}} = 0, A_{9_{0}} = r_{15425}, A_{9_{1}} = -\\frac{r_{15425} u_{2_{2}}}{u_{3_{2}}}, B_{1} = r_{15426}, B_{2} = r_{15427}, B_{3} = r_{15428}, C_{8_{0}} = 0, C_{8_{1}} = 0\\right]\\right]</script></html>"
      ],
      "text/plain": [
       "[[A_1 == -r15427/(r15427 + 1), A_2 == 0, A_4 == 0, A_5 == 0, A_8_0 == 0, A_8_1 == 0, A_9_0 == r15425, A_9_1 == -r15425*u_2_2/u_3_2, B_1 == r15426, B_2 == r15427, B_3 == r15428, C_8_0 == 0, C_8_1 == 0]]"
      ]
     },
     "metadata": {},
     "output_type": "display_data"
    },
    {
     "name": "stdout",
     "output_type": "stream",
     "text": [
      "-------------------------------------------\n",
      "16\n"
     ]
    },
    {
     "data": {
      "text/html": [
       "<html><script type=\"math/tex; mode=display\">\\newcommand{\\Bold}[1]{\\mathbf{#1}}\\beta^{2} x</script></html>"
      ],
      "text/plain": [
       "beta^2*x"
      ]
     },
     "metadata": {},
     "output_type": "display_data"
    },
    {
     "data": {
      "text/html": [
       "<html><script type=\"math/tex; mode=display\">\\newcommand{\\Bold}[1]{\\mathbf{#1}}{\\left(A_{8_{0}} u_{0_{1}} + A_{8_{1}} u_{1_{1}}\\right)} {\\left(B_{2} + 1\\right)}</script></html>"
      ],
      "text/plain": [
       "(A_8_0*u_0_1 + A_8_1*u_1_1)*(B_2 + 1)"
      ]
     },
     "metadata": {},
     "output_type": "display_data"
    },
    {
     "data": {
      "text/html": [
       "<html><script type=\"math/tex; mode=display\">\\newcommand{\\Bold}[1]{\\mathbf{#1}}\\left[\\left[A_{1} = -\\frac{r_{16082}}{r_{16082} + 1}, A_{2} = 0, A_{4} = 0, A_{5} = 0, A_{8_{0}} = 0, A_{8_{1}} = 0, A_{9_{0}} = r_{16080}, A_{9_{1}} = -\\frac{r_{16080} u_{2_{2}}}{u_{3_{2}}}, B_{1} = r_{16081}, B_{2} = r_{16082}, B_{3} = r_{16083}, C_{8_{0}} = 0, C_{8_{1}} = 0\\right]\\right]</script></html>"
      ],
      "text/plain": [
       "[[A_1 == -r16082/(r16082 + 1), A_2 == 0, A_4 == 0, A_5 == 0, A_8_0 == 0, A_8_1 == 0, A_9_0 == r16080, A_9_1 == -r16080*u_2_2/u_3_2, B_1 == r16081, B_2 == r16082, B_3 == r16083, C_8_0 == 0, C_8_1 == 0]]"
      ]
     },
     "metadata": {},
     "output_type": "display_data"
    },
    {
     "name": "stdout",
     "output_type": "stream",
     "text": [
      "-------------------------------------------\n",
      "17\n"
     ]
    },
    {
     "data": {
      "text/html": [
       "<html><script type=\"math/tex; mode=display\">\\newcommand{\\Bold}[1]{\\mathbf{#1}}\\alpha \\beta \\gamma</script></html>"
      ],
      "text/plain": [
       "alpha*beta*gamma"
      ]
     },
     "metadata": {},
     "output_type": "display_data"
    },
    {
     "data": {
      "text/html": [
       "<html><script type=\"math/tex; mode=display\">\\newcommand{\\Bold}[1]{\\mathbf{#1}}{\\left(A_{5} t_{0} + A_{9_{0}} u_{2_{0}} + A_{9_{1}} u_{3_{0}}\\right)} {\\left(B_{2} + 1\\right)}</script></html>"
      ],
      "text/plain": [
       "(A_5*t_0 + A_9_0*u_2_0 + A_9_1*u_3_0)*(B_2 + 1)"
      ]
     },
     "metadata": {},
     "output_type": "display_data"
    },
    {
     "data": {
      "text/html": [
       "<html><script type=\"math/tex; mode=display\">\\newcommand{\\Bold}[1]{\\mathbf{#1}}\\left[\\left[A_{1} = -\\frac{r_{16732}}{r_{16732} + 1}, A_{2} = 0, A_{4} = 0, A_{5} = 0, A_{8_{0}} = 0, A_{8_{1}} = 0, A_{9_{0}} = 0, A_{9_{1}} = 0, B_{1} = r_{16731}, B_{2} = r_{16732}, B_{3} = r_{16733}, C_{8_{0}} = 0, C_{8_{1}} = 0\\right]\\right]</script></html>"
      ],
      "text/plain": [
       "[[A_1 == -r16732/(r16732 + 1), A_2 == 0, A_4 == 0, A_5 == 0, A_8_0 == 0, A_8_1 == 0, A_9_0 == 0, A_9_1 == 0, B_1 == r16731, B_2 == r16732, B_3 == r16733, C_8_0 == 0, C_8_1 == 0]]"
      ]
     },
     "metadata": {},
     "output_type": "display_data"
    },
    {
     "name": "stdout",
     "output_type": "stream",
     "text": [
      "-------------------------------------------\n",
      "18\n"
     ]
    },
    {
     "data": {
      "text/html": [
       "<html><script type=\"math/tex; mode=display\">\\newcommand{\\Bold}[1]{\\mathbf{#1}}\\beta \\gamma x^{3}</script></html>"
      ],
      "text/plain": [
       "beta*gamma*x^3"
      ]
     },
     "metadata": {},
     "output_type": "display_data"
    },
    {
     "data": {
      "text/html": [
       "<html><script type=\"math/tex; mode=display\">\\newcommand{\\Bold}[1]{\\mathbf{#1}}A_{5} B_{1} t_{3} + A_{3} {\\left(B_{2} + 1\\right)} t_{3} + {\\left(A_{8_{0}} u_{0_{0}} + A_{8_{1}} u_{1_{0}} + A_{2}\\right)} B_{3} t_{3} + {\\left(B_{3} t_{2} + B_{4_{2}}\\right)} {\\left(A_{8_{0}} u_{0_{1}} + A_{8_{1}} u_{1_{1}}\\right)} + {\\left(B_{3} t_{1} + B_{4_{1}}\\right)} {\\left(A_{8_{0}} u_{0_{2}} + A_{8_{1}} u_{1_{2}}\\right)} - C_{5} t_{3}</script></html>"
      ],
      "text/plain": [
       "A_5*B_1*t_3 + A_3*(B_2 + 1)*t_3 + (A_8_0*u_0_0 + A_8_1*u_1_0 + A_2)*B_3*t_3 + (B_3*t_2 + B_4_2)*(A_8_0*u_0_1 + A_8_1*u_1_1) + (B_3*t_1 + B_4_1)*(A_8_0*u_0_2 + A_8_1*u_1_2) - C_5*t_3"
      ]
     },
     "metadata": {},
     "output_type": "display_data"
    },
    {
     "data": {
      "text/html": [
       "<html><script type=\"math/tex; mode=display\">\\newcommand{\\Bold}[1]{\\mathbf{#1}}\\left[\\left[A_{1} = -\\frac{r_{17242}}{r_{17242} + 1}, A_{2} = 0, A_{3} = r_{17240}, A_{4} = 0, A_{5} = 0, A_{8_{0}} = 0, A_{8_{1}} = 0, A_{9_{0}} = 0, A_{9_{1}} = 0, B_{1} = r_{17241}, B_{2} = r_{17242}, B_{3} = r_{17243}, B_{4_{1}} = r_{17244}, B_{4_{2}} = r_{17245}, C_{5} = r_{17240} r_{17242} + r_{17240}, C_{8_{0}} = 0, C_{8_{1}} = 0\\right]\\right]</script></html>"
      ],
      "text/plain": [
       "[[A_1 == -r17242/(r17242 + 1), A_2 == 0, A_3 == r17240, A_4 == 0, A_5 == 0, A_8_0 == 0, A_8_1 == 0, A_9_0 == 0, A_9_1 == 0, B_1 == r17241, B_2 == r17242, B_3 == r17243, B_4_1 == r17244, B_4_2 == r17245, C_5 == r17240*r17242 + r17240, C_8_0 == 0, C_8_1 == 0]]"
      ]
     },
     "metadata": {},
     "output_type": "display_data"
    },
    {
     "name": "stdout",
     "output_type": "stream",
     "text": [
      "-------------------------------------------\n",
      "19\n"
     ]
    },
    {
     "data": {
      "text/html": [
       "<html><script type=\"math/tex; mode=display\">\\newcommand{\\Bold}[1]{\\mathbf{#1}}\\gamma x^{3}</script></html>"
      ],
      "text/plain": [
       "gamma*x^3"
      ]
     },
     "metadata": {},
     "output_type": "display_data"
    },
    {
     "data": {
      "text/html": [
       "<html><script type=\"math/tex; mode=display\">\\newcommand{\\Bold}[1]{\\mathbf{#1}}A_{3} B_{1} t_{3} - C_{3} t_{3}</script></html>"
      ],
      "text/plain": [
       "A_3*B_1*t_3 - C_3*t_3"
      ]
     },
     "metadata": {},
     "output_type": "display_data"
    },
    {
     "data": {
      "text/html": [
       "<html><script type=\"math/tex; mode=display\">\\newcommand{\\Bold}[1]{\\mathbf{#1}}\\left[\\left[A_{1} = -\\frac{r_{17849}}{r_{17849} + 1}, A_{2} = 0, A_{3} = r_{17847}, A_{4} = 0, A_{5} = 0, A_{8_{0}} = 0, A_{8_{1}} = 0, A_{9_{0}} = 0, A_{9_{1}} = 0, B_{1} = r_{17848}, B_{2} = r_{17849}, B_{3} = r_{17850}, B_{4_{1}} = r_{17851}, B_{4_{2}} = r_{17852}, C_{3} = r_{17847} r_{17848}, C_{5} = r_{17847} r_{17849} + r_{17847}, C_{8_{0}} = 0, C_{8_{1}} = 0\\right]\\right]</script></html>"
      ],
      "text/plain": [
       "[[A_1 == -r17849/(r17849 + 1), A_2 == 0, A_3 == r17847, A_4 == 0, A_5 == 0, A_8_0 == 0, A_8_1 == 0, A_9_0 == 0, A_9_1 == 0, B_1 == r17848, B_2 == r17849, B_3 == r17850, B_4_1 == r17851, B_4_2 == r17852, C_3 == r17847*r17848, C_5 == r17847*r17849 + r17847, C_8_0 == 0, C_8_1 == 0]]"
      ]
     },
     "metadata": {},
     "output_type": "display_data"
    },
    {
     "name": "stdout",
     "output_type": "stream",
     "text": [
      "-------------------------------------------\n",
      "20\n"
     ]
    },
    {
     "data": {
      "text/html": [
       "<html><script type=\"math/tex; mode=display\">\\newcommand{\\Bold}[1]{\\mathbf{#1}}\\beta \\gamma x^{4}</script></html>"
      ],
      "text/plain": [
       "beta*gamma*x^4"
      ]
     },
     "metadata": {},
     "output_type": "display_data"
    },
    {
     "data": {
      "text/html": [
       "<html><script type=\"math/tex; mode=display\">\\newcommand{\\Bold}[1]{\\mathbf{#1}}{\\left(A_{8_{0}} u_{0_{1}} + A_{8_{1}} u_{1_{1}}\\right)} B_{3} t_{3} + {\\left(B_{3} t_{2} + B_{4_{2}}\\right)} {\\left(A_{8_{0}} u_{0_{2}} + A_{8_{1}} u_{1_{2}}\\right)}</script></html>"
      ],
      "text/plain": [
       "(A_8_0*u_0_1 + A_8_1*u_1_1)*B_3*t_3 + (B_3*t_2 + B_4_2)*(A_8_0*u_0_2 + A_8_1*u_1_2)"
      ]
     },
     "metadata": {},
     "output_type": "display_data"
    },
    {
     "data": {
      "text/html": [
       "<html><script type=\"math/tex; mode=display\">\\newcommand{\\Bold}[1]{\\mathbf{#1}}\\left[\\left[A_{1} = -\\frac{r_{18447}}{r_{18447} + 1}, A_{2} = 0, A_{3} = r_{18445}, A_{4} = 0, A_{5} = 0, A_{8_{0}} = 0, A_{8_{1}} = 0, A_{9_{0}} = 0, A_{9_{1}} = 0, B_{1} = r_{18446}, B_{2} = r_{18447}, B_{3} = r_{18448}, B_{4_{1}} = r_{18449}, B_{4_{2}} = r_{18450}, C_{3} = r_{18445} r_{18446}, C_{5} = r_{18445} r_{18447} + r_{18445}, C_{8_{0}} = 0, C_{8_{1}} = 0\\right]\\right]</script></html>"
      ],
      "text/plain": [
       "[[A_1 == -r18447/(r18447 + 1), A_2 == 0, A_3 == r18445, A_4 == 0, A_5 == 0, A_8_0 == 0, A_8_1 == 0, A_9_0 == 0, A_9_1 == 0, B_1 == r18446, B_2 == r18447, B_3 == r18448, B_4_1 == r18449, B_4_2 == r18450, C_3 == r18445*r18446, C_5 == r18445*r18447 + r18445, C_8_0 == 0, C_8_1 == 0]]"
      ]
     },
     "metadata": {},
     "output_type": "display_data"
    },
    {
     "name": "stdout",
     "output_type": "stream",
     "text": [
      "-------------------------------------------\n",
      "21\n"
     ]
    },
    {
     "data": {
      "text/html": [
       "<html><script type=\"math/tex; mode=display\">\\newcommand{\\Bold}[1]{\\mathbf{#1}}\\beta^{2} \\gamma</script></html>"
      ],
      "text/plain": [
       "beta^2*gamma"
      ]
     },
     "metadata": {},
     "output_type": "display_data"
    },
    {
     "data": {
      "text/html": [
       "<html><script type=\"math/tex; mode=display\">\\newcommand{\\Bold}[1]{\\mathbf{#1}}{\\left(A_{5} t_{0} + A_{9_{0}} u_{2_{0}} + A_{9_{1}} u_{3_{0}}\\right)} {\\left(B_{2} + 1\\right)}</script></html>"
      ],
      "text/plain": [
       "(A_5*t_0 + A_9_0*u_2_0 + A_9_1*u_3_0)*(B_2 + 1)"
      ]
     },
     "metadata": {},
     "output_type": "display_data"
    },
    {
     "data": {
      "text/html": [
       "<html><script type=\"math/tex; mode=display\">\\newcommand{\\Bold}[1]{\\mathbf{#1}}\\left[\\left[A_{1} = -\\frac{r_{19039}}{r_{19039} + 1}, A_{2} = 0, A_{3} = r_{19037}, A_{4} = 0, A_{5} = 0, A_{8_{0}} = 0, A_{8_{1}} = 0, A_{9_{0}} = 0, A_{9_{1}} = 0, B_{1} = r_{19038}, B_{2} = r_{19039}, B_{3} = r_{19040}, B_{4_{1}} = r_{19041}, B_{4_{2}} = r_{19042}, C_{3} = r_{19037} r_{19038}, C_{5} = r_{19037} r_{19039} + r_{19037}, C_{8_{0}} = 0, C_{8_{1}} = 0\\right]\\right]</script></html>"
      ],
      "text/plain": [
       "[[A_1 == -r19039/(r19039 + 1), A_2 == 0, A_3 == r19037, A_4 == 0, A_5 == 0, A_8_0 == 0, A_8_1 == 0, A_9_0 == 0, A_9_1 == 0, B_1 == r19038, B_2 == r19039, B_3 == r19040, B_4_1 == r19041, B_4_2 == r19042, C_3 == r19037*r19038, C_5 == r19037*r19039 + r19037, C_8_0 == 0, C_8_1 == 0]]"
      ]
     },
     "metadata": {},
     "output_type": "display_data"
    },
    {
     "name": "stdout",
     "output_type": "stream",
     "text": [
      "-------------------------------------------\n",
      "22\n"
     ]
    },
    {
     "data": {
      "text/html": [
       "<html><script type=\"math/tex; mode=display\">\\newcommand{\\Bold}[1]{\\mathbf{#1}}\\alpha \\gamma^{2} x^{5}</script></html>"
      ],
      "text/plain": [
       "alpha*gamma^2*x^5"
      ]
     },
     "metadata": {},
     "output_type": "display_data"
    },
    {
     "data": {
      "text/html": [
       "<html><script type=\"math/tex; mode=display\">\\newcommand{\\Bold}[1]{\\mathbf{#1}}{\\left(B_{3} t_{2} + B_{4_{2}}\\right)} A_{5} t_{3} + {\\left(A_{5} t_{2} + A_{9_{0}} u_{2_{2}} + A_{9_{1}} u_{3_{2}}\\right)} B_{3} t_{3}</script></html>"
      ],
      "text/plain": [
       "(B_3*t_2 + B_4_2)*A_5*t_3 + (A_5*t_2 + A_9_0*u_2_2 + A_9_1*u_3_2)*B_3*t_3"
      ]
     },
     "metadata": {},
     "output_type": "display_data"
    },
    {
     "data": {
      "text/html": [
       "<html><script type=\"math/tex; mode=display\">\\newcommand{\\Bold}[1]{\\mathbf{#1}}\\left[\\left[A_{1} = -\\frac{r_{19625}}{r_{19625} + 1}, A_{2} = 0, A_{3} = r_{19623}, A_{4} = 0, A_{5} = 0, A_{8_{0}} = 0, A_{8_{1}} = 0, A_{9_{0}} = 0, A_{9_{1}} = 0, B_{1} = r_{19624}, B_{2} = r_{19625}, B_{3} = r_{19626}, B_{4_{1}} = r_{19627}, B_{4_{2}} = r_{19628}, C_{3} = r_{19623} r_{19624}, C_{5} = r_{19623} r_{19625} + r_{19623}, C_{8_{0}} = 0, C_{8_{1}} = 0\\right]\\right]</script></html>"
      ],
      "text/plain": [
       "[[A_1 == -r19625/(r19625 + 1), A_2 == 0, A_3 == r19623, A_4 == 0, A_5 == 0, A_8_0 == 0, A_8_1 == 0, A_9_0 == 0, A_9_1 == 0, B_1 == r19624, B_2 == r19625, B_3 == r19626, B_4_1 == r19627, B_4_2 == r19628, C_3 == r19623*r19624, C_5 == r19623*r19625 + r19623, C_8_0 == 0, C_8_1 == 0]]"
      ]
     },
     "metadata": {},
     "output_type": "display_data"
    },
    {
     "name": "stdout",
     "output_type": "stream",
     "text": [
      "-------------------------------------------\n",
      "23\n"
     ]
    },
    {
     "data": {
      "text/html": [
       "<html><script type=\"math/tex; mode=display\">\\newcommand{\\Bold}[1]{\\mathbf{#1}}\\alpha \\beta \\gamma x^{2}</script></html>"
      ],
      "text/plain": [
       "alpha*beta*gamma*x^2"
      ]
     },
     "metadata": {},
     "output_type": "display_data"
    },
    {
     "data": {
      "text/html": [
       "<html><script type=\"math/tex; mode=display\">\\newcommand{\\Bold}[1]{\\mathbf{#1}}{\\left(A_{5} t_{2} + A_{9_{0}} u_{2_{2}} + A_{9_{1}} u_{3_{2}}\\right)} {\\left(B_{2} + 1\\right)}</script></html>"
      ],
      "text/plain": [
       "(A_5*t_2 + A_9_0*u_2_2 + A_9_1*u_3_2)*(B_2 + 1)"
      ]
     },
     "metadata": {},
     "output_type": "display_data"
    },
    {
     "data": {
      "text/html": [
       "<html><script type=\"math/tex; mode=display\">\\newcommand{\\Bold}[1]{\\mathbf{#1}}\\left[\\left[A_{1} = -\\frac{r_{20205}}{r_{20205} + 1}, A_{2} = 0, A_{3} = r_{20203}, A_{4} = 0, A_{5} = 0, A_{8_{0}} = 0, A_{8_{1}} = 0, A_{9_{0}} = 0, A_{9_{1}} = 0, B_{1} = r_{20204}, B_{2} = r_{20205}, B_{3} = r_{20206}, B_{4_{1}} = r_{20207}, B_{4_{2}} = r_{20208}, C_{3} = r_{20203} r_{20204}, C_{5} = r_{20203} r_{20205} + r_{20203}, C_{8_{0}} = 0, C_{8_{1}} = 0\\right]\\right]</script></html>"
      ],
      "text/plain": [
       "[[A_1 == -r20205/(r20205 + 1), A_2 == 0, A_3 == r20203, A_4 == 0, A_5 == 0, A_8_0 == 0, A_8_1 == 0, A_9_0 == 0, A_9_1 == 0, B_1 == r20204, B_2 == r20205, B_3 == r20206, B_4_1 == r20207, B_4_2 == r20208, C_3 == r20203*r20204, C_5 == r20203*r20205 + r20203, C_8_0 == 0, C_8_1 == 0]]"
      ]
     },
     "metadata": {},
     "output_type": "display_data"
    },
    {
     "name": "stdout",
     "output_type": "stream",
     "text": [
      "-------------------------------------------\n",
      "24\n"
     ]
    },
    {
     "data": {
      "text/html": [
       "<html><script type=\"math/tex; mode=display\">\\newcommand{\\Bold}[1]{\\mathbf{#1}}\\alpha \\gamma x^{4}</script></html>"
      ],
      "text/plain": [
       "alpha*gamma*x^4"
      ]
     },
     "metadata": {},
     "output_type": "display_data"
    },
    {
     "data": {
      "text/html": [
       "<html><script type=\"math/tex; mode=display\">\\newcommand{\\Bold}[1]{\\mathbf{#1}}{\\left(A_{8_{0}} u_{0_{1}} + A_{8_{1}} u_{1_{1}}\\right)} B_{3} t_{3} + {\\left(B_{3} t_{2} + B_{4_{2}}\\right)} {\\left(A_{8_{0}} u_{0_{2}} + A_{8_{1}} u_{1_{2}}\\right)}</script></html>"
      ],
      "text/plain": [
       "(A_8_0*u_0_1 + A_8_1*u_1_1)*B_3*t_3 + (B_3*t_2 + B_4_2)*(A_8_0*u_0_2 + A_8_1*u_1_2)"
      ]
     },
     "metadata": {},
     "output_type": "display_data"
    },
    {
     "data": {
      "text/html": [
       "<html><script type=\"math/tex; mode=display\">\\newcommand{\\Bold}[1]{\\mathbf{#1}}\\left[\\left[A_{1} = -\\frac{r_{20872}}{r_{20872} + 1}, A_{2} = 0, A_{3} = r_{20870}, A_{4} = 0, A_{5} = 0, A_{8_{0}} = 0, A_{8_{1}} = 0, A_{9_{0}} = 0, A_{9_{1}} = 0, B_{1} = r_{20871}, B_{2} = r_{20872}, B_{3} = r_{20873}, B_{4_{1}} = r_{20874}, B_{4_{2}} = r_{20875}, C_{3} = r_{20870} r_{20871}, C_{5} = r_{20870} r_{20872} + r_{20870}, C_{8_{0}} = 0, C_{8_{1}} = 0\\right]\\right]</script></html>"
      ],
      "text/plain": [
       "[[A_1 == -r20872/(r20872 + 1), A_2 == 0, A_3 == r20870, A_4 == 0, A_5 == 0, A_8_0 == 0, A_8_1 == 0, A_9_0 == 0, A_9_1 == 0, B_1 == r20871, B_2 == r20872, B_3 == r20873, B_4_1 == r20874, B_4_2 == r20875, C_3 == r20870*r20871, C_5 == r20870*r20872 + r20870, C_8_0 == 0, C_8_1 == 0]]"
      ]
     },
     "metadata": {},
     "output_type": "display_data"
    },
    {
     "name": "stdout",
     "output_type": "stream",
     "text": [
      "-------------------------------------------\n",
      "25\n"
     ]
    },
    {
     "data": {
      "text/html": [
       "<html><script type=\"math/tex; mode=display\">\\newcommand{\\Bold}[1]{\\mathbf{#1}}\\beta^{2} \\gamma x</script></html>"
      ],
      "text/plain": [
       "beta^2*gamma*x"
      ]
     },
     "metadata": {},
     "output_type": "display_data"
    },
    {
     "data": {
      "text/html": [
       "<html><script type=\"math/tex; mode=display\">\\newcommand{\\Bold}[1]{\\mathbf{#1}}{\\left(A_{5} t_{1} + A_{9_{0}} u_{2_{1}} + A_{9_{1}} u_{3_{1}}\\right)} {\\left(B_{2} + 1\\right)}</script></html>"
      ],
      "text/plain": [
       "(A_5*t_1 + A_9_0*u_2_1 + A_9_1*u_3_1)*(B_2 + 1)"
      ]
     },
     "metadata": {},
     "output_type": "display_data"
    },
    {
     "data": {
      "text/html": [
       "<html><script type=\"math/tex; mode=display\">\\newcommand{\\Bold}[1]{\\mathbf{#1}}\\left[\\left[A_{1} = -\\frac{r_{21533}}{r_{21533} + 1}, A_{2} = 0, A_{3} = r_{21531}, A_{4} = 0, A_{5} = 0, A_{8_{0}} = 0, A_{8_{1}} = 0, A_{9_{0}} = 0, A_{9_{1}} = 0, B_{1} = r_{21532}, B_{2} = r_{21533}, B_{3} = r_{21534}, B_{4_{1}} = r_{21535}, B_{4_{2}} = r_{21536}, C_{3} = r_{21531} r_{21532}, C_{5} = r_{21531} r_{21533} + r_{21531}, C_{8_{0}} = 0, C_{8_{1}} = 0\\right]\\right]</script></html>"
      ],
      "text/plain": [
       "[[A_1 == -r21533/(r21533 + 1), A_2 == 0, A_3 == r21531, A_4 == 0, A_5 == 0, A_8_0 == 0, A_8_1 == 0, A_9_0 == 0, A_9_1 == 0, B_1 == r21532, B_2 == r21533, B_3 == r21534, B_4_1 == r21535, B_4_2 == r21536, C_3 == r21531*r21532, C_5 == r21531*r21533 + r21531, C_8_0 == 0, C_8_1 == 0]]"
      ]
     },
     "metadata": {},
     "output_type": "display_data"
    },
    {
     "name": "stdout",
     "output_type": "stream",
     "text": [
      "-------------------------------------------\n",
      "26\n"
     ]
    },
    {
     "data": {
      "text/html": [
       "<html><script type=\"math/tex; mode=display\">\\newcommand{\\Bold}[1]{\\mathbf{#1}}\\beta \\gamma^{2} x^{4}</script></html>"
      ],
      "text/plain": [
       "beta*gamma^2*x^4"
      ]
     },
     "metadata": {},
     "output_type": "display_data"
    },
    {
     "data": {
      "text/html": [
       "<html><script type=\"math/tex; mode=display\">\\newcommand{\\Bold}[1]{\\mathbf{#1}}{\\left(B_{3} t_{1} + B_{4_{1}}\\right)} A_{5} t_{3} + {\\left(A_{5} t_{1} + A_{9_{0}} u_{2_{1}} + A_{9_{1}} u_{3_{1}}\\right)} B_{3} t_{3} + {\\left(A_{5} t_{2} + A_{9_{0}} u_{2_{2}} + A_{9_{1}} u_{3_{2}}\\right)} {\\left(B_{3} t_{2} + B_{4_{2}}\\right)} + {\\left({\\left(t_{2}^{2} + 2 \\, t_{1} t_{3}\\right)} A_{4} + A_{7_{2}} t_{2} + A_{7_{1}} t_{3}\\right)} {\\left(B_{2} + 1\\right)}</script></html>"
      ],
      "text/plain": [
       "(B_3*t_1 + B_4_1)*A_5*t_3 + (A_5*t_1 + A_9_0*u_2_1 + A_9_1*u_3_1)*B_3*t_3 + (A_5*t_2 + A_9_0*u_2_2 + A_9_1*u_3_2)*(B_3*t_2 + B_4_2) + ((t_2^2 + 2*t_1*t_3)*A_4 + A_7_2*t_2 + A_7_1*t_3)*(B_2 + 1)"
      ]
     },
     "metadata": {},
     "output_type": "display_data"
    },
    {
     "data": {
      "text/html": [
       "<html><script type=\"math/tex; mode=display\">\\newcommand{\\Bold}[1]{\\mathbf{#1}}\\left[\\left[A_{1} = -\\frac{r_{22096}}{r_{22096} + 1}, A_{2} = 0, A_{3} = r_{22093}, A_{4} = 0, A_{5} = 0, A_{7_{1}} = r_{22094}, A_{7_{2}} = -\\frac{r_{22094} t_{3}}{t_{2}}, A_{8_{0}} = 0, A_{8_{1}} = 0, A_{9_{0}} = 0, A_{9_{1}} = 0, B_{1} = r_{22095}, B_{2} = r_{22096}, B_{3} = r_{22097}, B_{4_{1}} = r_{22098}, B_{4_{2}} = r_{22099}, C_{3} = r_{22093} r_{22095}, C_{5} = r_{22093} r_{22096} + r_{22093}, C_{8_{0}} = 0, C_{8_{1}} = 0\\right]\\right]</script></html>"
      ],
      "text/plain": [
       "[[A_1 == -r22096/(r22096 + 1), A_2 == 0, A_3 == r22093, A_4 == 0, A_5 == 0, A_7_1 == r22094, A_7_2 == -r22094*t_3/t_2, A_8_0 == 0, A_8_1 == 0, A_9_0 == 0, A_9_1 == 0, B_1 == r22095, B_2 == r22096, B_3 == r22097, B_4_1 == r22098, B_4_2 == r22099, C_3 == r22093*r22095, C_5 == r22093*r22096 + r22093, C_8_0 == 0, C_8_1 == 0]]"
      ]
     },
     "metadata": {},
     "output_type": "display_data"
    },
    {
     "name": "stdout",
     "output_type": "stream",
     "text": [
      "-------------------------------------------\n",
      "27\n"
     ]
    },
    {
     "data": {
      "text/html": [
       "<html><script type=\"math/tex; mode=display\">\\newcommand{\\Bold}[1]{\\mathbf{#1}}\\beta \\gamma^{2} x^{5}</script></html>"
      ],
      "text/plain": [
       "beta*gamma^2*x^5"
      ]
     },
     "metadata": {},
     "output_type": "display_data"
    },
    {
     "data": {
      "text/html": [
       "<html><script type=\"math/tex; mode=display\">\\newcommand{\\Bold}[1]{\\mathbf{#1}}{\\left(B_{3} t_{2} + B_{4_{2}}\\right)} A_{5} t_{3} + {\\left(A_{5} t_{2} + A_{9_{0}} u_{2_{2}} + A_{9_{1}} u_{3_{2}}\\right)} B_{3} t_{3} + {\\left(2 \\, A_{4} t_{2} t_{3} + A_{7_{2}} t_{3}\\right)} {\\left(B_{2} + 1\\right)}</script></html>"
      ],
      "text/plain": [
       "(B_3*t_2 + B_4_2)*A_5*t_3 + (A_5*t_2 + A_9_0*u_2_2 + A_9_1*u_3_2)*B_3*t_3 + (2*A_4*t_2*t_3 + A_7_2*t_3)*(B_2 + 1)"
      ]
     },
     "metadata": {},
     "output_type": "display_data"
    },
    {
     "data": {
      "text/html": [
       "<html><script type=\"math/tex; mode=display\">\\newcommand{\\Bold}[1]{\\mathbf{#1}}\\left[\\left[A_{1} = -\\frac{r_{22675}}{r_{22675} + 1}, A_{2} = 0, A_{3} = r_{22673}, A_{4} = 0, A_{5} = 0, A_{7_{1}} = 0, A_{7_{2}} = 0, A_{8_{0}} = 0, A_{8_{1}} = 0, A_{9_{0}} = 0, A_{9_{1}} = 0, B_{1} = r_{22674}, B_{2} = r_{22675}, B_{3} = r_{22676}, B_{4_{1}} = r_{22677}, B_{4_{2}} = r_{22678}, C_{3} = r_{22673} r_{22674}, C_{5} = r_{22673} r_{22675} + r_{22673}, C_{8_{0}} = 0, C_{8_{1}} = 0\\right]\\right]</script></html>"
      ],
      "text/plain": [
       "[[A_1 == -r22675/(r22675 + 1), A_2 == 0, A_3 == r22673, A_4 == 0, A_5 == 0, A_7_1 == 0, A_7_2 == 0, A_8_0 == 0, A_8_1 == 0, A_9_0 == 0, A_9_1 == 0, B_1 == r22674, B_2 == r22675, B_3 == r22676, B_4_1 == r22677, B_4_2 == r22678, C_3 == r22673*r22674, C_5 == r22673*r22675 + r22673, C_8_0 == 0, C_8_1 == 0]]"
      ]
     },
     "metadata": {},
     "output_type": "display_data"
    },
    {
     "name": "stdout",
     "output_type": "stream",
     "text": [
      "-------------------------------------------\n",
      "28\n"
     ]
    },
    {
     "data": {
      "text/html": [
       "<html><script type=\"math/tex; mode=display\">\\newcommand{\\Bold}[1]{\\mathbf{#1}}\\gamma x</script></html>"
      ],
      "text/plain": [
       "gamma*x"
      ]
     },
     "metadata": {},
     "output_type": "display_data"
    },
    {
     "data": {
      "text/html": [
       "<html><script type=\"math/tex; mode=display\">\\newcommand{\\Bold}[1]{\\mathbf{#1}}{\\left(A_{3} t_{1} + A_{8_{0}} w_{0_{1}} + A_{8_{1}} w_{1_{1}} + A_{6_{1}}\\right)} B_{1} - C_{3} t_{1} - C_{8_{0}} w_{0_{1}} - C_{8_{1}} w_{1_{1}} - C_{6_{1}}</script></html>"
      ],
      "text/plain": [
       "(A_3*t_1 + A_8_0*w_0_1 + A_8_1*w_1_1 + A_6_1)*B_1 - C_3*t_1 - C_8_0*w_0_1 - C_8_1*w_1_1 - C_6_1"
      ]
     },
     "metadata": {},
     "output_type": "display_data"
    },
    {
     "data": {
      "text/html": [
       "<html><script type=\"math/tex; mode=display\">\\newcommand{\\Bold}[1]{\\mathbf{#1}}\\left[\\left[A_{1} = -\\frac{r_{23204}}{r_{23204} + 1}, A_{2} = 0, A_{3} = r_{23201}, A_{4} = 0, A_{5} = 0, A_{6_{1}} = r_{23202}, A_{7_{1}} = 0, A_{7_{2}} = 0, A_{8_{0}} = 0, A_{8_{1}} = 0, A_{9_{0}} = 0, A_{9_{1}} = 0, B_{1} = r_{23203}, B_{2} = r_{23204}, B_{3} = r_{23205}, B_{4_{1}} = r_{23206}, B_{4_{2}} = r_{23207}, C_{3} = r_{23201} r_{23203}, C_{5} = r_{23201} r_{23204} + r_{23201}, C_{6_{1}} = r_{23202} r_{23203}, C_{8_{0}} = 0, C_{8_{1}} = 0\\right]\\right]</script></html>"
      ],
      "text/plain": [
       "[[A_1 == -r23204/(r23204 + 1), A_2 == 0, A_3 == r23201, A_4 == 0, A_5 == 0, A_6_1 == r23202, A_7_1 == 0, A_7_2 == 0, A_8_0 == 0, A_8_1 == 0, A_9_0 == 0, A_9_1 == 0, B_1 == r23203, B_2 == r23204, B_3 == r23205, B_4_1 == r23206, B_4_2 == r23207, C_3 == r23201*r23203, C_5 == r23201*r23204 + r23201, C_6_1 == r23202*r23203, C_8_0 == 0, C_8_1 == 0]]"
      ]
     },
     "metadata": {},
     "output_type": "display_data"
    },
    {
     "name": "stdout",
     "output_type": "stream",
     "text": [
      "-------------------------------------------\n",
      "29\n"
     ]
    },
    {
     "data": {
      "text/html": [
       "<html><script type=\"math/tex; mode=display\">\\newcommand{\\Bold}[1]{\\mathbf{#1}}\\alpha</script></html>"
      ],
      "text/plain": [
       "alpha"
      ]
     },
     "metadata": {},
     "output_type": "display_data"
    },
    {
     "data": {
      "text/html": [
       "<html><script type=\"math/tex; mode=display\">\\newcommand{\\Bold}[1]{\\mathbf{#1}}{\\left(A_{8_{0}} u_{0_{0}} + A_{8_{1}} u_{1_{0}} + A_{1} + 1\\right)} B_{1} - C_{8_{0}} u_{0_{0}} - C_{8_{1}} u_{1_{0}} - C_{1}</script></html>"
      ],
      "text/plain": [
       "(A_8_0*u_0_0 + A_8_1*u_1_0 + A_1 + 1)*B_1 - C_8_0*u_0_0 - C_8_1*u_1_0 - C_1"
      ]
     },
     "metadata": {},
     "output_type": "display_data"
    },
    {
     "data": {
      "text/html": [
       "<html><script type=\"math/tex; mode=display\">\\newcommand{\\Bold}[1]{\\mathbf{#1}}\\left[\\left[A_{1} = -\\frac{r_{23773}}{r_{23773} + 1}, A_{2} = 0, A_{3} = r_{23771}, A_{4} = 0, A_{5} = 0, A_{6_{1}} = r_{23772}, A_{7_{1}} = 0, A_{7_{2}} = 0, A_{8_{0}} = 0, A_{8_{1}} = 0, A_{9_{0}} = 0, A_{9_{1}} = 0, B_{1} = {\\left(r_{23773} + 1\\right)} r_{23777}, B_{2} = r_{23773}, B_{3} = r_{23774}, B_{4_{1}} = r_{23775}, B_{4_{2}} = r_{23776}, C_{1} = r_{23777}, C_{3} = r_{23771} {\\left(r_{23773} + 1\\right)} r_{23777}, C_{5} = r_{23771} r_{23773} + r_{23771}, C_{6_{1}} = {\\left(r_{23772} r_{23773} + r_{23772}\\right)} r_{23777}, C_{8_{0}} = 0, C_{8_{1}} = 0\\right]\\right]</script></html>"
      ],
      "text/plain": [
       "[[A_1 == -r23773/(r23773 + 1), A_2 == 0, A_3 == r23771, A_4 == 0, A_5 == 0, A_6_1 == r23772, A_7_1 == 0, A_7_2 == 0, A_8_0 == 0, A_8_1 == 0, A_9_0 == 0, A_9_1 == 0, B_1 == (r23773 + 1)*r23777, B_2 == r23773, B_3 == r23774, B_4_1 == r23775, B_4_2 == r23776, C_1 == r23777, C_3 == r23771*(r23773 + 1)*r23777, C_5 == r23771*r23773 + r23771, C_6_1 == (r23772*r23773 + r23772)*r23777, C_8_0 == 0, C_8_1 == 0]]"
      ]
     },
     "metadata": {},
     "output_type": "display_data"
    },
    {
     "name": "stdout",
     "output_type": "stream",
     "text": [
      "-------------------------------------------\n",
      "30\n"
     ]
    },
    {
     "data": {
      "text/html": [
       "<html><script type=\"math/tex; mode=display\">\\newcommand{\\Bold}[1]{\\mathbf{#1}}\\alpha \\gamma^{2} x^{4}</script></html>"
      ],
      "text/plain": [
       "alpha*gamma^2*x^4"
      ]
     },
     "metadata": {},
     "output_type": "display_data"
    },
    {
     "data": {
      "text/html": [
       "<html><script type=\"math/tex; mode=display\">\\newcommand{\\Bold}[1]{\\mathbf{#1}}{\\left(B_{3} t_{1} + B_{4_{1}}\\right)} A_{5} t_{3} + {\\left(A_{5} t_{1} + A_{9_{0}} u_{2_{1}} + A_{9_{1}} u_{3_{1}}\\right)} B_{3} t_{3} + {\\left(A_{5} t_{2} + A_{9_{0}} u_{2_{2}} + A_{9_{1}} u_{3_{2}}\\right)} {\\left(B_{3} t_{2} + B_{4_{2}}\\right)}</script></html>"
      ],
      "text/plain": [
       "(B_3*t_1 + B_4_1)*A_5*t_3 + (A_5*t_1 + A_9_0*u_2_1 + A_9_1*u_3_1)*B_3*t_3 + (A_5*t_2 + A_9_0*u_2_2 + A_9_1*u_3_2)*(B_3*t_2 + B_4_2)"
      ]
     },
     "metadata": {},
     "output_type": "display_data"
    },
    {
     "data": {
      "text/html": [
       "<html><script type=\"math/tex; mode=display\">\\newcommand{\\Bold}[1]{\\mathbf{#1}}\\left[\\left[A_{1} = -\\frac{r_{24336}}{r_{24336} + 1}, A_{2} = 0, A_{3} = r_{24334}, A_{4} = 0, A_{5} = 0, A_{6_{1}} = r_{24335}, A_{7_{1}} = 0, A_{7_{2}} = 0, A_{8_{0}} = 0, A_{8_{1}} = 0, A_{9_{0}} = 0, A_{9_{1}} = 0, B_{1} = {\\left(r_{24336} + 1\\right)} r_{24340}, B_{2} = r_{24336}, B_{3} = r_{24337}, B_{4_{1}} = r_{24338}, B_{4_{2}} = r_{24339}, C_{1} = r_{24340}, C_{3} = r_{24334} {\\left(r_{24336} + 1\\right)} r_{24340}, C_{5} = r_{24334} r_{24336} + r_{24334}, C_{6_{1}} = {\\left(r_{24335} r_{24336} + r_{24335}\\right)} r_{24340}, C_{8_{0}} = 0, C_{8_{1}} = 0\\right]\\right]</script></html>"
      ],
      "text/plain": [
       "[[A_1 == -r24336/(r24336 + 1), A_2 == 0, A_3 == r24334, A_4 == 0, A_5 == 0, A_6_1 == r24335, A_7_1 == 0, A_7_2 == 0, A_8_0 == 0, A_8_1 == 0, A_9_0 == 0, A_9_1 == 0, B_1 == (r24336 + 1)*r24340, B_2 == r24336, B_3 == r24337, B_4_1 == r24338, B_4_2 == r24339, C_1 == r24340, C_3 == r24334*(r24336 + 1)*r24340, C_5 == r24334*r24336 + r24334, C_6_1 == (r24335*r24336 + r24335)*r24340, C_8_0 == 0, C_8_1 == 0]]"
      ]
     },
     "metadata": {},
     "output_type": "display_data"
    },
    {
     "name": "stdout",
     "output_type": "stream",
     "text": [
      "-------------------------------------------\n",
      "31\n"
     ]
    },
    {
     "data": {
      "text/html": [
       "<html><script type=\"math/tex; mode=display\">\\newcommand{\\Bold}[1]{\\mathbf{#1}}\\alpha \\gamma^{2}</script></html>"
      ],
      "text/plain": [
       "alpha*gamma^2"
      ]
     },
     "metadata": {},
     "output_type": "display_data"
    },
    {
     "data": {
      "text/html": [
       "<html><script type=\"math/tex; mode=display\">\\newcommand{\\Bold}[1]{\\mathbf{#1}}{\\left(A_{5} t_{0} + A_{9_{0}} u_{2_{0}} + A_{9_{1}} u_{3_{0}}\\right)} {\\left(B_{3} t_{0} + B_{4_{0}}\\right)}</script></html>"
      ],
      "text/plain": [
       "(A_5*t_0 + A_9_0*u_2_0 + A_9_1*u_3_0)*(B_3*t_0 + B_4_0)"
      ]
     },
     "metadata": {},
     "output_type": "display_data"
    },
    {
     "data": {
      "text/html": [
       "<html><script type=\"math/tex; mode=display\">\\newcommand{\\Bold}[1]{\\mathbf{#1}}\\left[\\left[A_{1} = -\\frac{r_{24931}}{r_{24931} + 1}, A_{2} = 0, A_{3} = r_{24929}, A_{4} = 0, A_{5} = 0, A_{6_{1}} = r_{24930}, A_{7_{1}} = 0, A_{7_{2}} = 0, A_{8_{0}} = 0, A_{8_{1}} = 0, A_{9_{0}} = 0, A_{9_{1}} = 0, B_{1} = {\\left(r_{24931} + 1\\right)} r_{24936}, B_{2} = r_{24931}, B_{3} = r_{24932}, B_{4_{0}} = r_{24933}, B_{4_{1}} = r_{24934}, B_{4_{2}} = r_{24935}, C_{1} = r_{24936}, C_{3} = r_{24929} {\\left(r_{24931} + 1\\right)} r_{24936}, C_{5} = r_{24929} r_{24931} + r_{24929}, C_{6_{1}} = {\\left(r_{24930} r_{24931} + r_{24930}\\right)} r_{24936}, C_{8_{0}} = 0, C_{8_{1}} = 0\\right]\\right]</script></html>"
      ],
      "text/plain": [
       "[[A_1 == -r24931/(r24931 + 1), A_2 == 0, A_3 == r24929, A_4 == 0, A_5 == 0, A_6_1 == r24930, A_7_1 == 0, A_7_2 == 0, A_8_0 == 0, A_8_1 == 0, A_9_0 == 0, A_9_1 == 0, B_1 == (r24931 + 1)*r24936, B_2 == r24931, B_3 == r24932, B_4_0 == r24933, B_4_1 == r24934, B_4_2 == r24935, C_1 == r24936, C_3 == r24929*(r24931 + 1)*r24936, C_5 == r24929*r24931 + r24929, C_6_1 == (r24930*r24931 + r24930)*r24936, C_8_0 == 0, C_8_1 == 0]]"
      ]
     },
     "metadata": {},
     "output_type": "display_data"
    },
    {
     "name": "stdout",
     "output_type": "stream",
     "text": [
      "-------------------------------------------\n",
      "33\n"
     ]
    },
    {
     "data": {
      "text/html": [
       "<html><script type=\"math/tex; mode=display\">\\newcommand{\\Bold}[1]{\\mathbf{#1}}\\alpha x</script></html>"
      ],
      "text/plain": [
       "alpha*x"
      ]
     },
     "metadata": {},
     "output_type": "display_data"
    },
    {
     "data": {
      "text/html": [
       "<html><script type=\"math/tex; mode=display\">\\newcommand{\\Bold}[1]{\\mathbf{#1}}{\\left(A_{8_{0}} u_{0_{1}} + A_{8_{1}} u_{1_{1}}\\right)} B_{1} - C_{8_{0}} u_{0_{1}} - C_{8_{1}} u_{1_{1}}</script></html>"
      ],
      "text/plain": [
       "(A_8_0*u_0_1 + A_8_1*u_1_1)*B_1 - C_8_0*u_0_1 - C_8_1*u_1_1"
      ]
     },
     "metadata": {},
     "output_type": "display_data"
    },
    {
     "data": {
      "text/html": [
       "<html><script type=\"math/tex; mode=display\">\\newcommand{\\Bold}[1]{\\mathbf{#1}}\\left[\\left[A_{1} = -\\frac{r_{26954}}{r_{26954} + 1}, A_{2} = 0, A_{3} = r_{26951}, A_{4} = 0, A_{5} = 0, A_{6_{0}} = r_{26952}, A_{6_{1}} = r_{26953}, A_{7_{1}} = 0, A_{7_{2}} = 0, A_{8_{0}} = 0, A_{8_{1}} = 0, A_{9_{0}} = 0, A_{9_{1}} = 0, B_{1} = {\\left(r_{26954} + 1\\right)} r_{26959}, B_{2} = r_{26954}, B_{3} = r_{26955}, B_{4_{0}} = r_{26956}, B_{4_{1}} = r_{26957}, B_{4_{2}} = r_{26958}, C_{1} = r_{26959}, C_{3} = r_{26951} {\\left(r_{26954} + 1\\right)} r_{26959}, C_{5} = r_{26951} r_{26954} + r_{26951}, C_{6_{0}} = {\\left(r_{26952} r_{26954} + r_{26952}\\right)} r_{26959}, C_{6_{1}} = r_{26953} {\\left(r_{26954} + 1\\right)} r_{26959}, C_{8_{0}} = 0, C_{8_{1}} = 0\\right], \\left[A_{1} = -\\frac{r_{26963}}{r_{26963} + 1}, A_{2} = 0, A_{3} = r_{26960}, A_{4} = 0, A_{5} = 0, A_{6_{0}} = r_{26961}, A_{6_{1}} = r_{26962}, A_{7_{1}} = 0, A_{7_{2}} = 0, A_{8_{0}} = 0, A_{8_{1}} = 0, A_{9_{0}} = 0, A_{9_{1}} = 0, B_{1} = {\\left(r_{26963} + 1\\right)} r_{26967}, B_{2} = r_{26963}, B_{3} = 0, B_{4_{0}} = r_{26964}, B_{4_{1}} = r_{26965}, B_{4_{2}} = r_{26966}, C_{1} = r_{26967}, C_{3} = r_{26960} {\\left(r_{26963} + 1\\right)} r_{26967}, C_{5} = r_{26960} r_{26963} + r_{26960}, C_{6_{0}} = {\\left(r_{26961} r_{26963} + r_{26961}\\right)} r_{26967}, C_{6_{1}} = {\\left(r_{26962} r_{26963} + r_{26962}\\right)} r_{26967}, C_{8_{0}} = 0, C_{8_{1}} = 0\\right]\\right]</script></html>"
      ],
      "text/plain": [
       "[[A_1 == -r26954/(r26954 + 1), A_2 == 0, A_3 == r26951, A_4 == 0, A_5 == 0, A_6_0 == r26952, A_6_1 == r26953, A_7_1 == 0, A_7_2 == 0, A_8_0 == 0, A_8_1 == 0, A_9_0 == 0, A_9_1 == 0, B_1 == (r26954 + 1)*r26959, B_2 == r26954, B_3 == r26955, B_4_0 == r26956, B_4_1 == r26957, B_4_2 == r26958, C_1 == r26959, C_3 == r26951*(r26954 + 1)*r26959, C_5 == r26951*r26954 + r26951, C_6_0 == (r26952*r26954 + r26952)*r26959, C_6_1 == r26953*(r26954 + 1)*r26959, C_8_0 == 0, C_8_1 == 0], [A_1 == -r26963/(r26963 + 1), A_2 == 0, A_3 == r26960, A_4 == 0, A_5 == 0, A_6_0 == r26961, A_6_1 == r26962, A_7_1 == 0, A_7_2 == 0, A_8_0 == 0, A_8_1 == 0, A_9_0 == 0, A_9_1 == 0, B_1 == (r26963 + 1)*r26967, B_2 == r26963, B_3 == 0, B_4_0 == r26964, B_4_1 == r26965, B_4_2 == r26966, C_1 == r26967, C_3 == r26960*(r26963 + 1)*r26967, C_5 == r26960*r26963 + r26960, C_6_0 == (r26961*r26963 + r26961)*r26967, C_6_1 == (r26962*r26963 + r26962)*r26967, C_8_0 == 0, C_8_1 == 0]]"
      ]
     },
     "metadata": {},
     "output_type": "display_data"
    },
    {
     "name": "stdout",
     "output_type": "stream",
     "text": [
      "-------------------------------------------\n",
      "34\n"
     ]
    },
    {
     "data": {
      "text/html": [
       "<html><script type=\"math/tex; mode=display\">\\newcommand{\\Bold}[1]{\\mathbf{#1}}\\beta</script></html>"
      ],
      "text/plain": [
       "beta"
      ]
     },
     "metadata": {},
     "output_type": "display_data"
    },
    {
     "data": {
      "text/html": [
       "<html><script type=\"math/tex; mode=display\">\\newcommand{\\Bold}[1]{\\mathbf{#1}}{\\left(A_{8_{0}} u_{0_{0}} + A_{8_{1}} u_{1_{0}} + A_{2}\\right)} B_{1} - C_{8_{0}} u_{0_{0}} - C_{8_{1}} u_{1_{0}} - C_{2}</script></html>"
      ],
      "text/plain": [
       "(A_8_0*u_0_0 + A_8_1*u_1_0 + A_2)*B_1 - C_8_0*u_0_0 - C_8_1*u_1_0 - C_2"
      ]
     },
     "metadata": {},
     "output_type": "display_data"
    }
   ],
   "source": [
    "# Interpreting the solution\n",
    "import random\n",
    "import itertools\n",
    "\n",
    "system = V1_1_r.coefficients()\n",
    "totallen = len(system)\n",
    "print(totallen)\n",
    "\n",
    "allmons = V1_1_r.monomials()\n",
    "\n",
    "#mons = [alpha * beta, alpha, beta, alpha ** 2, beta ** 2] + \\\n",
    "#  [alpha * beta * gamma, alpha * gamma**(n-1), beta**2 * x, beta**2 * x**(n-1), alpha * gamma * x**(2*n-1), beta * x, alpha * x**(n-1), beta * gamma * x]\n",
    "\n",
    "mons = [] # alpha * beta, alpha, beta]\n",
    "#        gamma**3 * x**(3*n), \\\n",
    "#        gamma**3 * x**(3*n-1), \\\n",
    "#        gamma**3 * x**(3*n-2), \\\n",
    "#        gamma**3 * x**(2*n), \\\n",
    "#        gamma**3 * x**(2*n-1), \\\n",
    "#        gamma**3 * x**(2*n-2), \\\n",
    "#        beta * gamma**2 * x**(2*n), \\\n",
    "#        beta * gamma**2 * x**(2*n-1), \\\n",
    "#        alpha * gamma**2 * x**(2*n), \\\n",
    "#        alpha * gamma**2 * x**(2*n-1), \\\n",
    "#        \n",
    "#        #alpha * beta * x, \\\n",
    "#        #alpha * x, \\\n",
    "#        #beta ** 2 * gamma * x ** 2, \\\n",
    "#        #beta * x, \\\n",
    "#        #gamma, \\\n",
    "#        #beta ** 2 * gamma, \\\n",
    "#        \n",
    "#        #beta**2 * gamma * x**n, \\\n",
    "#        #beta*alpha * gamma * x**n, \\\n",
    "#        #alpha**2 * gamma * x**n, \\\n",
    "#        #alpha * beta * gamma * x, \\\n",
    "#        #gamma ** 2, \\\n",
    "#        #gamma ** 3, \\\n",
    "#        #beta**2 * gamma, \\\n",
    "#        #alpha * beta * gamma, \\\n",
    "#        #alpha * gamma ** 2, \\\n",
    "#        #alpha * beta * x, \\\n",
    "#        #alpha * gamma, \\\n",
    "#        #beta * gamma, \\\n",
    "#        #alpha * gamma * x \\\n",
    "#       ]\n",
    "#mons = allmons\n",
    "print(len(system))\n",
    "\n",
    "\n",
    "system_0 = list(V1_1_r.monomial_coefficient(mon) for mon in mons)\n",
    "\n",
    "for i in range(35):\n",
    "    sol = solve_system(system_0, ABC_vars + s_all)\n",
    "    show(sol)\n",
    "    solweight = len(dumps(sol))\n",
    "    #print(solweight)\n",
    "    \n",
    "    notincludedmons = filter(lambda m: m not in mons, allmons)\n",
    "    \n",
    "    totry = list(itertools.combinations(notincludedmons, 1))\n",
    "    random.shuffle(totry)\n",
    "    #if i > 20:\n",
    "    #    totry = totry[:5]\n",
    "    #else:\n",
    "    #    totry = totry[:50]\n",
    "    \n",
    "    all_sols = {}\n",
    "    \n",
    "    for ms in totry:\n",
    "        system = system_0 + list(V1_1_r.monomial_coefficient(m) for m in ms)\n",
    "        sols = solve_system(system, ABC_vars + s_all)\n",
    "        if len(sols) == 0:\n",
    "            print(\"Zero solutions achieved\")\n",
    "    \n",
    "        #weight = max(map(lambda x: len(dumps(x)), sols))\n",
    "        weight = len(dumps(sols))\n",
    "        #print(weight)\n",
    "        \n",
    "        if weight < solweight | weight > solweight + 100:\n",
    "            all_sols.update({ms:weight})\n",
    "        \n",
    "    nextmons = min(all_sols, key=all_sols.get) \n",
    "    system_0 = system_0 + list(V1_1_r.monomial_coefficient(m) for m in nextmons)\n",
    "    mons.extend(nextmons)\n",
    "    \n",
    "    print(\"-------------------------------------------\")\n",
    "    print(i)\n",
    "    for m in nextmons:\n",
    "        show(m)\n",
    "        show(V1_1_r.monomial_coefficient(m))"
   ]
  },
  {
   "cell_type": "code",
   "execution_count": null,
   "metadata": {},
   "outputs": [],
   "source": []
  }
 ],
 "metadata": {
  "kernelspec": {
   "display_name": "SageMath 8.8",
   "language": "sagemath",
   "name": "sagemath"
  },
  "language_info": {
   "codemirror_mode": {
    "name": "ipython",
    "version": 2
   },
   "file_extension": ".py",
   "mimetype": "text/x-python",
   "name": "python",
   "nbconvert_exporter": "python",
   "pygments_lexer": "ipython2",
   "version": "2.7.17"
  }
 },
 "nbformat": 4,
 "nbformat_minor": 2
}
