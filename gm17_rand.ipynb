{
 "cells": [
  {
   "cell_type": "code",
   "execution_count": 7,
   "metadata": {},
   "outputs": [],
   "source": [
    "%display latex\n",
    "\n",
    "def defvars(label, n):\n",
    "    return list(var(label + '_%d' % i) for i in range(n))\n",
    "\n",
    "def defpoly_from_basis(label, basis):\n",
    "    coeffs = defvars(label,len(basis))\n",
    "    poly = sum(c*x for c,x in zip(coeffs,basis))\n",
    "    return (coeffs,poly)\n",
    "\n",
    "def defpoly(label, d): \n",
    "    return defpoly_from_basis(label, list(x**i for i in range(d+1)))\n",
    "\n",
    "def subst_poly(poly,table):\n",
    "    return sum((poly.monomial_coefficient(v).subs(table) * v for v in poly.monomials()))\n",
    "\n",
    "def poly_to_sym(poly):\n",
    "    return sum([b*n^a for (a,b) in enumerate(poly)])\n",
    "\n",
    "def solve_system(target, variables):\n",
    "    system_vars = list(set(flatten(list(x.variables() for x in target))))\n",
    "    relevant_vars = list(filter(lambda y: y in system_vars, variables))\n",
    "    return solve(target, relevant_vars)"
   ]
  },
  {
   "cell_type": "code",
   "execution_count": 8,
   "metadata": {},
   "outputs": [
    {
     "name": "stdout",
     "output_type": "stream",
     "text": [
      "Defining alpha, beta, gamma, r, x, mu_0\n"
     ]
    }
   ],
   "source": [
    "# GM17 (old) CRS to simplify the attempts to prove it sound without V2\n",
    "\n",
    "n = 3\n",
    "m = 6\n",
    "l = 4\n",
    "q = 1\n",
    "\n",
    "var('alpha,beta,gamma,x') # CRS trapdoors\n",
    "var('r') # proof random\n",
    "\n",
    "# TODO WE DON'T GENERATE SIM INST/WITNESSES VARS\n",
    "s_phi = list(var('s_%d' % i) for i in range(l+1))\n",
    "s_wit = list(var('s_%d' % i) for i in range(l+1,m+1))\n",
    "\n",
    "ringvars = ['alpha','beta','gamma','r','x']\n",
    "#ringvars.extend(list(('s_%d' % i) for i in range(l+1, m+1)))\n",
    "ringvars.extend(list(('mu_%d' % i) for i in range(q)))\n",
    "\n",
    "R = LaurentPolynomialRing(SR, ringvars)\n",
    "R.inject_variables()\n",
    "\n",
    "mu = list(R('mu_%d' % i) for i in range(q))\n",
    "\n",
    "s_all = s_phi + s_wit\n",
    "\n",
    "t_coeffs,t = defpoly('t',n)\n",
    "h_coeffs,h = defpoly('h',n-2)\n",
    "\n",
    "us = []\n",
    "uscoeffs = []\n",
    "vs = []\n",
    "vscoeffs = []\n",
    "ws = []\n",
    "wscoeffs = []\n",
    "\n",
    "for i in range(m+1):\n",
    "    u_coeffs,u = defpoly('u_%d'%i,n-1)\n",
    "    us.append(u); uscoeffs.append(u_coeffs)\n",
    "    \n",
    "    v_coeffs,v = defpoly('v_%d'%i,n-1)\n",
    "    vs.append(v); vscoeffs.append(v_coeffs)\n",
    "    \n",
    "    w_coeffs,w = defpoly('w_%d'%i,n-1)\n",
    "    ws.append(w); wscoeffs.append(w_coeffs)\n",
    "\n",
    "f = sum(s_all[i] * ((alpha + beta) * gamma * us[i] + gamma ** 2 * ws[i]) for i in range(0,l+1))\n",
    "    \n",
    "sigma_1 = [alpha,beta,gamma*t,gamma**2*t**2,(alpha+beta)*gamma*t] + \\\n",
    "            list(gamma * x**i for i in range(n)) + \\\n",
    "            list(gamma ** 2 * t * x**i for i in range(n)) + \\\n",
    "            list(gamma * ws[i] + (alpha+beta) * us[i] for i in range(l+1)) + \\\n",
    "            list(gamma ** 2 * ws[i] + gamma * (alpha+beta) * us[i] for i in range(l+1,m+1)) + \\\n",
    "            list(mu[i] for i in range(q)) + \\\n",
    "            list(mu[i] ** 2 + (alpha + beta) * mu[i] - f for i in range(q))\n",
    "sigma_2 = [1,beta,gamma*t] + \\\n",
    "            list(gamma * x**i for i in range(n)) + \\\n",
    "            list(mu[i] for i in range(q))\n",
    "\n",
    "var('A_1,A_2,A_3,A_4,A_5')\n",
    "A6_vars = defvars('A_6', n)\n",
    "A7_vars = defvars('A_7', n)\n",
    "A8_vars = defvars('A_8', l+1)\n",
    "A9_vars = defvars('A_9', m-l)\n",
    "A10_vars = defvars('A_10', q)\n",
    "A11_vars = defvars('A_11', q)\n",
    "\n",
    "var('B_1,B_2,B_3')\n",
    "B4_vars = defvars('B_4', n)\n",
    "B5_vars = defvars('B_5', q)\n",
    "\n",
    "var('C_1,C_2,C_3,C_4,C_5')\n",
    "C6_vars = defvars('C_6', n)\n",
    "C7_vars = defvars('C_7', n)\n",
    "C8_vars = defvars('C_8', l+1)\n",
    "C9_vars = defvars('C_9', m-l)\n",
    "C10_vars = defvars('C_10', q)\n",
    "C11_vars = defvars('C_11', q)\n",
    "\n",
    "A_vars = [A_1,A_2,A_3,A_4,A_5] + A6_vars + A7_vars + A8_vars + A9_vars + A10_vars + A11_vars\n",
    "B_vars = [B_1,B_2,B_3] + B4_vars + B5_vars\n",
    "C_vars = [C_1,C_2,C_3,C_4,C_5] + C6_vars + C7_vars + C8_vars + C9_vars + C10_vars + C11_vars\n",
    "\n",
    "ABC_vars = A_vars + B_vars + C_vars\n",
    "\n",
    "A = sum(c*x for c,x in zip(A_vars,sigma_1))\n",
    "B = sum(c*x for c,x in zip(B_vars,sigma_2))\n",
    "C = sum(c*x for c,x in zip(C_vars,sigma_1))\n",
    "\n",
    "V1_1_r = (A + alpha) * (B + beta) - alpha*beta - f - C\n",
    "\n",
    "\n",
    "ss_phi = list(var('ss_%d' % i) for i in range(l+1))\n",
    "ss_wit = list(var('ss_%d' % i) for i in range(l+1, m+1))\n",
    "ss_all = ss_phi + ss_wit\n",
    "\n",
    "qsp_eq = sum(ss_all[i] * us[i] for i in range(m+1)) * sum(ss_all[i] * us[i] for i in range(m+1)) - \\\n",
    "            sum(ss_all[i] * ws[i] for i in range(m+1)) - h * t"
   ]
  },
  {
   "cell_type": "code",
   "execution_count": 9,
   "metadata": {
    "scrolled": true
   },
   "outputs": [],
   "source": [
    "\n",
    "\n",
    "#known_sols = dict({A_4: 0, A_5: 0},\n",
    "#    **{v: 0 for v in A9_vars + A7_vars})\n",
    "#eq_mod = subst_poly(V1_1_r, known_sols)"
   ]
  },
  {
   "cell_type": "code",
   "execution_count": 12,
   "metadata": {},
   "outputs": [
    {
     "data": {
      "text/html": [
       "<html><script type=\"math/tex; mode=display\">\\newcommand{\\Bold}[1]{\\mathbf{#1}}A_{4} {\\left(B_{2} + 1\\right)} t_{3}^{2} + A_{5} B_{3} t_{3}^{2}</script></html>"
      ],
      "text/plain": [
       "A_4*(B_2 + 1)*t_3^2 + A_5*B_3*t_3^2"
      ]
     },
     "metadata": {},
     "output_type": "display_data"
    },
    {
     "name": "stdout",
     "output_type": "stream",
     "text": [
      "--------------------------\n"
     ]
    }
   ],
   "source": [
    "def print_coeff(coeff):\n",
    "    show(V1_1_r.monomial_coefficient(coeff))\n",
    "#    show(eq_mod.monomial_coefficient(coeff))\n",
    "    print(\"--------------------------\")\n",
    "\n",
    "print_coeff(beta * gamma**2 * x^(2*n))\n",
    "#print_coeff(alpha)\n",
    "#print_coeff(alpha * x)\n",
    "#print_coeff(alpha * x**2)\n",
    "#print_coeff(beta)\n",
    "#print_coeff(beta * x)\n",
    "#print_coeff(beta * x**2)\n",
    "#print_coeff(gamma**3 * x**(3*n))\n",
    "#print_coeff(alpha * gamma**2 * x**(2*n))\n",
    "#print_coeff(beta * gamma**2 * x**(2*n))\n",
    "#print_coeff(alpha * beta)\n",
    "#print_coeff(alpha * beta * x)\n",
    "#print_coeff(alpha * beta * gamma)\n",
    "#print_coeff(alpha*gamma)\n",
    "#print_coeff(alpha ** 2)\n",
    "#print_coeff(gamma * alpha * x**n)\n",
    "#print_coeff(gamma * beta * x**n)\n",
    "#print_coeff(gamma**2 * x**n)\n",
    "#show(qsp_eq)"
   ]
  },
  {
   "cell_type": "code",
   "execution_count": 4,
   "metadata": {
    "scrolled": true
   },
   "outputs": [
    {
     "name": "stdout",
     "output_type": "stream",
     "text": [
      "67\n"
     ]
    },
    {
     "ename": "RuntimeError",
     "evalue": "ECL says: Console interrupt.",
     "output_type": "error",
     "traceback": [
      "\u001b[0;31m---------------------------------------------------------------------------\u001b[0m",
      "\u001b[0;31mRuntimeError\u001b[0m                              Traceback (most recent call last)",
      "\u001b[0;32m<ipython-input-4-09b9a427ee36>\u001b[0m in \u001b[0;36m<module>\u001b[0;34m()\u001b[0m\n\u001b[1;32m      1\u001b[0m \u001b[0msystem\u001b[0m \u001b[0;34m=\u001b[0m \u001b[0mV1_1_r\u001b[0m\u001b[0;34m.\u001b[0m\u001b[0mcoefficients\u001b[0m\u001b[0;34m(\u001b[0m\u001b[0;34m)\u001b[0m\u001b[0;34m\u001b[0m\u001b[0m\n\u001b[1;32m      2\u001b[0m \u001b[0;32mprint\u001b[0m\u001b[0;34m(\u001b[0m\u001b[0mlen\u001b[0m\u001b[0;34m(\u001b[0m\u001b[0msystem\u001b[0m\u001b[0;34m)\u001b[0m\u001b[0;34m)\u001b[0m\u001b[0;34m\u001b[0m\u001b[0m\n\u001b[0;32m----> 3\u001b[0;31m \u001b[0msols\u001b[0m \u001b[0;34m=\u001b[0m \u001b[0msolve_system\u001b[0m\u001b[0;34m(\u001b[0m\u001b[0msystem\u001b[0m\u001b[0;34m,\u001b[0m \u001b[0mABC_vars\u001b[0m \u001b[0;34m+\u001b[0m \u001b[0ms_all\u001b[0m\u001b[0;34m)\u001b[0m\u001b[0;34m\u001b[0m\u001b[0m\n\u001b[0m\u001b[1;32m      4\u001b[0m \u001b[0;34m\u001b[0m\u001b[0m\n\u001b[1;32m      5\u001b[0m \u001b[0;32mprint\u001b[0m\u001b[0;34m(\u001b[0m\u001b[0mlen\u001b[0m\u001b[0;34m(\u001b[0m\u001b[0msols\u001b[0m\u001b[0;34m)\u001b[0m\u001b[0;34m)\u001b[0m\u001b[0;34m\u001b[0m\u001b[0m\n",
      "\u001b[0;32m<ipython-input-3-f9e88b505347>\u001b[0m in \u001b[0;36msolve_system\u001b[0;34m(target, variables)\u001b[0m\n\u001b[1;32m      2\u001b[0m     \u001b[0msystem_vars\u001b[0m \u001b[0;34m=\u001b[0m \u001b[0mlist\u001b[0m\u001b[0;34m(\u001b[0m\u001b[0mset\u001b[0m\u001b[0;34m(\u001b[0m\u001b[0mflatten\u001b[0m\u001b[0;34m(\u001b[0m\u001b[0mlist\u001b[0m\u001b[0;34m(\u001b[0m\u001b[0mx\u001b[0m\u001b[0;34m.\u001b[0m\u001b[0mvariables\u001b[0m\u001b[0;34m(\u001b[0m\u001b[0;34m)\u001b[0m \u001b[0;32mfor\u001b[0m \u001b[0mx\u001b[0m \u001b[0;32min\u001b[0m \u001b[0mtarget\u001b[0m\u001b[0;34m)\u001b[0m\u001b[0;34m)\u001b[0m\u001b[0;34m)\u001b[0m\u001b[0;34m)\u001b[0m\u001b[0;34m\u001b[0m\u001b[0m\n\u001b[1;32m      3\u001b[0m     \u001b[0mrelevant_vars\u001b[0m \u001b[0;34m=\u001b[0m \u001b[0mlist\u001b[0m\u001b[0;34m(\u001b[0m\u001b[0mfilter\u001b[0m\u001b[0;34m(\u001b[0m\u001b[0;32mlambda\u001b[0m \u001b[0my\u001b[0m\u001b[0;34m:\u001b[0m \u001b[0my\u001b[0m \u001b[0;32min\u001b[0m \u001b[0msystem_vars\u001b[0m\u001b[0;34m,\u001b[0m \u001b[0mvariables\u001b[0m\u001b[0;34m)\u001b[0m\u001b[0;34m)\u001b[0m\u001b[0;34m\u001b[0m\u001b[0m\n\u001b[0;32m----> 4\u001b[0;31m     \u001b[0;32mreturn\u001b[0m \u001b[0msolve\u001b[0m\u001b[0;34m(\u001b[0m\u001b[0mtarget\u001b[0m\u001b[0;34m,\u001b[0m \u001b[0mrelevant_vars\u001b[0m\u001b[0;34m)\u001b[0m\u001b[0;34m\u001b[0m\u001b[0m\n\u001b[0m\u001b[1;32m      5\u001b[0m \u001b[0;34m\u001b[0m\u001b[0m\n\u001b[1;32m      6\u001b[0m \u001b[0mshow\u001b[0m\u001b[0;34m(\u001b[0m\u001b[0mV1_1_r\u001b[0m\u001b[0;34m.\u001b[0m\u001b[0mmonomial_coefficient\u001b[0m\u001b[0;34m(\u001b[0m\u001b[0mbeta\u001b[0m\u001b[0;34m*\u001b[0m\u001b[0mx\u001b[0m\u001b[0;34m)\u001b[0m\u001b[0;34m)\u001b[0m\u001b[0;34m\u001b[0m\u001b[0m\n",
      "\u001b[0;32m/nix/store/431dvs5pkk82x5fl41ca2gw201gd5k7m-python-2.7.17-env/lib/python2.7/site-packages/sage/symbolic/relation.pyc\u001b[0m in \u001b[0;36msolve\u001b[0;34m(f, *args, **kwds)\u001b[0m\n\u001b[1;32m   1111\u001b[0m     \u001b[0;32mexcept\u001b[0m \u001b[0mException\u001b[0m\u001b[0;34m:\u001b[0m \u001b[0;31m# if Maxima gave an error, try its to_poly_solve\u001b[0m\u001b[0;34m\u001b[0m\u001b[0m\n\u001b[1;32m   1112\u001b[0m         \u001b[0;32mtry\u001b[0m\u001b[0;34m:\u001b[0m\u001b[0;34m\u001b[0m\u001b[0m\n\u001b[0;32m-> 1113\u001b[0;31m             \u001b[0ms\u001b[0m \u001b[0;34m=\u001b[0m \u001b[0mm\u001b[0m\u001b[0;34m.\u001b[0m\u001b[0mto_poly_solve\u001b[0m\u001b[0;34m(\u001b[0m\u001b[0mvariables\u001b[0m\u001b[0;34m)\u001b[0m\u001b[0;34m\u001b[0m\u001b[0m\n\u001b[0m\u001b[1;32m   1114\u001b[0m         \u001b[0;32mexcept\u001b[0m \u001b[0mTypeError\u001b[0m \u001b[0;32mas\u001b[0m \u001b[0mmess\u001b[0m\u001b[0;34m:\u001b[0m \u001b[0;31m# if that gives an error, raise an error.\u001b[0m\u001b[0;34m\u001b[0m\u001b[0m\n\u001b[1;32m   1115\u001b[0m             \u001b[0;32mif\u001b[0m \u001b[0;34m\"Error executing code in Maxima\"\u001b[0m \u001b[0;32min\u001b[0m \u001b[0mstr\u001b[0m\u001b[0;34m(\u001b[0m\u001b[0mmess\u001b[0m\u001b[0;34m)\u001b[0m\u001b[0;34m:\u001b[0m\u001b[0;34m\u001b[0m\u001b[0m\n",
      "\u001b[0;32m/nix/store/431dvs5pkk82x5fl41ca2gw201gd5k7m-python-2.7.17-env/lib/python2.7/site-packages/sage/interfaces/maxima_lib.pyc\u001b[0m in \u001b[0;36mto_poly_solve\u001b[0;34m(self, vars, options)\u001b[0m\n\u001b[1;32m   1115\u001b[0m         \u001b[0;32melse\u001b[0m\u001b[0;34m:\u001b[0m\u001b[0;34m\u001b[0m\u001b[0m\n\u001b[1;32m   1116\u001b[0m             \u001b[0mcmd\u001b[0m\u001b[0;34m=\u001b[0m\u001b[0mEclObject\u001b[0m\u001b[0;34m(\u001b[0m\u001b[0;34m[\u001b[0m\u001b[0;34m[\u001b[0m\u001b[0mmax_to_poly_solve\u001b[0m\u001b[0;34m]\u001b[0m\u001b[0;34m,\u001b[0m \u001b[0mself\u001b[0m\u001b[0;34m.\u001b[0m\u001b[0mecl\u001b[0m\u001b[0;34m(\u001b[0m\u001b[0;34m)\u001b[0m\u001b[0;34m,\u001b[0m \u001b[0msr_to_max\u001b[0m\u001b[0;34m(\u001b[0m\u001b[0mvars\u001b[0m\u001b[0;34m)\u001b[0m\u001b[0;34m]\u001b[0m\u001b[0;34m)\u001b[0m\u001b[0;34m\u001b[0m\u001b[0m\n\u001b[0;32m-> 1117\u001b[0;31m         \u001b[0;32mreturn\u001b[0m \u001b[0mself\u001b[0m\u001b[0;34m.\u001b[0m\u001b[0mparent\u001b[0m\u001b[0;34m(\u001b[0m\u001b[0;34m)\u001b[0m\u001b[0;34m(\u001b[0m\u001b[0mmaxima_eval\u001b[0m\u001b[0;34m(\u001b[0m\u001b[0mcmd\u001b[0m\u001b[0;34m)\u001b[0m\u001b[0;34m)\u001b[0m\u001b[0;34m\u001b[0m\u001b[0m\n\u001b[0m\u001b[1;32m   1118\u001b[0m \u001b[0;34m\u001b[0m\u001b[0m\n\u001b[1;32m   1119\u001b[0m     \u001b[0;32mdef\u001b[0m \u001b[0mdisplay2d\u001b[0m\u001b[0;34m(\u001b[0m\u001b[0mself\u001b[0m\u001b[0;34m,\u001b[0m \u001b[0monscreen\u001b[0m\u001b[0;34m=\u001b[0m\u001b[0mTrue\u001b[0m\u001b[0;34m)\u001b[0m\u001b[0;34m:\u001b[0m\u001b[0;34m\u001b[0m\u001b[0m\n",
      "\u001b[0;32m/nix/store/431dvs5pkk82x5fl41ca2gw201gd5k7m-python-2.7.17-env/lib/python2.7/site-packages/sage/libs/ecl.pyx\u001b[0m in \u001b[0;36msage.libs.ecl.EclObject.__call__ (build/cythonized/sage/libs/ecl.c:7790)\u001b[0;34m()\u001b[0m\n\u001b[1;32m    804\u001b[0m         \"\"\"\n\u001b[1;32m    805\u001b[0m         \u001b[0mlispargs\u001b[0m \u001b[0;34m=\u001b[0m \u001b[0mEclObject\u001b[0m\u001b[0;34m(\u001b[0m\u001b[0mlist\u001b[0m\u001b[0;34m(\u001b[0m\u001b[0margs\u001b[0m\u001b[0;34m)\u001b[0m\u001b[0;34m)\u001b[0m\u001b[0;34m\u001b[0m\u001b[0m\n\u001b[0;32m--> 806\u001b[0;31m         \u001b[0;32mreturn\u001b[0m \u001b[0mecl_wrap\u001b[0m\u001b[0;34m(\u001b[0m\u001b[0mecl_safe_apply\u001b[0m\u001b[0;34m(\u001b[0m\u001b[0mself\u001b[0m\u001b[0;34m.\u001b[0m\u001b[0mobj\u001b[0m\u001b[0;34m,\u001b[0m\u001b[0;34m(\u001b[0m\u001b[0;34m<\u001b[0m\u001b[0mEclObject\u001b[0m\u001b[0;34m>\u001b[0m\u001b[0mlispargs\u001b[0m\u001b[0;34m)\u001b[0m\u001b[0;34m.\u001b[0m\u001b[0mobj\u001b[0m\u001b[0;34m)\u001b[0m\u001b[0;34m)\u001b[0m\u001b[0;34m\u001b[0m\u001b[0m\n\u001b[0m\u001b[1;32m    807\u001b[0m \u001b[0;34m\u001b[0m\u001b[0m\n\u001b[1;32m    808\u001b[0m     \u001b[0;32mdef\u001b[0m \u001b[0m__richcmp__\u001b[0m\u001b[0;34m(\u001b[0m\u001b[0mleft\u001b[0m\u001b[0;34m,\u001b[0m \u001b[0mright\u001b[0m\u001b[0;34m,\u001b[0m \u001b[0mint\u001b[0m \u001b[0mop\u001b[0m\u001b[0;34m)\u001b[0m\u001b[0;34m:\u001b[0m\u001b[0;34m\u001b[0m\u001b[0m\n",
      "\u001b[0;32m/nix/store/431dvs5pkk82x5fl41ca2gw201gd5k7m-python-2.7.17-env/lib/python2.7/site-packages/sage/libs/ecl.pyx\u001b[0m in \u001b[0;36msage.libs.ecl.ecl_safe_apply (build/cythonized/sage/libs/ecl.c:5452)\u001b[0;34m()\u001b[0m\n\u001b[1;32m    376\u001b[0m     \u001b[0;32mif\u001b[0m \u001b[0mecl_nvalues\u001b[0m \u001b[0;34m>\u001b[0m \u001b[0;36m1\u001b[0m\u001b[0;34m:\u001b[0m\u001b[0;34m\u001b[0m\u001b[0m\n\u001b[1;32m    377\u001b[0m         \u001b[0ms\u001b[0m \u001b[0;34m=\u001b[0m \u001b[0msi_coerce_to_base_string\u001b[0m\u001b[0;34m(\u001b[0m\u001b[0mecl_values\u001b[0m\u001b[0;34m(\u001b[0m\u001b[0;36m1\u001b[0m\u001b[0;34m)\u001b[0m\u001b[0;34m)\u001b[0m\u001b[0;34m\u001b[0m\u001b[0m\n\u001b[0;32m--> 378\u001b[0;31m         raise RuntimeError(\"ECL says: {}\".format(\n\u001b[0m\u001b[1;32m    379\u001b[0m             char_to_str(ecl_base_string_pointer_safe(s))))\n\u001b[1;32m    380\u001b[0m     \u001b[0;32melse\u001b[0m\u001b[0;34m:\u001b[0m\u001b[0;34m\u001b[0m\u001b[0m\n",
      "\u001b[0;31mRuntimeError\u001b[0m: ECL says: Console interrupt."
     ]
    }
   ],
   "source": [
    "system = V1_1_r.coefficients()\n",
    "print(len(system))\n",
    "sols = solve_system(system, ABC_vars + s_all)\n",
    "\n",
    "print(len(sols))\n",
    "print(sols)\n",
    "with open('gm17_sols_4.txt', 'w') as file:\n",
    "    file.write(dumps(sols))"
   ]
  },
  {
   "cell_type": "code",
   "execution_count": 5,
   "metadata": {
    "scrolled": true
   },
   "outputs": [
    {
     "name": "stdout",
     "output_type": "stream",
     "text": [
      "140\n",
      "not printing sols\n"
     ]
    }
   ],
   "source": [
    "with open('gm17_sols_4.txt', 'r') as file:\n",
    "    content = file.read()\n",
    "    sols = loads(content)\n",
    "    print(len(sols))\n",
    "    if (len(sols) < 5):\n",
    "        for s in sols:    \n",
    "            print('-----------')\n",
    "            show(s)\n",
    "            #show(subst_poly(A,s))\n",
    "            #show(subst_poly(B,s))\n",
    "            #show(subst_poly(C,s))\n",
    "    else:\n",
    "        print(\"not printing sols\")"
   ]
  },
  {
   "cell_type": "code",
   "execution_count": 16,
   "metadata": {
    "scrolled": true
   },
   "outputs": [
    {
     "ename": "NameError",
     "evalue": "name 'V1_1_r' is not defined",
     "output_type": "error",
     "traceback": [
      "\u001b[0;31m---------------------------------------------------------------------------\u001b[0m",
      "\u001b[0;31mNameError\u001b[0m                                 Traceback (most recent call last)",
      "\u001b[0;32m<ipython-input-16-a4ff32fbdf7c>\u001b[0m in \u001b[0;36m<module>\u001b[0;34m()\u001b[0m\n\u001b[1;32m      3\u001b[0m \u001b[0;32mimport\u001b[0m \u001b[0mitertools\u001b[0m\u001b[0;34m\u001b[0m\u001b[0m\n\u001b[1;32m      4\u001b[0m \u001b[0;34m\u001b[0m\u001b[0m\n\u001b[0;32m----> 5\u001b[0;31m \u001b[0msystem\u001b[0m \u001b[0;34m=\u001b[0m \u001b[0mV1_1_r\u001b[0m\u001b[0;34m.\u001b[0m\u001b[0mcoefficients\u001b[0m\u001b[0;34m(\u001b[0m\u001b[0;34m)\u001b[0m\u001b[0;34m\u001b[0m\u001b[0m\n\u001b[0m\u001b[1;32m      6\u001b[0m \u001b[0mtotallen\u001b[0m \u001b[0;34m=\u001b[0m \u001b[0mlen\u001b[0m\u001b[0;34m(\u001b[0m\u001b[0msystem\u001b[0m\u001b[0;34m)\u001b[0m\u001b[0;34m\u001b[0m\u001b[0m\n\u001b[1;32m      7\u001b[0m \u001b[0;32mprint\u001b[0m\u001b[0;34m(\u001b[0m\u001b[0mtotallen\u001b[0m\u001b[0;34m)\u001b[0m\u001b[0;34m\u001b[0m\u001b[0m\n",
      "\u001b[0;31mNameError\u001b[0m: name 'V1_1_r' is not defined"
     ]
    }
   ],
   "source": [
    "# Interpreting the solution\n",
    "import random\n",
    "import itertools\n",
    "\n",
    "system = V1_1_r.coefficients()\n",
    "totallen = len(system)\n",
    "print(totallen)\n",
    "\n",
    "allmons = V1_1_r.monomials()\n",
    "\n",
    "#mons = [alpha * beta, alpha, beta, alpha ** 2, beta ** 2] + \\\n",
    "#  [alpha * beta * gamma, alpha * gamma**(n-1), beta**2 * x, beta**2 * x**(n-1), alpha * gamma * x**(2*n-1), beta * x, alpha * x**(n-1), beta * gamma * x]\n",
    "\n",
    "mons = [] # alpha * beta, alpha, beta]\n",
    "#        gamma**3 * x**(3*n), \\\n",
    "#        gamma**3 * x**(3*n-1), \\\n",
    "#        gamma**3 * x**(3*n-2), \\\n",
    "#        gamma**3 * x**(2*n), \\\n",
    "#        gamma**3 * x**(2*n-1), \\\n",
    "#        gamma**3 * x**(2*n-2), \\\n",
    "#        beta * gamma**2 * x**(2*n), \\\n",
    "#        beta * gamma**2 * x**(2*n-1), \\\n",
    "#        alpha * gamma**2 * x**(2*n), \\\n",
    "#        alpha * gamma**2 * x**(2*n-1), \\\n",
    "#        \n",
    "#        #alpha * beta * x, \\\n",
    "#        #alpha * x, \\\n",
    "#        #beta ** 2 * gamma * x ** 2, \\\n",
    "#        #beta * x, \\\n",
    "#        #gamma, \\\n",
    "#        #beta ** 2 * gamma, \\\n",
    "#        \n",
    "#        #beta**2 * gamma * x**n, \\\n",
    "#        #beta*alpha * gamma * x**n, \\\n",
    "#        #alpha**2 * gamma * x**n, \\\n",
    "#        #alpha * beta * gamma * x, \\\n",
    "#        #gamma ** 2, \\\n",
    "#        #gamma ** 3, \\\n",
    "#        #beta**2 * gamma, \\\n",
    "#        #alpha * beta * gamma, \\\n",
    "#        #alpha * gamma ** 2, \\\n",
    "#        #alpha * beta * x, \\\n",
    "#        #alpha * gamma, \\\n",
    "#        #beta * gamma, \\\n",
    "#        #alpha * gamma * x \\\n",
    "#       ]\n",
    "#mons = allmons\n",
    "print(len(system))\n",
    "\n",
    "add_to_sys = [A_4, A_5] + A9_vars + A7_vars\n",
    "\n",
    "system_0 = list(V1_1_r.monomial_coefficient(mon) for mon in mons) + add_to_sys\n",
    "\n",
    "for i in range(30):\n",
    "    sol = solve_system(system_0, ABC_vars + s_all)\n",
    "    show(sol)\n",
    "    solweight = len(dumps(sol))\n",
    "    #print(solweight)\n",
    "    \n",
    "    notincludedmons = filter(lambda m: m not in mons, allmons)\n",
    "    \n",
    "    totry = list(itertools.combinations(notincludedmons, 1))\n",
    "    random.shuffle(totry)\n",
    "    #if i > 20:\n",
    "    #    totry = totry[:5]\n",
    "    #else:\n",
    "    #    totry = totry[:50]\n",
    "    \n",
    "    all_sols = {}\n",
    "    \n",
    "    for ms in totry:\n",
    "        system = system_0 + list(V1_1_r.monomial_coefficient(m) for m in ms)\n",
    "        sols = solve_system(system, ABC_vars + s_all)\n",
    "        if len(sols) == 0:\n",
    "            print(\"Zero solutions achieved\")\n",
    "    \n",
    "        #weight = max(map(lambda x: len(dumps(x)), sols))\n",
    "        weight = len(dumps(sols))\n",
    "        #print(weight)\n",
    "        \n",
    "        if weight < solweight | weight > solweight + 100:\n",
    "            all_sols.update({ms:weight})\n",
    "        \n",
    "    nextmons = min(all_sols, key=all_sols.get) \n",
    "    system_0 = system_0 + list(V1_1_r.monomial_coefficient(m) for m in nextmons)\n",
    "    mons.extend(nextmons)\n",
    "    \n",
    "    print(\"-------------------------------------------\")\n",
    "    print(i)\n",
    "    for m in nextmons:\n",
    "        show(m)\n",
    "        show(V1_1_r.monomial_coefficient(m))"
   ]
  },
  {
   "cell_type": "code",
   "execution_count": 41,
   "metadata": {},
   "outputs": [
    {
     "data": {
      "text/html": [
       "<html><script type=\"math/tex; mode=display\">\\newcommand{\\Bold}[1]{\\mathbf{#1}}\\left[\\left[A_{1} = r_{101}, A_{2} = r_{102}, A_{3} = 0, B_{2} = r_{103}, B_{3} = 0, C_{4} = 0, C_{5} = 0, t_{n} = r_{104}\\right], \\left[A_{1} = r_{105}, A_{2} = r_{106}, A_{3} = r_{107}, B_{2} = \\left(-1\\right), B_{3} = 0, C_{4} = 0, C_{5} = 0, t_{n} = r_{108}\\right], \\left[A_{1} = r_{109}, A_{2} = r_{109}, A_{3} = 0, B_{2} = 0, B_{3} = r_{110}, C_{4} = 0, C_{5} = r_{110}, t_{n} = r_{111}\\right], \\left[A_{1} = -\\frac{2 \\, r_{112} - \\frac{{\\left(r_{113}^{2} - \\sqrt{r_{113}^{2} + 4 \\, r_{114}} r_{113} + 2 \\, r_{114}\\right)} {\\left(r_{112} - 1\\right)}}{r_{114}}}{\\frac{r_{113}^{2} - \\sqrt{r_{113}^{2} + 4 \\, r_{114}} r_{113} + 2 \\, r_{114}}{r_{114}} - 2}, A_{2} = r_{112}, A_{3} = \\frac{2 \\, {\\left(r_{113}^{2} - \\sqrt{r_{113}^{2} + 4 \\, r_{114}} r_{113} + 2 \\, r_{114}\\right)} r_{113}}{r_{114} {\\left(\\frac{{\\left(r_{113}^{2} - \\sqrt{r_{113}^{2} + 4 \\, r_{114}} r_{113} + 2 \\, r_{114}\\right)}^{2}}{r_{114}^{2}} - \\frac{4 \\, {\\left(r_{113}^{2} - \\sqrt{r_{113}^{2} + 4 \\, r_{114}} r_{113} + 2 \\, r_{114}\\right)}}{r_{114}} + 4\\right)}}, B_{2} = -\\frac{r_{113}^{2} - \\sqrt{r_{113}^{2} + 4 \\, r_{114}} r_{113} + 2 \\, r_{114}}{2 \\, r_{114}}, B_{3} = r_{113}, C_{4} = r_{114}, C_{5} = \\frac{1}{2} \\, r_{113} + \\frac{1}{2} \\, \\sqrt{r_{113}^{2} + 4 \\, r_{114}}, t_{n} = 1\\right], \\left[A_{1} = -\\frac{2 \\, r_{115} - \\frac{{\\left(r_{116}^{2} + \\sqrt{r_{116}^{2} + 4 \\, r_{117}} r_{116} + 2 \\, r_{117}\\right)} {\\left(r_{115} - 1\\right)}}{r_{117}}}{\\frac{r_{116}^{2} + \\sqrt{r_{116}^{2} + 4 \\, r_{117}} r_{116} + 2 \\, r_{117}}{r_{117}} - 2}, A_{2} = r_{115}, A_{3} = \\frac{2 \\, {\\left(r_{116}^{2} + \\sqrt{r_{116}^{2} + 4 \\, r_{117}} r_{116} + 2 \\, r_{117}\\right)} r_{116}}{r_{117} {\\left(\\frac{{\\left(r_{116}^{2} + \\sqrt{r_{116}^{2} + 4 \\, r_{117}} r_{116} + 2 \\, r_{117}\\right)}^{2}}{r_{117}^{2}} - \\frac{4 \\, {\\left(r_{116}^{2} + \\sqrt{r_{116}^{2} + 4 \\, r_{117}} r_{116} + 2 \\, r_{117}\\right)}}{r_{117}} + 4\\right)}}, B_{2} = -\\frac{r_{116}^{2} + \\sqrt{r_{116}^{2} + 4 \\, r_{117}} r_{116} + 2 \\, r_{117}}{2 \\, r_{117}}, B_{3} = r_{116}, C_{4} = r_{117}, C_{5} = \\frac{1}{2} \\, r_{116} - \\frac{1}{2} \\, \\sqrt{r_{116}^{2} + 4 \\, r_{117}}, t_{n} = 1\\right]\\right]</script></html>"
      ],
      "text/plain": [
       "[[A_1 == r101, A_2 == r102, A_3 == 0, B_2 == r103, B_3 == 0, C_4 == 0, C_5 == 0, t_n == r104], [A_1 == r105, A_2 == r106, A_3 == r107, B_2 == -1, B_3 == 0, C_4 == 0, C_5 == 0, t_n == r108], [A_1 == r109, A_2 == r109, A_3 == 0, B_2 == 0, B_3 == r110, C_4 == 0, C_5 == r110, t_n == r111], [A_1 == -(2*r112 - (r113^2 - sqrt(r113^2 + 4*r114)*r113 + 2*r114)*(r112 - 1)/r114)/((r113^2 - sqrt(r113^2 + 4*r114)*r113 + 2*r114)/r114 - 2), A_2 == r112, A_3 == 2*(r113^2 - sqrt(r113^2 + 4*r114)*r113 + 2*r114)*r113/(r114*((r113^2 - sqrt(r113^2 + 4*r114)*r113 + 2*r114)^2/r114^2 - 4*(r113^2 - sqrt(r113^2 + 4*r114)*r113 + 2*r114)/r114 + 4)), B_2 == -1/2*(r113^2 - sqrt(r113^2 + 4*r114)*r113 + 2*r114)/r114, B_3 == r113, C_4 == r114, C_5 == 1/2*r113 + 1/2*sqrt(r113^2 + 4*r114), t_n == 1], [A_1 == -(2*r115 - (r116^2 + sqrt(r116^2 + 4*r117)*r116 + 2*r117)*(r115 - 1)/r117)/((r116^2 + sqrt(r116^2 + 4*r117)*r116 + 2*r117)/r117 - 2), A_2 == r115, A_3 == 2*(r116^2 + sqrt(r116^2 + 4*r117)*r116 + 2*r117)*r116/(r117*((r116^2 + sqrt(r116^2 + 4*r117)*r116 + 2*r117)^2/r117^2 - 4*(r116^2 + sqrt(r116^2 + 4*r117)*r116 + 2*r117)/r117 + 4)), B_2 == -1/2*(r116^2 + sqrt(r116^2 + 4*r117)*r116 + 2*r117)/r117, B_3 == r116, C_4 == r117, C_5 == 1/2*r116 - 1/2*sqrt(r116^2 + 4*r117), t_n == 1]]"
      ]
     },
     "metadata": {},
     "output_type": "display_data"
    }
   ],
   "source": [
    "var('t_n')\n",
    "system = [ \n",
    "           A_3 * t_n * (B_2 + 1) + B_3 - C_5 \n",
    "         , B_3 - C_5 * (B_2 + 1) \n",
    "         , B_3 * B_2 + (B_2 + 1)**2 * A_3 \n",
    "         , A_3 * B_3 - C_4 \n",
    "         , B_3 * (A_1 - A_2) - A_3 * (B_2 + 1)\n",
    "         ]\n",
    "sols = solve_system(system, ABC_vars + s_all + [t_n])\n",
    "\n",
    "show(sols)"
   ]
  },
  {
   "cell_type": "code",
   "execution_count": 6,
   "metadata": {},
   "outputs": [
    {
     "data": {
      "text/html": [
       "<html><script type=\"math/tex; mode=display\">\\newcommand{\\Bold}[1]{\\mathbf{#1}}\\left[\\left[A_{1} = -\\frac{r_{5}}{r_{5} + 1}, A_{2} = 0, A_{\\mathit{10}_{0}} = \\frac{1}{r_{5} + 1}, B_{1} = {\\left(r_{5} + 1\\right)} r_{6}, B_{2} = r_{5}, B_{5_{0}} = r_{5} + 1, C_{\\mathit{10}_{0}} = r_{6}, C_{\\mathit{11}_{0}} = 1\\right], \\left[A_{1} = -\\frac{r_{8}}{r_{8} + 1}, A_{2} = 0, A_{\\mathit{10}_{0}} = 0, B_{1} = r_{7}, B_{2} = r_{8}, B_{5_{0}} = 0, C_{\\mathit{10}_{0}} = 0, C_{\\mathit{11}_{0}} = 0\\right]\\right]</script></html>"
      ],
      "text/plain": [
       "[[A_1 == -r5/(r5 + 1), A_2 == 0, A_10_0 == (1/(r5 + 1)), B_1 == (r5 + 1)*r6, B_2 == r5, B_5_0 == r5 + 1, C_10_0 == r6, C_11_0 == 1], [A_1 == -r8/(r8 + 1), A_2 == 0, A_10_0 == 0, B_1 == r7, B_2 == r8, B_5_0 == 0, C_10_0 == 0, C_11_0 == 0]]"
      ]
     },
     "metadata": {},
     "output_type": "display_data"
    }
   ],
   "source": [
    "#a = defvars(\"A\",12)\n",
    "#b = defvars(\"B\",6)\n",
    "#c = defvars(\"C\",12)\n",
    "#allvars = a + b + c \n",
    "\n",
    "system = [ \n",
    "    \n",
    "           # alpha * beta\n",
    "           (A_2 + A_1 + 1) * (B_2 + 1) - 1\n",
    "    \n",
    "          #, B_3 + (B_2 + 1) ** 2 * A_2\n",
    "#\n",
    "          ## \\gamma\n",
    "          #, A_3 * B_1 - C_3\n",
    "#\n",
    "          ## t(x) related\n",
    "          #, A_3 * B_3 - C_4\n",
    "          #, B_3 - C_5 * (B_2 + 1)\n",
    "          #, A_3 * (B_2 + 1) - C_5\n",
    "             \n",
    "         # Four \\mu related\n",
    "         , A_10_0 * B_5_0 - C_11_0\n",
    "          , C_11_0 - B_5_0 / (B_2 + 1)\n",
    "          , C_11_0 - A_10_0 * (B_2 + 1) - B_5_0 * A_2\n",
    "          , A_10_0 * B_1 - C_10_0\n",
    "          \n",
    "          # C_11 guess\n",
    "          #, C_11 - (B_2+1) ** 2\n",
    "          #, C_11 ((B_2 + 1)^2 - (A_1 + 1)*(B_2 + 1) + 1) - (B_2 + 1) ** 4\n",
    "\n",
    "#          # Extra assumptions\n",
    "        #  , B_1\n",
    "        #  , C_3\n",
    "        #, A_1\n",
    "        , A_2\n",
    "         ]\n",
    "sols = solve_system(system, ABC_vars) # [A_0,B_2]) # ABC_vars + s_all + [t_n,A_10,B_5,C_10,C_11])\n",
    "\n",
    "\n",
    "show(sols)"
   ]
  },
  {
   "cell_type": "code",
   "execution_count": 13,
   "metadata": {},
   "outputs": [
    {
     "name": "stdout",
     "output_type": "stream",
     "text": [
      "[D == 5, T == -9901/100000*r25 - 99/10000*r26 + 1/100000*r27 + 1/5*r28 + 1/1000*r29 - 1/1000*r31 + 1/50*r32 + 200001/20000, A == r32, B == r31, O == r30, N == r29, L == r28, G == r27, E == r26, R == r25]\n"
     ]
    }
   ],
   "source": [
    "curvars = var(\"D,T,A,B,O,N,L,G,E,R\")\n",
    "\n",
    "def toBase(vs):\n",
    "    return sum(map(lambda (x,i): x * 10 ** i, zip(vs, range(0,len(vs)))))\n",
    "\n",
    "sols = solve([toBase([D,O,N,A,L,D]) + toBase([G,E,R,A,L,D]) - toBase([R,O,B,E,R,T]), D - 5], curvars)\n",
    "print(sols[0])"
   ]
  },
  {
   "cell_type": "code",
   "execution_count": 32,
   "metadata": {},
   "outputs": [
    {
     "name": "stdout",
     "output_type": "stream",
     "text": [
      "[\n",
      "[B_2 == 1/2*r183 + 1/2*sqrt(r183^2 + 2*r183 - 3) - 1/2, A_1 == r183],\n",
      "[B_2 == 1/2*r184 - 1/2*sqrt(r184^2 + 2*r184 - 3) - 1/2, A_1 == r184]\n",
      "]\n"
     ]
    }
   ],
   "source": [
    "abvars = var(\"B_2,A_1\")\n",
    "\n",
    "sols = solve([(B_2+1)**2 - (A_1+1)*(B_2+1) + 1],abvars)\n",
    "print(sols)"
   ]
  },
  {
   "cell_type": "code",
   "execution_count": 13,
   "metadata": {
    "scrolled": true
   },
   "outputs": [
    {
     "data": {
      "text/html": [
       "<html><script type=\"math/tex; mode=display\">\\newcommand{\\Bold}[1]{\\mathbf{#1}}-\\frac{\\gamma^{2} {\\left(r - 1\\right)}^{2} t^{2}}{r^{2}} + \\frac{{\\left(\\alpha + \\beta\\right)} \\gamma {\\left(r - 1\\right)} t}{r} - {\\left(\\gamma {\\left(r - 1\\right)} t - \\beta {\\left(r - 1\\right)} - \\mu r - \\alpha\\right)} {\\left(\\beta + \\mu - \\frac{\\beta {\\left(r - 1\\right)}}{r} - \\frac{\\gamma {\\left(r - 1\\right)} t}{r^{2}}\\right)} - \\alpha \\beta - {\\left(\\alpha + \\beta\\right)} \\mu - \\mu^{2} - 2 \\, z</script></html>"
      ],
      "text/plain": [
       "-gamma^2*(r - 1)^2*t^2/r^2 + (alpha + beta)*gamma*(r - 1)*t/r - (gamma*(r - 1)*t - beta*(r - 1) - mu*r - alpha)*(beta + mu - beta*(r - 1)/r - gamma*(r - 1)*t/r^2) - alpha*beta - (alpha + beta)*mu - mu^2 - 2*z"
      ]
     },
     "metadata": {},
     "output_type": "display_data"
    }
   ],
   "source": [
    "var('alpha,beta,gamma,t,mu,r,z')\n",
    "\n",
    "A = (r-1)*beta + (1-r)*gamma*t + r * mu\n",
    "B = (1 - r) / r * beta + (1 - r) / (r**2) * gamma * t + mu\n",
    "C = (r-1)**2 / (r**2) * gamma**2 * t**2 + (1 - r) / r * (alpha + beta) * gamma * t + r (mu**2 + (alpha + beta) * mu + z)\n",
    "\n",
    "show((A + alpha) * (B + beta) - alpha * beta - z - C)"
   ]
  },
  {
   "cell_type": "code",
   "execution_count": null,
   "metadata": {},
   "outputs": [],
   "source": [
    "var('gamma,t,r_1,r_2,alpha,beta,x,w_1,w_2,f_1,f_2')"
   ]
  }
 ],
 "metadata": {
  "kernelspec": {
   "display_name": "SageMath 8.8",
   "language": "sagemath",
   "name": "sagemath"
  },
  "language_info": {
   "codemirror_mode": {
    "name": "ipython",
    "version": 2
   },
   "file_extension": ".py",
   "mimetype": "text/x-python",
   "name": "python",
   "nbconvert_exporter": "python",
   "pygments_lexer": "ipython2",
   "version": "2.7.17"
  }
 },
 "nbformat": 4,
 "nbformat_minor": 2
}
